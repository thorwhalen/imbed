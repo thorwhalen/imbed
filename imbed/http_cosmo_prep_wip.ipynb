{
 "cells": [
  {
   "cell_type": "code",
   "execution_count": null,
   "metadata": {},
   "outputs": [],
   "source": []
  },
  {
   "cell_type": "code",
   "execution_count": null,
   "metadata": {},
   "outputs": [],
   "source": []
  },
  {
   "cell_type": "markdown",
   "metadata": {},
   "source": [
    "# Testing services"
   ]
  },
  {
   "cell_type": "markdown",
   "metadata": {},
   "source": [
    "## `_01_embeddings`"
   ]
  },
  {
   "cell_type": "code",
   "execution_count": 3,
   "metadata": {},
   "outputs": [
    {
     "name": "stdout",
     "output_type": "stream",
     "text": [
      "Status Code: 200\n",
      "Model used: text-embedding-ada-002\n",
      "Embedding dimensions: 1536\n",
      "First few values: [-0.023076197132468224, 0.0004667885659728199, -0.0064190831035375595, -0.0013034531148150563, 0.000989439431577921]\n"
     ]
    },
    {
     "data": {
      "text/plain": [
       "<Response [200]>"
      ]
     },
     "execution_count": 3,
     "metadata": {},
     "output_type": "execute_result"
    }
   ],
   "source": [
    "import requests\n",
    "import json\n",
    "\n",
    "BASE_URL = \"http://localhost:8000\"\n",
    "\n",
    "def test_single_text_embedding():\n",
    "    \"\"\"Test embedding a single text string.\"\"\"\n",
    "    url = f\"{BASE_URL}/embeddings\"\n",
    "    payload = {\n",
    "        \"texts\": \"This is a sample text for embedding.\",\n",
    "        \"model\": \"text-embedding-ada-002\",  # Use default model if this doesn't work\n",
    "        \"dimensions\": None,  # Optional: specify a smaller dimension if needed\n",
    "        \"validate\": True\n",
    "    }\n",
    "    \n",
    "    response = requests.post(url, json=payload)\n",
    "    \n",
    "    print(f\"Status Code: {response.status_code}\")\n",
    "    if response.status_code == 200:\n",
    "        result = response.json()\n",
    "        print(\"Model used:\", result[\"model\"])\n",
    "        print(\"Embedding dimensions:\", len(result[\"data\"]))\n",
    "        print(\"First few values:\", result[\"data\"][:5])\n",
    "    else:\n",
    "        print(\"Error:\", response.text)\n",
    "    \n",
    "    return response\n",
    "\n",
    "test_single_text_embedding()"
   ]
  },
  {
   "cell_type": "code",
   "execution_count": 1,
   "metadata": {},
   "outputs": [
    {
     "name": "stdout",
     "output_type": "stream",
     "text": [
      "Testing Embeddings API...\n",
      "=========================\n",
      "Status Code: 200\n",
      "Model used: text-embedding-ada-002\n",
      "Embedding dimensions: 1536\n",
      "First few values: [-0.02304857224225998, 0.0004295369435567409, -0.006391848437488079, -0.001323735574260354, 0.0010258103720843792]\n",
      "\n",
      "Status Code: 200\n",
      "Model used: text-embedding-3-small\n",
      "Number of embeddings: 3\n",
      "Dimensions of first embedding: 1536\n",
      "\n",
      "Status Code: 200\n",
      "Model used: text-embedding-3-small\n",
      "Number of keys in response: 3\n",
      "Keys in response: ['doc1', 'doc2', 'doc3']\n",
      "\n",
      "Status Code: 200\n",
      "Available models (54):\n",
      "  - gpt-4.5-preview\n",
      "  - gpt-4.5-preview-2025-02-27\n",
      "  - gpt-4o-mini-2024-07-18\n",
      "  - gpt-4-0125-preview\n",
      "  - gpt-4o-mini-audio-preview-2024-12-17\n",
      "  - dall-e-3\n",
      "  - dall-e-2\n",
      "  - gpt-4-turbo-preview\n",
      "  - gpt-4o-audio-preview-2024-10-01\n",
      "  - gpt-4o-audio-preview\n",
      "  - gpt-4o-mini-realtime-preview-2024-12-17\n",
      "  - gpt-4o-mini-realtime-preview\n",
      "  - o1-mini-2024-09-12\n",
      "  - o1-mini\n",
      "  - omni-moderation-latest\n",
      "  - gpt-4o-mini-audio-preview\n",
      "  - omni-moderation-2024-09-26\n",
      "  - whisper-1\n",
      "  - gpt-4o-realtime-preview-2024-10-01\n",
      "  - babbage-002\n",
      "  - chatgpt-4o-latest\n",
      "  - tts-1-hd-1106\n",
      "  - text-embedding-3-large\n",
      "  - gpt-4o-audio-preview-2024-12-17\n",
      "  - gpt-4\n",
      "  - gpt-4o-2024-05-13\n",
      "  - tts-1-hd\n",
      "  - o1-preview\n",
      "  - o1-preview-2024-09-12\n",
      "  - gpt-4o-2024-11-20\n",
      "  - gpt-3.5-turbo-instruct-0914\n",
      "  - tts-1\n",
      "  - tts-1-1106\n",
      "  - davinci-002\n",
      "  - gpt-3.5-turbo-1106\n",
      "  - gpt-4-turbo\n",
      "  - gpt-3.5-turbo-instruct\n",
      "  - o1\n",
      "  - gpt-4o-2024-08-06\n",
      "  - gpt-3.5-turbo-0125\n",
      "  - gpt-4o-realtime-preview-2024-12-17\n",
      "  - gpt-3.5-turbo\n",
      "  - gpt-4-turbo-2024-04-09\n",
      "  - gpt-4o-realtime-preview\n",
      "  - gpt-3.5-turbo-16k\n",
      "  - gpt-4o\n",
      "  - text-embedding-3-small\n",
      "  - gpt-4-1106-preview\n",
      "  - text-embedding-ada-002\n",
      "  - gpt-4-0613\n",
      "  - gpt-4o-mini\n",
      "  - o1-2024-12-17\n",
      "  - o3-mini-2025-01-31\n",
      "  - o3-mini\n",
      "\n",
      "Status Code: 200\n",
      "Information for model 'text-embedding-ada-002':\n",
      "  price_per_million_tokens: 0.1\n",
      "  pages_per_dollar: 12500\n",
      "  performance_on_mteb_eval: 61.0\n",
      "  max_input: 8191\n",
      "\n",
      "All tests completed!\n"
     ]
    }
   ],
   "source": [
    "\"\"\"Test script for the Embeddings API using Python requests.\"\"\"\n",
    "\n",
    "import requests\n",
    "import json\n",
    "\n",
    "BASE_URL = \"http://localhost:8000\"\n",
    "\n",
    "def test_single_text_embedding():\n",
    "    \"\"\"Test embedding a single text string.\"\"\"\n",
    "    url = f\"{BASE_URL}/embeddings\"\n",
    "    payload = {\n",
    "        \"texts\": \"This is a sample text for embedding.\",\n",
    "        \"model\": \"text-embedding-ada-002\",  # Use default model if this doesn't work\n",
    "        \"dimensions\": None,  # Optional: specify a smaller dimension if needed\n",
    "        \"validate\": True\n",
    "    }\n",
    "    \n",
    "    response = requests.post(url, json=payload)\n",
    "    \n",
    "    print(f\"Status Code: {response.status_code}\")\n",
    "    if response.status_code == 200:\n",
    "        result = response.json()\n",
    "        print(\"Model used:\", result[\"model\"])\n",
    "        print(\"Embedding dimensions:\", len(result[\"data\"]))\n",
    "        print(\"First few values:\", result[\"data\"][:5])\n",
    "    else:\n",
    "        print(\"Error:\", response.text)\n",
    "    \n",
    "    return response\n",
    "\n",
    "\n",
    "def test_multiple_texts_embedding():\n",
    "    \"\"\"Test embedding multiple text strings.\"\"\"\n",
    "    url = f\"{BASE_URL}/embeddings\"\n",
    "    payload = {\n",
    "        \"texts\": [\n",
    "            \"First sample text for embedding.\",\n",
    "            \"Second sample with different content.\",\n",
    "            \"Third example with unique words.\"\n",
    "        ],\n",
    "        \"batch_size\": 10  # Small batch size for testing\n",
    "    }\n",
    "    \n",
    "    response = requests.post(url, json=payload)\n",
    "    \n",
    "    print(f\"\\nStatus Code: {response.status_code}\")\n",
    "    if response.status_code == 200:\n",
    "        result = response.json()\n",
    "        print(\"Model used:\", result[\"model\"])\n",
    "        print(\"Number of embeddings:\", len(result[\"data\"]))\n",
    "        print(\"Dimensions of first embedding:\", len(result[\"data\"][0]))\n",
    "    else:\n",
    "        print(\"Error:\", response.text)\n",
    "    \n",
    "    return response\n",
    "\n",
    "\n",
    "def test_dict_texts_embedding():\n",
    "    \"\"\"Test embedding a dictionary of text strings.\"\"\"\n",
    "    url = f\"{BASE_URL}/embeddings\"\n",
    "    payload = {\n",
    "        \"texts\": {\n",
    "            \"doc1\": \"First document with some content.\",\n",
    "            \"doc2\": \"Second document with different content.\",\n",
    "            \"doc3\": \"Third document with more variety.\"\n",
    "        }\n",
    "    }\n",
    "    \n",
    "    response = requests.post(url, json=payload)\n",
    "    \n",
    "    print(f\"\\nStatus Code: {response.status_code}\")\n",
    "    if response.status_code == 200:\n",
    "        result = response.json()\n",
    "        print(\"Model used:\", result[\"model\"])\n",
    "        print(\"Number of keys in response:\", len(result[\"data\"]))\n",
    "        print(\"Keys in response:\", list(result[\"data\"].keys()))\n",
    "    else:\n",
    "        print(\"Error:\", response.text)\n",
    "    \n",
    "    return response\n",
    "\n",
    "\n",
    "def test_list_models():\n",
    "    \"\"\"Test retrieving available models.\"\"\"\n",
    "    url = f\"{BASE_URL}/models\"\n",
    "    \n",
    "    response = requests.get(url)\n",
    "    \n",
    "    print(f\"\\nStatus Code: {response.status_code}\")\n",
    "    if response.status_code == 200:\n",
    "        models = response.json()\n",
    "        print(f\"Available models ({len(models)}):\")\n",
    "        for model in models:\n",
    "            print(f\"  - {model}\")\n",
    "    else:\n",
    "        print(\"Error:\", response.text)\n",
    "    \n",
    "    return response\n",
    "\n",
    "\n",
    "def test_model_info():\n",
    "    \"\"\"Test retrieving model information.\"\"\"\n",
    "    model_name = \"text-embedding-ada-002\"  # Use a model you know exists\n",
    "    url = f\"{BASE_URL}/model-info/{model_name}\"\n",
    "    \n",
    "    response = requests.get(url)\n",
    "    \n",
    "    print(f\"\\nStatus Code: {response.status_code}\")\n",
    "    if response.status_code == 200:\n",
    "        info = response.json()\n",
    "        print(f\"Information for model '{model_name}':\")\n",
    "        for key, value in info.items():\n",
    "            print(f\"  {key}: {value}\")\n",
    "    else:\n",
    "        print(\"Error:\", response.text)\n",
    "    \n",
    "    return response\n",
    "\n",
    "\n",
    "if __name__ == \"__main__\":\n",
    "    print(\"Testing Embeddings API...\")\n",
    "    print(\"=========================\")\n",
    "    \n",
    "    # Run the tests\n",
    "    single_resp = test_single_text_embedding()\n",
    "    multiple_resp = test_multiple_texts_embedding()\n",
    "    dict_resp = test_dict_texts_embedding()\n",
    "    models_resp = test_list_models()\n",
    "    model_info_resp = test_model_info()\n",
    "    \n",
    "    print(\"\\nAll tests completed!\")"
   ]
  },
  {
   "cell_type": "code",
   "execution_count": null,
   "metadata": {},
   "outputs": [],
   "source": []
  },
  {
   "cell_type": "markdown",
   "metadata": {},
   "source": [
    "# Composite store"
   ]
  },
  {
   "cell_type": "code",
   "execution_count": null,
   "metadata": {},
   "outputs": [],
   "source": [
    "from typing import Mapping, MutableMapping\n",
    "from dataclasses import dataclass\n",
    "\n",
    "metas = dict()\n",
    "blobs = dict()\n",
    "\n",
    "@dataclass\n",
    "class Contents():\n",
    "    metas: MutableMapping\n",
    "    \n"
   ]
  },
  {
   "cell_type": "code",
   "execution_count": null,
   "metadata": {},
   "outputs": [
    {
     "data": {
      "text/plain": [
       "<function oa.base.embeddings(texts: Union[str, Iterable[str], Mapping[~KT, str]], *, input: 'Union[str, List[str], Iterable[int], Iterable[Iterable[int]]]', batch_size: Optional[int] = 2048, egress: Optional[str] = None, batch_callback: Optional[Callable[[int, List[list]], Any]] = None, validate: Union[bool, Callable, NoneType] = True, valid_text_getter=<function _raise_if_any_invalid at 0x1171e3490>, model='text-embedding-3-small', client=None, dimensions: Optional[int] = NOT_GIVEN, encoding_format: \"Literal['float', 'base64'] | NotGiven\" = NOT_GIVEN, user: 'str | NotGiven' = NOT_GIVEN, extra_headers: 'Headers | None' = None, extra_query: 'Query | None' = None, extra_body: 'Body | None' = None, timeout: 'float | httpx.Timeout | None | NotGiven' = NOT_GIVEN)>"
      ]
     },
     "execution_count": 13,
     "metadata": {},
     "output_type": "execute_result"
    }
   ],
   "source": [
    "import oa\n",
    "\n",
    "oa.embeddings\n",
    "\n",
    "\n"
   ]
  },
  {
   "cell_type": "code",
   "execution_count": null,
   "metadata": {},
   "outputs": [],
   "source": []
  },
  {
   "cell_type": "code",
   "execution_count": null,
   "metadata": {},
   "outputs": [],
   "source": []
  },
  {
   "cell_type": "code",
   "execution_count": null,
   "metadata": {},
   "outputs": [],
   "source": []
  },
  {
   "cell_type": "code",
   "execution_count": null,
   "metadata": {},
   "outputs": [],
   "source": []
  },
  {
   "cell_type": "code",
   "execution_count": null,
   "metadata": {},
   "outputs": [],
   "source": []
  },
  {
   "cell_type": "code",
   "execution_count": null,
   "metadata": {},
   "outputs": [],
   "source": []
  },
  {
   "cell_type": "code",
   "execution_count": null,
   "metadata": {},
   "outputs": [],
   "source": []
  },
  {
   "cell_type": "code",
   "execution_count": null,
   "metadata": {},
   "outputs": [],
   "source": []
  },
  {
   "cell_type": "code",
   "execution_count": null,
   "metadata": {},
   "outputs": [],
   "source": []
  },
  {
   "cell_type": "markdown",
   "metadata": {},
   "source": [
    "# Scrap: Mongodol work"
   ]
  },
  {
   "cell_type": "code",
   "execution_count": 1,
   "metadata": {},
   "outputs": [
    {
     "data": {
      "text/plain": [
       "['MongoClientReader',\n",
       " 'MongoCollectionFirstDocPersister',\n",
       " 'MongoCollectionFirstDocReader',\n",
       " 'MongoCollectionMultipleDocsPersister',\n",
       " 'MongoCollectionMultipleDocsReader',\n",
       " 'MongoCollectionPersister',\n",
       " 'MongoCollectionReader',\n",
       " 'MongoCollectionUniqueDocPersister',\n",
       " 'MongoCollectionUniqueDocReader',\n",
       " 'MongoDbReader',\n",
       " '__builtins__',\n",
       " '__cached__',\n",
       " '__doc__',\n",
       " '__file__',\n",
       " '__loader__',\n",
       " '__name__',\n",
       " '__package__',\n",
       " '__path__',\n",
       " '__spec__',\n",
       " 'base',\n",
       " 'constants',\n",
       " 'get_mongo_collection_pymongo_obj',\n",
       " 'get_test_collection_persister',\n",
       " 'mk_dflt_mgc',\n",
       " 'normalize_projection',\n",
       " 'stores',\n",
       " 'tests',\n",
       " 'trans',\n",
       " 'util']"
      ]
     },
     "execution_count": 1,
     "metadata": {},
     "output_type": "execute_result"
    }
   ],
   "source": [
    "import mongodol \n",
    "\n",
    "dir(mongodol)"
   ]
  },
  {
   "cell_type": "code",
   "execution_count": null,
   "metadata": {},
   "outputs": [],
   "source": []
  },
  {
   "cell_type": "code",
   "execution_count": null,
   "metadata": {},
   "outputs": [],
   "source": []
  },
  {
   "cell_type": "code",
   "execution_count": null,
   "metadata": {},
   "outputs": [],
   "source": []
  },
  {
   "cell_type": "code",
   "execution_count": null,
   "metadata": {},
   "outputs": [],
   "source": []
  }
 ],
 "metadata": {
  "kernelspec": {
   "display_name": "p10",
   "language": "python",
   "name": "python3"
  },
  "language_info": {
   "codemirror_mode": {
    "name": "ipython",
    "version": 3
   },
   "file_extension": ".py",
   "mimetype": "text/x-python",
   "name": "python",
   "nbconvert_exporter": "python",
   "pygments_lexer": "ipython3",
   "version": "3.10.13"
  }
 },
 "nbformat": 4,
 "nbformat_minor": 2
}
