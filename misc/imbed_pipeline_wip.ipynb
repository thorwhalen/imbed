{
 "cells": [
  {
   "cell_type": "code",
   "execution_count": null,
   "metadata": {},
   "outputs": [],
   "source": []
  },
  {
   "cell_type": "markdown",
   "metadata": {},
   "source": [
    "\n",
    "\n",
    "- [Streamlining for-search data prep](https://github.com/thorwhalen/imbed/discussions/5)\n",
    "\n",
    "\n",
    "\n",
    "```python\n",
    "from functools import partial, cached_property\n",
    "from dataclasses import dataclass\n",
    "from typing import Mapping, Callable, MutableMapping\n",
    "\n",
    "class Imbed:\n",
    "    docs: Mapping = None\n",
    "    segments: MutableMapping = None\n",
    "    embedder: Callable = None\n",
    "\n",
    "raw_docs = mk_text_store(doc_src_uri)  # the store used will depend on the source and format of where the docs are stored\n",
    "segments = mk_segments_store(raw_docs, ...)  # will not copy any data over, but will give a key-value view of chunked (split) docs\n",
    "search_ctrl = mk_search_controller(vectorDB, embedder, ...)\n",
    "search_ctrl.fit(segments, doc_src_uri, ...)\n",
    "search_ctrl.save(...)\n",
    "```\n"
   ]
  },
  {
   "cell_type": "markdown",
   "metadata": {},
   "source": [
    "# Imbed knowledge base"
   ]
  },
  {
   "cell_type": "code",
   "execution_count": 2,
   "metadata": {},
   "outputs": [
    {
     "name": "stderr",
     "output_type": "stream",
     "text": [
      "Cloning into '/var/folders/mc/c070wfh51kxd9lft8dl74q1r0000gn/T/tmp09c4oaun'...\n",
      "Cloning into '/var/folders/mc/c070wfh51kxd9lft8dl74q1r0000gn/T/tmp86ib1h_7'...\n",
      "remote: Repository not found.\n",
      "fatal: repository 'https://github.com/thorwhalen/imbed.wiki.git/' not found\n",
      "/Users/thorwhalen/Dropbox/py/proj/t/hubcap/hubcap/util.py:280: UserWarning: It's possible that the repository doesn't have a wiki. Error: Command 'git clone https://github.com/thorwhalen/imbed.wiki.git /var/folders/mc/c070wfh51kxd9lft8dl74q1r0000gn/T/tmp86ib1h_7' returned non-zero exit status 128.\n",
      "  warn(f\"It's possible that the repository doesn't have a wiki. Error: {e}\")\n"
     ]
    },
    {
     "data": {
      "text/plain": [
       "83110"
      ]
     },
     "execution_count": 2,
     "metadata": {},
     "output_type": "execute_result"
    }
   ],
   "source": [
    "from hubcap import repo_text_aggregate\n",
    "from pathlib import Path\n",
    "\n",
    "string = repo_text_aggregate('thorwhalen/imbed')\n",
    "Path('/Users/thorwhalen/Dropbox/_odata/ai_contexts/i2i/imbed.md').write_text(string)"
   ]
  },
  {
   "cell_type": "code",
   "execution_count": 6,
   "metadata": {},
   "outputs": [],
   "source": []
  },
  {
   "cell_type": "markdown",
   "metadata": {},
   "source": [
    "# Helpers"
   ]
  },
  {
   "cell_type": "code",
   "execution_count": null,
   "metadata": {},
   "outputs": [],
   "source": [
    "\n"
   ]
  },
  {
   "cell_type": "markdown",
   "metadata": {},
   "source": [
    "## Facades"
   ]
  },
  {
   "cell_type": "code",
   "execution_count": null,
   "metadata": {},
   "outputs": [],
   "source": [
    "from typing import Mapping, Iterable\n",
    "\n",
    "\n",
    "def get_kv_items(obj, args=(), kwargs=()):\n",
    "    \"\"\"Generate key-value pairs from an object.\n",
    "    \n",
    "    The object can be a mapping (like a dictionary) or an iterable (like a list).\n",
    "    If the object is a mapping, the key-value pairs are yielded from the items\n",
    "    of the mapping. If the object is an iterable, the key-value pairs are yielded\n",
    "    from the elements of the iterable, with the keys being the indices of the\n",
    "    elements.\n",
    "\n",
    "    \"\"\"\n",
    "    kwargs = dict(kwargs)\n",
    "    if isinstance(obj, Mapping):\n",
    "        yield from obj.items()\n",
    "    elif isinstance(obj, Iterable):\n",
    "        yield from enumerate(obj, *args, **kwargs)\n",
    "    else:\n",
    "        raise ValueError(\n",
    "            f\"Object of type {type(obj)} is not supported, like your {obj=}.\"\n",
    "        )"
   ]
  },
  {
   "cell_type": "code",
   "execution_count": null,
   "metadata": {},
   "outputs": [],
   "source": []
  },
  {
   "cell_type": "code",
   "execution_count": null,
   "metadata": {},
   "outputs": [],
   "source": []
  },
  {
   "cell_type": "markdown",
   "metadata": {},
   "source": [
    "# A base Dacc for imbed pipelines"
   ]
  },
  {
   "cell_type": "code",
   "execution_count": 41,
   "metadata": {},
   "outputs": [],
   "source": [
    "# from imbed.base import ImbedBase\n",
    "from typing import Callable, T\n",
    "from imbed.base import TextMapping, MetadataMapping, SegmentMapping, VectorMapping, PlanarVectorMapping\n",
    "from dol import cache_this\n",
    "\n",
    "def identity(x: T) -> T:\n",
    "    return x\n",
    "\n",
    "\n",
    "from functools import partial\n",
    "\n",
    "cache_result = partial(cache_this, cache='cache')\n",
    "\n",
    "class ImbedDaccBase:\n",
    "    cache = {}\n",
    "\n",
    "    text_to_segment: Callable[[TextMapping], SegmentMapping] = identity\n",
    "    segment_to_vector: Callable[[SegmentMapping], VectorMapping] = None\n",
    "    vector_to_planar_vector: Callable[[VectorMapping], PlanarVectorMapping] = None\n",
    "\n",
    "    def download_data(self, uri):\n",
    "        \"\"\"Initial download of data from the source\"\"\"\n",
    "\n",
    "    @cache_result\n",
    "    def texts(self):\n",
    "        \"\"\"key-value view (i.e. Mapping) of the text data\"\"\"\n",
    "        \n",
    "    @cache_result\n",
    "    def text_metadatas(self):\n",
    "        \"\"\"Mapping of the metadata of the text data.\n",
    "\n",
    "        The keys of texts and text_metadatas mappings should be the same\n",
    "        \"\"\"\n",
    "\n",
    "    @cache_result\n",
    "    def text_segments(self):\n",
    "        \"\"\"Mapping of the segments of text data.\n",
    "\n",
    "        Could be computed on the fly from the text_store and a segmentation algorithm, \n",
    "        or precomputed and stored in a separate key-value store.\n",
    "\n",
    "        Preferably, the key of the text store should be able to be computed from key \n",
    "        of the text_segments store, and even contain the information necessary to \n",
    "        extract the segment from the corresponding text store value.\n",
    "\n",
    "        Note that the imbed.segmentation.SegmentMapping class can be used to\n",
    "        create a mapping between the text store and the text segments store.\n",
    "        \"\"\"\n",
    "        return self.text_to_segment(self.texts)\n",
    "\n",
    "\n",
    "    @cache_result\n",
    "    def segment_vectors(self):\n",
    "        \"\"\"Mapping of the vectors (embeddings) of the segments of text data.\n",
    "\n",
    "        The keys of the segment_vectors store should be the same as the keys of the \n",
    "        text_segments store.\n",
    "\n",
    "        Could be computed on the fly from the text_segments and a vectorization algorithm, \n",
    "        or precomputed and stored in a separate key-value store.\n",
    "\n",
    "        Preferably, the key of the text_segments store should be able to be computed from key \n",
    "        of the segment_vectors store, and even contain the information necessary to \n",
    "        extract the segment from the corresponding text segments store value.\n",
    "\n",
    "        Note that the imbed.vectorization.VectorMapping class can be used to\n",
    "        create a mapping between the text segments store and the segment_vectors store.\n",
    "        \"\"\"\n",
    "        \n",
    "    @cache_result\n",
    "    def segment_2d_vectors(self):\n",
    "        \"\"\"Mapping of the 2D vectors of the segments of text data.\n",
    "\n",
    "        The keys of the segment_2d_vectors store should be the same as the keys of the \n",
    "        segment_vectors store.\n",
    "\n",
    "        Could be computed on the fly from the segment_vectors and a dimensionality reduction algorithm, \n",
    "        or precomputed and stored in a separate key-value store.\n",
    "\n",
    "        Preferably, the key of the segment_vectors store should be able to be computed from key \n",
    "        of the segment_2d_vectors store, and even contain the information necessary to \n",
    "        extract the segment from the corresponding segment_vectors store value.\n",
    "\n",
    "        Note that the imbed.dimensionality_reduction.DimensionalityReductionMapping class can be used to\n",
    "        create a mapping between the segment_vectors store and the segment_2d_vectors store.\n",
    "        \"\"\"\n",
    "        \n"
   ]
  },
  {
   "cell_type": "code",
   "execution_count": 38,
   "metadata": {},
   "outputs": [],
   "source": [
    "from imbed.tests.utils_for_tests import *\n"
   ]
  },
  {
   "cell_type": "markdown",
   "metadata": {},
   "source": [
    "# Components"
   ]
  },
  {
   "cell_type": "code",
   "execution_count": 1,
   "metadata": {},
   "outputs": [
    {
     "name": "stderr",
     "output_type": "stream",
     "text": [
      "/Users/thorwhalen/Dropbox/py/proj/i/dols/unbox/unbox/base.py:186: UserWarning: Not a version that is validated by this code: 3.10. Yielding nothing\n",
      "  warnings.warn(\n",
      "/Users/thorwhalen/Dropbox/py/proj/i/dols/unbox/unbox/base.py:191: UserWarning: It seems I can't access the python builtin names data, so I'll yield nothing. Error: FileNotFoundError(2, 'No such file or directory')\n",
      "  warnings.warn(\n"
     ]
    }
   ],
   "source": [
    "import qo"
   ]
  },
  {
   "cell_type": "code",
   "execution_count": 2,
   "metadata": {},
   "outputs": [
    {
     "data": {
      "image/svg+xml": [
       "<?xml version=\"1.0\" encoding=\"UTF-8\" standalone=\"no\"?>\n",
       "<!DOCTYPE svg PUBLIC \"-//W3C//DTD SVG 1.1//EN\"\n",
       " \"http://www.w3.org/Graphics/SVG/1.1/DTD/svg11.dtd\">\n",
       "<!-- Generated by graphviz version 9.0.0 (20230911.1827)\n",
       " -->\n",
       "<!-- Pages: 1 -->\n",
       "<svg width=\"382pt\" height=\"764pt\"\n",
       " viewBox=\"0.00 0.00 382.00 764.00\" xmlns=\"http://www.w3.org/2000/svg\" xmlns:xlink=\"http://www.w3.org/1999/xlink\">\n",
       "<g id=\"graph0\" class=\"graph\" transform=\"scale(1 1) rotate(0) translate(4 760)\">\n",
       "<polygon fill=\"white\" stroke=\"none\" points=\"-4,4 -4,-760 378,-760 378,4 -4,4\"/>\n",
       "<!-- cached_src -->\n",
       "<g id=\"node1\" class=\"node\">\n",
       "<title>cached_src</title>\n",
       "<text text-anchor=\"middle\" x=\"261\" y=\"-588.95\" font-family=\"Times,serif\" font-size=\"14.00\">cached_src</text>\n",
       "</g>\n",
       "<!-- prep_src -->\n",
       "<g id=\"node6\" class=\"node\">\n",
       "<title>prep_src</title>\n",
       "<polygon fill=\"none\" stroke=\"black\" points=\"249.25,-540 186.75,-540 186.75,-504 249.25,-504 249.25,-540\"/>\n",
       "<text text-anchor=\"middle\" x=\"218\" y=\"-516.95\" font-family=\"Times,serif\" font-size=\"14.00\">prep_src</text>\n",
       "</g>\n",
       "<!-- cached_src&#45;&gt;prep_src -->\n",
       "<g id=\"edge4\" class=\"edge\">\n",
       "<title>cached_src&#45;&gt;prep_src</title>\n",
       "<path fill=\"none\" stroke=\"black\" d=\"M250.59,-576.05C245.8,-568.26 240,-558.82 234.63,-550.08\"/>\n",
       "<polygon fill=\"black\" stroke=\"black\" points=\"237.62,-548.25 229.4,-541.56 231.66,-551.92 237.62,-548.25\"/>\n",
       "</g>\n",
       "<!-- src_uri -->\n",
       "<g id=\"node2\" class=\"node\">\n",
       "<title>src_uri</title>\n",
       "<text text-anchor=\"middle\" x=\"261\" y=\"-732.95\" font-family=\"Times,serif\" font-size=\"14.00\">src_uri</text>\n",
       "</g>\n",
       "<!-- acquire_src -->\n",
       "<g id=\"node3\" class=\"node\">\n",
       "<title>acquire_src</title>\n",
       "<polygon fill=\"none\" stroke=\"black\" points=\"300.12,-684 221.88,-684 221.88,-648 300.12,-648 300.12,-684\"/>\n",
       "<text text-anchor=\"middle\" x=\"261\" y=\"-660.95\" font-family=\"Times,serif\" font-size=\"14.00\">acquire_src</text>\n",
       "</g>\n",
       "<!-- src_uri&#45;&gt;acquire_src -->\n",
       "<g id=\"edge2\" class=\"edge\">\n",
       "<title>src_uri&#45;&gt;acquire_src</title>\n",
       "<path fill=\"none\" stroke=\"black\" d=\"M261,-720.05C261,-712.68 261,-703.84 261,-695.51\"/>\n",
       "<polygon fill=\"black\" stroke=\"black\" points=\"264.5,-695.79 261,-685.79 257.5,-695.79 264.5,-695.79\"/>\n",
       "</g>\n",
       "<!-- acquire_src&#45;&gt;cached_src -->\n",
       "<g id=\"edge1\" class=\"edge\">\n",
       "<title>acquire_src&#45;&gt;cached_src</title>\n",
       "<path fill=\"none\" stroke=\"black\" d=\"M261,-647.7C261,-640.21 261,-631.26 261,-622.88\"/>\n",
       "<polygon fill=\"black\" stroke=\"black\" points=\"264.5,-623.14 261,-613.14 257.5,-623.14 264.5,-623.14\"/>\n",
       "</g>\n",
       "<!-- base_data -->\n",
       "<g id=\"node4\" class=\"node\">\n",
       "<title>base_data</title>\n",
       "<text text-anchor=\"middle\" x=\"218\" y=\"-444.95\" font-family=\"Times,serif\" font-size=\"14.00\">base_data</text>\n",
       "</g>\n",
       "<!-- segment_text -->\n",
       "<g id=\"node9\" class=\"node\">\n",
       "<title>segment_text</title>\n",
       "<polygon fill=\"none\" stroke=\"black\" points=\"217.38,-396 128.62,-396 128.62,-360 217.38,-360 217.38,-396\"/>\n",
       "<text text-anchor=\"middle\" x=\"173\" y=\"-372.95\" font-family=\"Times,serif\" font-size=\"14.00\">segment_text</text>\n",
       "</g>\n",
       "<!-- base_data&#45;&gt;segment_text -->\n",
       "<g id=\"edge7\" class=\"edge\">\n",
       "<title>base_data&#45;&gt;segment_text</title>\n",
       "<path fill=\"none\" stroke=\"black\" d=\"M207.11,-432.05C202.04,-424.18 195.9,-414.62 190.22,-405.79\"/>\n",
       "<polygon fill=\"black\" stroke=\"black\" points=\"193.28,-404.07 184.92,-397.55 187.39,-407.85 193.28,-404.07\"/>\n",
       "</g>\n",
       "<!-- prepper -->\n",
       "<g id=\"node5\" class=\"node\">\n",
       "<title>prepper</title>\n",
       "<text text-anchor=\"middle\" x=\"176\" y=\"-588.95\" font-family=\"Times,serif\" font-size=\"14.00\">prepper</text>\n",
       "</g>\n",
       "<!-- prepper&#45;&gt;prep_src -->\n",
       "<g id=\"edge5\" class=\"edge\">\n",
       "<title>prepper&#45;&gt;prep_src</title>\n",
       "<path fill=\"none\" stroke=\"black\" d=\"M186.17,-576.05C190.84,-568.26 196.51,-558.82 201.75,-550.08\"/>\n",
       "<polygon fill=\"black\" stroke=\"black\" points=\"204.71,-551.95 206.86,-541.57 198.71,-548.35 204.71,-551.95\"/>\n",
       "</g>\n",
       "<!-- prep_src&#45;&gt;base_data -->\n",
       "<g id=\"edge3\" class=\"edge\">\n",
       "<title>prep_src&#45;&gt;base_data</title>\n",
       "<path fill=\"none\" stroke=\"black\" d=\"M218,-503.7C218,-496.21 218,-487.26 218,-478.88\"/>\n",
       "<polygon fill=\"black\" stroke=\"black\" points=\"221.5,-479.14 218,-469.14 214.5,-479.14 221.5,-479.14\"/>\n",
       "</g>\n",
       "<!-- segments -->\n",
       "<g id=\"node7\" class=\"node\">\n",
       "<title>segments</title>\n",
       "<text text-anchor=\"middle\" x=\"173\" y=\"-300.95\" font-family=\"Times,serif\" font-size=\"14.00\">segments</text>\n",
       "</g>\n",
       "<!-- embed_segments -->\n",
       "<g id=\"node12\" class=\"node\">\n",
       "<title>embed_segments</title>\n",
       "<polygon fill=\"none\" stroke=\"black\" points=\"184.25,-252 73.75,-252 73.75,-216 184.25,-216 184.25,-252\"/>\n",
       "<text text-anchor=\"middle\" x=\"129\" y=\"-228.95\" font-family=\"Times,serif\" font-size=\"14.00\">embed_segments</text>\n",
       "</g>\n",
       "<!-- segments&#45;&gt;embed_segments -->\n",
       "<g id=\"edge10\" class=\"edge\">\n",
       "<title>segments&#45;&gt;embed_segments</title>\n",
       "<path fill=\"none\" stroke=\"black\" d=\"M162.35,-288.05C157.4,-280.18 151.39,-270.62 145.84,-261.79\"/>\n",
       "<polygon fill=\"black\" stroke=\"black\" points=\"148.95,-260.16 140.66,-253.56 143.02,-263.89 148.95,-260.16\"/>\n",
       "</g>\n",
       "<!-- segmenter -->\n",
       "<g id=\"node8\" class=\"node\">\n",
       "<title>segmenter</title>\n",
       "<text text-anchor=\"middle\" x=\"129\" y=\"-444.95\" font-family=\"Times,serif\" font-size=\"14.00\">segmenter</text>\n",
       "</g>\n",
       "<!-- segmenter&#45;&gt;segment_text -->\n",
       "<g id=\"edge8\" class=\"edge\">\n",
       "<title>segmenter&#45;&gt;segment_text</title>\n",
       "<path fill=\"none\" stroke=\"black\" d=\"M139.65,-432.05C144.6,-424.18 150.61,-414.62 156.16,-405.79\"/>\n",
       "<polygon fill=\"black\" stroke=\"black\" points=\"158.98,-407.89 161.34,-397.56 153.05,-404.16 158.98,-407.89\"/>\n",
       "</g>\n",
       "<!-- segment_text&#45;&gt;segments -->\n",
       "<g id=\"edge6\" class=\"edge\">\n",
       "<title>segment_text&#45;&gt;segments</title>\n",
       "<path fill=\"none\" stroke=\"black\" d=\"M173,-359.7C173,-352.21 173,-343.26 173,-334.88\"/>\n",
       "<polygon fill=\"black\" stroke=\"black\" points=\"176.5,-335.14 173,-325.14 169.5,-335.14 176.5,-335.14\"/>\n",
       "</g>\n",
       "<!-- embeddings -->\n",
       "<g id=\"node10\" class=\"node\">\n",
       "<title>embeddings</title>\n",
       "<text text-anchor=\"middle\" x=\"129\" y=\"-156.95\" font-family=\"Times,serif\" font-size=\"14.00\">embeddings</text>\n",
       "</g>\n",
       "<!-- reduce_dimensions -->\n",
       "<g id=\"node15\" class=\"node\">\n",
       "<title>reduce_dimensions</title>\n",
       "<polygon fill=\"none\" stroke=\"black\" points=\"130.5,-108 9.5,-108 9.5,-72 130.5,-72 130.5,-108\"/>\n",
       "<text text-anchor=\"middle\" x=\"70\" y=\"-84.95\" font-family=\"Times,serif\" font-size=\"14.00\">reduce_dimensions</text>\n",
       "</g>\n",
       "<!-- embeddings&#45;&gt;reduce_dimensions -->\n",
       "<g id=\"edge13\" class=\"edge\">\n",
       "<title>embeddings&#45;&gt;reduce_dimensions</title>\n",
       "<path fill=\"none\" stroke=\"black\" d=\"M114.72,-144.05C107.86,-135.92 99.5,-126 91.87,-116.94\"/>\n",
       "<polygon fill=\"black\" stroke=\"black\" points=\"94.66,-114.82 85.54,-109.43 89.3,-119.33 94.66,-114.82\"/>\n",
       "</g>\n",
       "<!-- cluster -->\n",
       "<g id=\"node19\" class=\"node\">\n",
       "<title>cluster</title>\n",
       "<polygon fill=\"none\" stroke=\"black\" points=\"246,-108 192,-108 192,-72 246,-72 246,-108\"/>\n",
       "<text text-anchor=\"middle\" x=\"219\" y=\"-84.95\" font-family=\"Times,serif\" font-size=\"14.00\">cluster</text>\n",
       "</g>\n",
       "<!-- embeddings&#45;&gt;cluster -->\n",
       "<g id=\"edge16\" class=\"edge\">\n",
       "<title>embeddings&#45;&gt;cluster</title>\n",
       "<path fill=\"none\" stroke=\"black\" d=\"M150.79,-144.05C161.9,-135.41 175.61,-124.75 187.81,-115.26\"/>\n",
       "<polygon fill=\"black\" stroke=\"black\" points=\"189.85,-118.11 195.59,-109.2 185.55,-112.58 189.85,-118.11\"/>\n",
       "</g>\n",
       "<!-- embedder -->\n",
       "<g id=\"node11\" class=\"node\">\n",
       "<title>embedder</title>\n",
       "<text text-anchor=\"middle\" x=\"86\" y=\"-300.95\" font-family=\"Times,serif\" font-size=\"14.00\">embedder</text>\n",
       "</g>\n",
       "<!-- embedder&#45;&gt;embed_segments -->\n",
       "<g id=\"edge11\" class=\"edge\">\n",
       "<title>embedder&#45;&gt;embed_segments</title>\n",
       "<path fill=\"none\" stroke=\"black\" d=\"M96.41,-288.05C101.2,-280.26 107,-270.82 112.37,-262.08\"/>\n",
       "<polygon fill=\"black\" stroke=\"black\" points=\"115.34,-263.92 117.6,-253.56 109.38,-260.25 115.34,-263.92\"/>\n",
       "</g>\n",
       "<!-- embed_segments&#45;&gt;embeddings -->\n",
       "<g id=\"edge9\" class=\"edge\">\n",
       "<title>embed_segments&#45;&gt;embeddings</title>\n",
       "<path fill=\"none\" stroke=\"black\" d=\"M129,-215.7C129,-208.21 129,-199.26 129,-190.88\"/>\n",
       "<polygon fill=\"black\" stroke=\"black\" points=\"132.5,-191.14 129,-181.14 125.5,-191.14 132.5,-191.14\"/>\n",
       "</g>\n",
       "<!-- planar_vectors -->\n",
       "<g id=\"node13\" class=\"node\">\n",
       "<title>planar_vectors</title>\n",
       "<text text-anchor=\"middle\" x=\"70\" y=\"-12.95\" font-family=\"Times,serif\" font-size=\"14.00\">planar_vectors</text>\n",
       "</g>\n",
       "<!-- planarizer -->\n",
       "<g id=\"node14\" class=\"node\">\n",
       "<title>planarizer</title>\n",
       "<text text-anchor=\"middle\" x=\"35\" y=\"-156.95\" font-family=\"Times,serif\" font-size=\"14.00\">planarizer</text>\n",
       "</g>\n",
       "<!-- planarizer&#45;&gt;reduce_dimensions -->\n",
       "<g id=\"edge14\" class=\"edge\">\n",
       "<title>planarizer&#45;&gt;reduce_dimensions</title>\n",
       "<path fill=\"none\" stroke=\"black\" d=\"M43.47,-144.05C47.33,-136.35 51.99,-127.03 56.32,-118.36\"/>\n",
       "<polygon fill=\"black\" stroke=\"black\" points=\"59.34,-120.14 60.69,-109.63 53.08,-117.01 59.34,-120.14\"/>\n",
       "</g>\n",
       "<!-- reduce_dimensions&#45;&gt;planar_vectors -->\n",
       "<g id=\"edge12\" class=\"edge\">\n",
       "<title>reduce_dimensions&#45;&gt;planar_vectors</title>\n",
       "<path fill=\"none\" stroke=\"black\" d=\"M70,-71.7C70,-64.21 70,-55.26 70,-46.88\"/>\n",
       "<polygon fill=\"black\" stroke=\"black\" points=\"73.5,-47.14 70,-37.14 66.5,-47.14 73.5,-47.14\"/>\n",
       "</g>\n",
       "<!-- cluster_indices -->\n",
       "<g id=\"node16\" class=\"node\">\n",
       "<title>cluster_indices</title>\n",
       "<text text-anchor=\"middle\" x=\"219\" y=\"-12.95\" font-family=\"Times,serif\" font-size=\"14.00\">cluster_indices</text>\n",
       "</g>\n",
       "<!-- clusterer -->\n",
       "<g id=\"node17\" class=\"node\">\n",
       "<title>clusterer</title>\n",
       "<text text-anchor=\"middle\" x=\"219\" y=\"-156.95\" font-family=\"Times,serif\" font-size=\"14.00\">clusterer</text>\n",
       "</g>\n",
       "<!-- clusterer&#45;&gt;cluster -->\n",
       "<g id=\"edge17\" class=\"edge\">\n",
       "<title>clusterer&#45;&gt;cluster</title>\n",
       "<path fill=\"none\" stroke=\"black\" d=\"M219,-144.05C219,-136.68 219,-127.84 219,-119.51\"/>\n",
       "<polygon fill=\"black\" stroke=\"black\" points=\"222.5,-119.79 219,-109.79 215.5,-119.79 222.5,-119.79\"/>\n",
       "</g>\n",
       "<!-- cluster_numbers -->\n",
       "<g id=\"node18\" class=\"node\">\n",
       "<title>cluster_numbers</title>\n",
       "<text text-anchor=\"middle\" x=\"321\" y=\"-156.95\" font-family=\"Times,serif\" font-size=\"14.00\">cluster_numbers</text>\n",
       "</g>\n",
       "<!-- cluster_numbers&#45;&gt;cluster -->\n",
       "<g id=\"edge18\" class=\"edge\">\n",
       "<title>cluster_numbers&#45;&gt;cluster</title>\n",
       "<path fill=\"none\" stroke=\"black\" d=\"M296.31,-144.05C283.47,-135.24 267.57,-124.33 253.53,-114.7\"/>\n",
       "<polygon fill=\"black\" stroke=\"black\" points=\"255.65,-111.9 245.42,-109.13 251.69,-117.68 255.65,-111.9\"/>\n",
       "</g>\n",
       "<!-- cluster&#45;&gt;cluster_indices -->\n",
       "<g id=\"edge15\" class=\"edge\">\n",
       "<title>cluster&#45;&gt;cluster_indices</title>\n",
       "<path fill=\"none\" stroke=\"black\" d=\"M219,-71.7C219,-64.21 219,-55.26 219,-46.88\"/>\n",
       "<polygon fill=\"black\" stroke=\"black\" points=\"222.5,-47.14 219,-37.14 215.5,-47.14 222.5,-47.14\"/>\n",
       "</g>\n",
       "</g>\n",
       "</svg>\n"
      ],
      "text/plain": [
       "<graphviz.graphs.Digraph at 0x3128ee650>"
      ]
     },
     "execution_count": 2,
     "metadata": {},
     "output_type": "execute_result"
    }
   ],
   "source": [
    "from meshed import code_to_dag\n",
    "\n",
    "@code_to_dag\n",
    "def imbed_dag():\n",
    "    cached_src = acquire_src(src_uri)\n",
    "    base_data = prep_src(cached_src, prepper)\n",
    "    segments = segment_text(base_data, segmenter)\n",
    "    embeddings = embed_segments(segments, embedder)\n",
    "    planar_vectors = reduce_dimensions(embeddings, planarizer)\n",
    "    cluster_indices = cluster(embeddings, clusterer, cluster_numbers)\n",
    "\n",
    "imbed_dag.dot_digraph()"
   ]
  },
  {
   "cell_type": "code",
   "execution_count": 3,
   "metadata": {},
   "outputs": [
    {
     "data": {
      "image/svg+xml": [
       "<?xml version=\"1.0\" encoding=\"UTF-8\" standalone=\"no\"?>\n",
       "<!DOCTYPE svg PUBLIC \"-//W3C//DTD SVG 1.1//EN\"\n",
       " \"http://www.w3.org/Graphics/SVG/1.1/DTD/svg11.dtd\">\n",
       "<!-- Generated by graphviz version 9.0.0 (20230911.1827)\n",
       " -->\n",
       "<!-- Pages: 1 -->\n",
       "<svg width=\"320pt\" height=\"332pt\"\n",
       " viewBox=\"0.00 0.00 319.88 332.00\" xmlns=\"http://www.w3.org/2000/svg\" xmlns:xlink=\"http://www.w3.org/1999/xlink\">\n",
       "<g id=\"graph0\" class=\"graph\" transform=\"scale(1 1) rotate(0) translate(4 328)\">\n",
       "<polygon fill=\"white\" stroke=\"none\" points=\"-4,4 -4,-328 315.88,-328 315.88,4 -4,4\"/>\n",
       "<!-- cluster_text -->\n",
       "<g id=\"node1\" class=\"node\">\n",
       "<title>cluster_text</title>\n",
       "<text text-anchor=\"middle\" x=\"116\" y=\"-156.95\" font-family=\"Times,serif\" font-size=\"14.00\">cluster_text</text>\n",
       "</g>\n",
       "<!-- ask_llm -->\n",
       "<g id=\"node8\" class=\"node\">\n",
       "<title>ask_llm</title>\n",
       "<polygon fill=\"none\" stroke=\"black\" points=\"102.75,-108 43.25,-108 43.25,-72 102.75,-72 102.75,-108\"/>\n",
       "<text text-anchor=\"middle\" x=\"73\" y=\"-84.95\" font-family=\"Times,serif\" font-size=\"14.00\">ask_llm</text>\n",
       "</g>\n",
       "<!-- cluster_text&#45;&gt;ask_llm -->\n",
       "<g id=\"edge6\" class=\"edge\">\n",
       "<title>cluster_text&#45;&gt;ask_llm</title>\n",
       "<path fill=\"none\" stroke=\"black\" d=\"M105.59,-144.05C100.8,-136.26 95,-126.82 89.63,-118.08\"/>\n",
       "<polygon fill=\"black\" stroke=\"black\" points=\"92.62,-116.25 84.4,-109.56 86.66,-119.92 92.62,-116.25\"/>\n",
       "</g>\n",
       "<!-- df -->\n",
       "<g id=\"node2\" class=\"node\">\n",
       "<title>df</title>\n",
       "<text text-anchor=\"middle\" x=\"27\" y=\"-300.95\" font-family=\"Times,serif\" font-size=\"14.00\">df</text>\n",
       "</g>\n",
       "<!-- acquire_src -->\n",
       "<g id=\"node5\" class=\"node\">\n",
       "<title>acquire_src</title>\n",
       "<polygon fill=\"none\" stroke=\"black\" points=\"155.12,-252 76.88,-252 76.88,-216 155.12,-216 155.12,-252\"/>\n",
       "<text text-anchor=\"middle\" x=\"116\" y=\"-228.95\" font-family=\"Times,serif\" font-size=\"14.00\">acquire_src</text>\n",
       "</g>\n",
       "<!-- df&#45;&gt;acquire_src -->\n",
       "<g id=\"edge2\" class=\"edge\">\n",
       "<title>df&#45;&gt;acquire_src</title>\n",
       "<path fill=\"none\" stroke=\"black\" d=\"M48.54,-288.05C59.53,-279.41 73.09,-268.75 85.16,-259.26\"/>\n",
       "<polygon fill=\"black\" stroke=\"black\" points=\"87.15,-262.14 92.85,-253.21 82.82,-256.64 87.15,-262.14\"/>\n",
       "</g>\n",
       "<!-- cluster_index -->\n",
       "<g id=\"node3\" class=\"node\">\n",
       "<title>cluster_index</title>\n",
       "<text text-anchor=\"middle\" x=\"116\" y=\"-300.95\" font-family=\"Times,serif\" font-size=\"14.00\">cluster_index</text>\n",
       "</g>\n",
       "<!-- cluster_index&#45;&gt;acquire_src -->\n",
       "<g id=\"edge3\" class=\"edge\">\n",
       "<title>cluster_index&#45;&gt;acquire_src</title>\n",
       "<path fill=\"none\" stroke=\"black\" d=\"M116,-288.05C116,-280.68 116,-271.84 116,-263.51\"/>\n",
       "<polygon fill=\"black\" stroke=\"black\" points=\"119.5,-263.79 116,-253.79 112.5,-263.79 119.5,-263.79\"/>\n",
       "</g>\n",
       "<!-- cluster_text_extractor -->\n",
       "<g id=\"node4\" class=\"node\">\n",
       "<title>cluster_text_extractor</title>\n",
       "<text text-anchor=\"middle\" x=\"245\" y=\"-300.95\" font-family=\"Times,serif\" font-size=\"14.00\">cluster_text_extractor</text>\n",
       "</g>\n",
       "<!-- cluster_text_extractor&#45;&gt;acquire_src -->\n",
       "<g id=\"edge4\" class=\"edge\">\n",
       "<title>cluster_text_extractor&#45;&gt;acquire_src</title>\n",
       "<path fill=\"none\" stroke=\"black\" d=\"M213.77,-288.05C196.99,-278.95 176.07,-267.59 157.89,-257.73\"/>\n",
       "<polygon fill=\"black\" stroke=\"black\" points=\"159.62,-254.69 149.17,-253 156.29,-260.84 159.62,-254.69\"/>\n",
       "</g>\n",
       "<!-- acquire_src&#45;&gt;cluster_text -->\n",
       "<g id=\"edge1\" class=\"edge\">\n",
       "<title>acquire_src&#45;&gt;cluster_text</title>\n",
       "<path fill=\"none\" stroke=\"black\" d=\"M116,-215.7C116,-208.21 116,-199.26 116,-190.88\"/>\n",
       "<polygon fill=\"black\" stroke=\"black\" points=\"119.5,-191.14 116,-181.14 112.5,-191.14 119.5,-191.14\"/>\n",
       "</g>\n",
       "<!-- description_of_cluster -->\n",
       "<g id=\"node6\" class=\"node\">\n",
       "<title>description_of_cluster</title>\n",
       "<text text-anchor=\"middle\" x=\"73\" y=\"-12.95\" font-family=\"Times,serif\" font-size=\"14.00\">description_of_cluster</text>\n",
       "</g>\n",
       "<!-- llm -->\n",
       "<g id=\"node7\" class=\"node\">\n",
       "<title>llm</title>\n",
       "<text text-anchor=\"middle\" x=\"31\" y=\"-156.95\" font-family=\"Times,serif\" font-size=\"14.00\">llm</text>\n",
       "</g>\n",
       "<!-- llm&#45;&gt;ask_llm -->\n",
       "<g id=\"edge7\" class=\"edge\">\n",
       "<title>llm&#45;&gt;ask_llm</title>\n",
       "<path fill=\"none\" stroke=\"black\" d=\"M41.17,-144.05C45.84,-136.26 51.51,-126.82 56.75,-118.08\"/>\n",
       "<polygon fill=\"black\" stroke=\"black\" points=\"59.71,-119.95 61.86,-109.57 53.71,-116.35 59.71,-119.95\"/>\n",
       "</g>\n",
       "<!-- ask_llm&#45;&gt;description_of_cluster -->\n",
       "<g id=\"edge5\" class=\"edge\">\n",
       "<title>ask_llm&#45;&gt;description_of_cluster</title>\n",
       "<path fill=\"none\" stroke=\"black\" d=\"M73,-71.7C73,-64.21 73,-55.26 73,-46.88\"/>\n",
       "<polygon fill=\"black\" stroke=\"black\" points=\"76.5,-47.14 73,-37.14 69.5,-47.14 76.5,-47.14\"/>\n",
       "</g>\n",
       "</g>\n",
       "</svg>\n"
      ],
      "text/plain": [
       "<graphviz.graphs.Digraph at 0x3129bbc70>"
      ]
     },
     "execution_count": 3,
     "metadata": {},
     "output_type": "execute_result"
    }
   ],
   "source": [
    "from meshed import code_to_dag\n",
    "\n",
    "@code_to_dag\n",
    "def cluster_description():\n",
    "    cluster_text = acquire_src(df, cluster_index, cluster_text_extractor)\n",
    "    description_of_cluster = ask_llm(cluster_text, llm)\n",
    "\n",
    "cluster_description.dot_digraph()\n"
   ]
  },
  {
   "cell_type": "code",
   "execution_count": null,
   "metadata": {},
   "outputs": [],
   "source": []
  },
  {
   "cell_type": "code",
   "execution_count": null,
   "metadata": {},
   "outputs": [],
   "source": []
  },
  {
   "cell_type": "markdown",
   "metadata": {},
   "source": []
  },
  {
   "cell_type": "code",
   "execution_count": 35,
   "metadata": {},
   "outputs": [
    {
     "data": {
      "text/plain": [
       "<function oa.tools.prompt_function.<locals>.ask_oa(data, *, n_words='10', more_info=' ')>"
      ]
     },
     "execution_count": 35,
     "metadata": {},
     "output_type": "execute_result"
    }
   ],
   "source": [
    "import oa\n",
    "\n",
    "describe_data = oa.prompt_function(\"\"\"\n",
    "Describe the data I printed below. \n",
    "Have the description be around {n_words:10} words long.\n",
    "More info about the source of the data: {more_info: }.\n",
    "                                   \n",
    "The data:\n",
    "                                   \n",
    "{data}\n",
    "\"\"\")\n",
    "\n",
    "describe_data\n"
   ]
  },
  {
   "cell_type": "code",
   "execution_count": 4,
   "metadata": {},
   "outputs": [],
   "source": [
    "from imbed_data_prep.github_repos import *\n",
    "\n",
    "d = GithubReposData()"
   ]
  },
  {
   "cell_type": "code",
   "execution_count": 23,
   "metadata": {},
   "outputs": [
    {
     "data": {
      "text/plain": [
       "\"List of various repositories with their respective owners' names.\""
      ]
     },
     "execution_count": 23,
     "metadata": {},
     "output_type": "execute_result"
    }
   ],
   "source": [
    "t = d.raw_data.iloc[:20]\n",
    "describe_data(t['name'].to_string())"
   ]
  },
  {
   "cell_type": "code",
   "execution_count": 33,
   "metadata": {},
   "outputs": [
    {
     "data": {
      "text/plain": [
       "(22, 36430)"
      ]
     },
     "execution_count": 33,
     "metadata": {},
     "output_type": "execute_result"
    }
   ],
   "source": [
    "from collections import Counter\n",
    "\n",
    "Counter(d.cluster_indices.clusters_34).most_common()[-1]"
   ]
  },
  {
   "cell_type": "code",
   "execution_count": 61,
   "metadata": {},
   "outputs": [
    {
     "name": "stdout",
     "output_type": "stream",
     "text": [
      "len(descriptions_text)=29924\n"
     ]
    }
   ],
   "source": [
    "indices = d.cluster_indices[d.cluster_indices.clusters_34 == 22].index\n",
    "tt = d.raw_data.loc[indices, 'description'].values\n",
    "max_description_length = 100\n",
    "n_samples = 500\n",
    "descriptions_text = '\\n\\n'.join(map(lambda x: x[:max_description_length] + '...', filter(None, tt[:n_samples])))\n",
    "print(f\"{len(descriptions_text)=}\")"
   ]
  },
  {
   "cell_type": "code",
   "execution_count": 53,
   "metadata": {},
   "outputs": [
    {
     "data": {
      "text/plain": [
       "'This data describes various programming projects and libraries related to the Go language.'"
      ]
     },
     "execution_count": 53,
     "metadata": {},
     "output_type": "execute_result"
    }
   ],
   "source": [
    "describe_data(descriptions_text)"
   ]
  },
  {
   "cell_type": "code",
   "execution_count": 64,
   "metadata": {},
   "outputs": [
    {
     "name": "stdout",
     "output_type": "stream",
     "text": [
      "85.60% of the repos in cluster 22 mention Go in their langauges.\n"
     ]
    }
   ],
   "source": [
    "# Confirmation\n",
    "idx = indices[:n_samples]\n",
    "r = sum('go' in x.lower() for x in d.raw_data.loc[idx, 'languages'].values) / len(idx)\n",
    "print(f\"{r * 100:.2f}% of the repos in cluster 22 mention Go in their langauges.\")"
   ]
  },
  {
   "cell_type": "code",
   "execution_count": null,
   "metadata": {},
   "outputs": [],
   "source": []
  },
  {
   "cell_type": "code",
   "execution_count": null,
   "metadata": {},
   "outputs": [],
   "source": [
    "import oa\n",
    "\n",
    "describe_data = oa.prompt_function(\"\"\"\n",
    "Describe the data I printed below. \n",
    "Have the description be around {n_words:100} words long.\n",
    "\"\"\")\n",
    "\n"
   ]
  },
  {
   "cell_type": "code",
   "execution_count": null,
   "metadata": {},
   "outputs": [],
   "source": []
  },
  {
   "cell_type": "markdown",
   "metadata": {},
   "source": [
    "# Misc"
   ]
  },
  {
   "cell_type": "markdown",
   "metadata": {},
   "source": [
    "## Make and save a markdown file aggregating the imbed repository information"
   ]
  },
  {
   "cell_type": "code",
   "execution_count": null,
   "metadata": {},
   "outputs": [],
   "source": []
  },
  {
   "cell_type": "code",
   "execution_count": 1,
   "metadata": {},
   "outputs": [
    {
     "name": "stderr",
     "output_type": "stream",
     "text": [
      "Cloning into '/var/folders/mc/c070wfh51kxd9lft8dl74q1r0000gn/T/tmp5qxw8bb8'...\n",
      "Cloning into '/var/folders/mc/c070wfh51kxd9lft8dl74q1r0000gn/T/tmpp9nq7jmw'...\n",
      "remote: Repository not found.\n",
      "fatal: repository 'https://github.com/thorwhalen/imbed.wiki.git/' not found\n",
      "/Users/thorwhalen/Dropbox/py/proj/t/hubcap/hubcap/util.py:280: UserWarning: It's possible that the repository doesn't have a wiki. Error: Command 'git clone https://github.com/thorwhalen/imbed.wiki.git /var/folders/mc/c070wfh51kxd9lft8dl74q1r0000gn/T/tmpp9nq7jmw' returned non-zero exit status 128.\n",
      "  warn(f\"It's possible that the repository doesn't have a wiki. Error: {e}\")\n"
     ]
    },
    {
     "data": {
      "text/plain": [
       "111207"
      ]
     },
     "execution_count": 1,
     "metadata": {},
     "output_type": "execute_result"
    }
   ],
   "source": [
    "from hubcap import repo_text_aggregate\n",
    "from pathlib import Path\n",
    "\n",
    "Path('~/Downloads/imbed.md').expanduser().write_text(repo_text_aggregate('thorwhalen/imbed'))"
   ]
  },
  {
   "cell_type": "code",
   "execution_count": null,
   "metadata": {},
   "outputs": [],
   "source": []
  },
  {
   "cell_type": "markdown",
   "metadata": {},
   "source": [
    "# Scrap"
   ]
  },
  {
   "cell_type": "code",
   "execution_count": 1,
   "metadata": {},
   "outputs": [
    {
     "name": "stdout",
     "output_type": "stream",
     "text": [
      "uploaded two different pieces of data so my my first comment would be that it's not really obvious where I have to go to be able to render the data right it's not obvious that it's here I would say we'll talk about that later but maybe this can be in more places people come here to mainly visualise the data so maybe there can be more than one place where they can do that for example where you view the data with the data make a Google Android graph and then maybe it comes over here to go to do that so anyway I find I finally found where are we supposed to render the graph and I would like to mention a few bugs here so first of all here I select planar embeddings and I do render graph and nothing happens and do it again nothing happens now I know now that it's because the ideas required that should be more obvious if there's a problem that it's it gives a message saying hey you need to do this or maybe highlighted or anyway more obvious second of all the I'd really shouldn't be required if there's some rows of data we should be able to do an implicit I'd 0 1 2 3 etc right so I don't think we really should require the ID in fact I already before I found it annoying that I had to create an artificial ID when there wasn't one to be able to render my data so anyway in this case there is this so I don't know if this is implicit one or not if I do that I managed to render the graph of right second bug here I select something else publication you wrap right here nothing is required everything is fine I do render graph and I get the same graph the one from before if I do it again while I can't do it again here but if I come here and select this again then I get this render graph that shows up and I click it again and now I get what I want right if I go back to plan your embeddings and I do render graph nothing happens again yes of course I forgot so somehow it's not symmetrical it seems let me try to do this again I do it once I selected again I do it again maybe if I do this and I say begin let me try this no so again it is symmetrical there is basically some kind of thing happening that I need to resell it for it to work and so that will be all for now oh no I will mention that maybe maybe the data if I find my points right here maybe there can be something here to go to the rendering engine or maybe I render it directly from here anyway I would put a few more points where I can render the data from including maybe selection of the data and then render that that's all\n"
     ]
    }
   ],
   "source": [
    "import speech_recognition as sr\n",
    "\n",
    "recognizer = sr.Recognizer()\n",
    "audio_file_path = \"/Users/thorwhalen/Downloads/cosmograph_review_02_audio.wav\"\n",
    "\n",
    "with sr.AudioFile(audio_file_path) as source:\n",
    "    audio_data = recognizer.record(source)\n",
    "    text = recognizer.recognize_google(audio_data)\n",
    "\n",
    "print(text)"
   ]
  },
  {
   "cell_type": "code",
   "execution_count": 2,
   "metadata": {},
   "outputs": [
    {
     "data": {
      "text/plain": [
       "\"uploaded two different pieces of data so my my first comment would be that it's not really obvious where I have to go to be able to render the data right it's not obvious that it's here I would say we'll talk about that later but maybe this can be in more places people come here to mainly visualise the data so maybe there can be more than one place where they can do that for example where you view the data with the data make a Google Android graph and then maybe it comes over here to go to do that so anyway I find I finally found where are we supposed to render the graph and I would like to mention a few bugs here so first of all here I select planar embeddings and I do render graph and nothing happens and do it again nothing happens now I know now that it's because the ideas required that should be more obvious if there's a problem that it's it gives a message saying hey you need to do this or maybe highlighted or anyway more obvious second of all the I'd really shouldn't be required if there's some rows of data we should be able to do an implicit I'd 0 1 2 3 etc right so I don't think we really should require the ID in fact I already before I found it annoying that I had to create an artificial ID when there wasn't one to be able to render my data so anyway in this case there is this so I don't know if this is implicit one or not if I do that I managed to render the graph of right second bug here I select something else publication you wrap right here nothing is required everything is fine I do render graph and I get the same graph the one from before if I do it again while I can't do it again here but if I come here and select this again then I get this render graph that shows up and I click it again and now I get what I want right if I go back to plan your embeddings and I do render graph nothing happens again yes of course I forgot so somehow it's not symmetrical it seems let me try to do this again I do it once I selected again I do it again maybe if I do this and I say begin let me try this no so again it is symmetrical there is basically some kind of thing happening that I need to resell it for it to work and so that will be all for now oh no I will mention that maybe maybe the data if I find my points right here maybe there can be something here to go to the rendering engine or maybe I render it directly from here anyway I would put a few more points where I can render the data from including maybe selection of the data and then render that that's all\""
      ]
     },
     "execution_count": 2,
     "metadata": {},
     "output_type": "execute_result"
    }
   ],
   "source": [
    "text"
   ]
  },
  {
   "cell_type": "code",
   "execution_count": 6,
   "metadata": {},
   "outputs": [],
   "source": [
    "from operator import attrgetter\n",
    "from dol import Pipe, written_key\n",
    "from oa import prompt_function\n",
    "\n",
    "\n",
    "def video_to_audio(video_file_path):\n",
    "    import moviepy.editor as mp\n",
    "\n",
    "    video = mp.VideoFileClip(video_file_path)\n",
    "    return video\n",
    "\n",
    "\n",
    "def audio_file_to_text(audio_file_path):\n",
    "    import speech_recognition as sr\n",
    "\n",
    "    recognizer = sr.Recognizer()\n",
    "    with sr.AudioFile(audio_file_path) as source:\n",
    "        audio_data = recognizer.record(source)\n",
    "        text = recognizer.recognize_google(audio_data)\n",
    "\n",
    "    return text\n",
    "\n",
    "audio_obj_writer = lambda audio, path: audio.write_audiofile(path)\n",
    "save_audio_to_wav_file = written_key(writer=audio_obj_writer, key='*.wav')\n",
    "video_to_text = Pipe(\n",
    "    video_to_audio, attrgetter('audio'), save_audio_to_wav_file, audio_file_to_text\n",
    ")\n",
    "\n",
    "text_to_dev_takeaways = prompt_function(\n",
    "    \"\"\"\n",
    "From the following transcription, I'd like you to extract \n",
    "the tasks that would be relevant to developers.\n",
    "These tasks should be actionable. They might be bugs to repair or features to add or enhance.\n",
    "I will be copy pasting these as issues in a github repo, so please include a \n",
    "short title and a description for each task, as a bullet point list \n",
    "where the title is bolded and the description comes after the colon. Like this:\n",
    "- **Title 1**: Description of the task 1\n",
    "- **Title 2**: Description of the task 2           \n",
    "\n",
    "Here's my transcription:\n",
    "\n",
    "{text}  \n",
    "\"\"\"\n",
    ")\n",
    "\n",
    "audio_to_dev_takeaways = Pipe(audio_file_to_text, text_to_dev_takeaways)\n",
    "video_to_dev_takeaways = Pipe(video_to_text, text_to_dev_takeaways)"
   ]
  },
  {
   "cell_type": "code",
   "execution_count": 7,
   "metadata": {},
   "outputs": [
    {
     "name": "stdout",
     "output_type": "stream",
     "text": [
      "MoviePy - Writing audio in /var/folders/mc/c070wfh51kxd9lft8dl74q1r0000gn/T/tmp2eejt0bv.wav\n"
     ]
    },
    {
     "name": "stderr",
     "output_type": "stream",
     "text": [
      "                                                                      \r"
     ]
    },
    {
     "name": "stdout",
     "output_type": "stream",
     "text": [
      "MoviePy - Done.\n"
     ]
    }
   ],
   "source": [
    "video_path = '/Users/thorwhalen/Dropbox/Misc/2024_misc/cosmograph_app_review_01.mov'\n",
    "\n",
    "text = video_to_text(video_path)"
   ]
  },
  {
   "cell_type": "code",
   "execution_count": 8,
   "metadata": {},
   "outputs": [
    {
     "name": "stdout",
     "output_type": "stream",
     "text": [
      "- **Pagination Flexibility**: Assess the flexibility of the table pagination feature. There may be a need for different types of navigation between pages, depending on user feedback and needs.\n",
      "- **Filter Functionality**: Investigate the filter function. Currently, it appears to be disabled or not displaying any results. A user should be able to see and select filtering options.\n",
      "- **Infinite Scroll Feasibility**: Consider implementing an infinite scroll feature. This feature could enhance the navigation experience, providing automatic paging for the user.\n",
      "- **Selection Actions**: Check if there are existing actions associated with selection within the interface. If not currently present, ensure the design accommodates for the addition of selection-oriented actions in future.\n",
      "- **Vue Migration Issue**: Review the Vue migration process as it seems not to retain focus on the current view when an action is initiated.\n",
      "- **Ordering and Representation in Scatter Plots**: Reevaluate the approach to representation within scatter plots. Current color-based representation might lead to over or under-representation of certain data points. Consider how colors can be ordered or layered to provide an accurate representation.\n"
     ]
    }
   ],
   "source": [
    "print(text_to_dev_takeaways(text))"
   ]
  },
  {
   "cell_type": "code",
   "execution_count": null,
   "metadata": {},
   "outputs": [],
   "source": []
  },
  {
   "cell_type": "code",
   "execution_count": 1,
   "metadata": {},
   "outputs": [],
   "source": [
    "import pandas as pd\n",
    "\n",
    "f = '/Users/thorwhalen/Dropbox/_odata/figiri/github-repos.parquet'\n",
    "df = pd.read_parquet(f)"
   ]
  },
  {
   "cell_type": "code",
   "execution_count": 3,
   "metadata": {},
   "outputs": [
    {
     "data": {
      "text/plain": [
       "(3274587, 26)"
      ]
     },
     "execution_count": 3,
     "metadata": {},
     "output_type": "execute_result"
    }
   ],
   "source": [
    "df.shape"
   ]
  },
  {
   "cell_type": "code",
   "execution_count": 4,
   "metadata": {},
   "outputs": [
    {
     "data": {
      "text/plain": [
       "owner                                                                  xdedzl\n",
       "name                                                     RuntimeTerrainEditor\n",
       "stars                                                                      82\n",
       "forks                                                                      29\n",
       "watchers                                                                    6\n",
       "isFork                                                                  False\n",
       "isArchived                                                              False\n",
       "languages                                         C#: 162842, ShaderLab: 1965\n",
       "languageCount                                                               2\n",
       "topics                                                                       \n",
       "topicCount                                                                  0\n",
       "diskUsageKb                                                            140632\n",
       "pullRequests                                                                0\n",
       "issues                                                                      0\n",
       "description                                                          运行时地形编辑器\n",
       "primaryLanguage                                                            C#\n",
       "createdAt                                                2019-03-18T15:54:07Z\n",
       "pushedAt                                                 2020-07-29T15:35:12Z\n",
       "defaultBranchCommitCount                                                 40.0\n",
       "license                                                                  None\n",
       "assignableUserCount                                                         1\n",
       "codeOfConduct                                                            None\n",
       "forkingAllowed                                                           True\n",
       "nameWithOwner                                     xdedzl/RuntimeTerrainEditor\n",
       "parent                                                                    NaN\n",
       "embedding                   [-0.054284338, 0.13081394, 0.14242873, -0.0702...\n",
       "Name: 0, dtype: object"
      ]
     },
     "execution_count": 4,
     "metadata": {},
     "output_type": "execute_result"
    }
   ],
   "source": [
    "df.iloc[0]"
   ]
  },
  {
   "cell_type": "code",
   "execution_count": null,
   "metadata": {},
   "outputs": [],
   "source": []
  }
 ],
 "metadata": {
  "kernelspec": {
   "display_name": "p10",
   "language": "python",
   "name": "python3"
  },
  "language_info": {
   "codemirror_mode": {
    "name": "ipython",
    "version": 3
   },
   "file_extension": ".py",
   "mimetype": "text/x-python",
   "name": "python",
   "nbconvert_exporter": "python",
   "pygments_lexer": "ipython3",
   "version": "3.10.13"
  }
 },
 "nbformat": 4,
 "nbformat_minor": 2
}
