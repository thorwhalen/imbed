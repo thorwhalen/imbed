{
 "cells": [
  {
   "cell_type": "code",
   "execution_count": null,
   "metadata": {},
   "outputs": [],
   "source": []
  },
  {
   "cell_type": "code",
   "execution_count": null,
   "metadata": {},
   "outputs": [],
   "source": []
  },
  {
   "cell_type": "code",
   "execution_count": null,
   "metadata": {},
   "outputs": [],
   "source": []
  },
  {
   "cell_type": "code",
   "execution_count": null,
   "metadata": {},
   "outputs": [],
   "source": []
  },
  {
   "cell_type": "code",
   "execution_count": null,
   "metadata": {},
   "outputs": [],
   "source": []
  },
  {
   "cell_type": "code",
   "execution_count": 8,
   "metadata": {},
   "outputs": [],
   "source": [
    "\n",
    "class ImbedDaccBase:\n",
    "    def download_data(self, uri):\n",
    "        \"\"\"Initial download of data from the source\"\"\"\n",
    "\n",
    "    @property\n",
    "    def texts(self):\n",
    "        \"\"\"key-value view (i.e. Mapping) of the text data\"\"\"\n",
    "\n",
    "    @property\n",
    "    def text_metadatas(self):\n",
    "        \"\"\"Mapping of the metadata of the text data.\n",
    "\n",
    "        The keys of texts and text_metadatas mappings should be the same\n",
    "        \"\"\"\n",
    "\n",
    "    @property\n",
    "    def text_segments(self):\n",
    "        \"\"\"Mapping of the segments of text data.\n",
    "\n",
    "        Could be computed on the fly from the text_store and a segmentation algorithm, \n",
    "        or precomputed and stored in a separate key-value store.\n",
    "\n",
    "        Preferably, the key of the text store should be able to be computed from key \n",
    "        of the text_segments store, and even contain the information necessary to \n",
    "        extract the segment from the corresponding text store value.\n",
    "\n",
    "        Note that the imbed.segmentation.SegmentMapping class can be used to\n",
    "        create a mapping between the text store and the text segments store.\n",
    "        \"\"\"\n",
    "\n",
    "    @property\n",
    "    def segment_vectors(self):\n",
    "        \"\"\"Mapping of the vectors (embeddings) of the segments of text data.\n",
    "\n",
    "        The keys of the segment_vectors store should be the same as the keys of the \n",
    "        text_segments store.\n",
    "\n",
    "        Could be computed on the fly from the text_segments and a vectorization algorithm, \n",
    "        or precomputed and stored in a separate key-value store.\n",
    "\n",
    "        Preferably, the key of the text_segments store should be able to be computed from key \n",
    "        of the segment_vectors store, and even contain the information necessary to \n",
    "        extract the segment from the corresponding text segments store value.\n",
    "\n",
    "        Note that the imbed.vectorization.VectorMapping class can be used to\n",
    "        create a mapping between the text segments store and the segment_vectors store.\n",
    "        \"\"\"\n",
    "\n",
    "\n"
   ]
  },
  {
   "cell_type": "code",
   "execution_count": null,
   "metadata": {},
   "outputs": [],
   "source": []
  },
  {
   "cell_type": "markdown",
   "metadata": {},
   "source": [
    "# Misc"
   ]
  },
  {
   "cell_type": "markdown",
   "metadata": {},
   "source": [
    "## Make and save a markdown file aggregating the imbed repository information"
   ]
  },
  {
   "cell_type": "code",
   "execution_count": null,
   "metadata": {},
   "outputs": [],
   "source": []
  },
  {
   "cell_type": "code",
   "execution_count": 1,
   "metadata": {},
   "outputs": [
    {
     "name": "stderr",
     "output_type": "stream",
     "text": [
      "Cloning into '/var/folders/mc/c070wfh51kxd9lft8dl74q1r0000gn/T/tmp5qxw8bb8'...\n",
      "Cloning into '/var/folders/mc/c070wfh51kxd9lft8dl74q1r0000gn/T/tmpp9nq7jmw'...\n",
      "remote: Repository not found.\n",
      "fatal: repository 'https://github.com/thorwhalen/imbed.wiki.git/' not found\n",
      "/Users/thorwhalen/Dropbox/py/proj/t/hubcap/hubcap/util.py:280: UserWarning: It's possible that the repository doesn't have a wiki. Error: Command 'git clone https://github.com/thorwhalen/imbed.wiki.git /var/folders/mc/c070wfh51kxd9lft8dl74q1r0000gn/T/tmpp9nq7jmw' returned non-zero exit status 128.\n",
      "  warn(f\"It's possible that the repository doesn't have a wiki. Error: {e}\")\n"
     ]
    },
    {
     "data": {
      "text/plain": [
       "111207"
      ]
     },
     "execution_count": 1,
     "metadata": {},
     "output_type": "execute_result"
    }
   ],
   "source": [
    "from hubcap import repo_text_aggregate\n",
    "from pathlib import Path\n",
    "\n",
    "Path('~/Downloads/imbed.md').expanduser().write_text(repo_text_aggregate('thorwhalen/imbed'))"
   ]
  },
  {
   "cell_type": "code",
   "execution_count": null,
   "metadata": {},
   "outputs": [],
   "source": []
  },
  {
   "cell_type": "markdown",
   "metadata": {},
   "source": [
    "# Scrap"
   ]
  },
  {
   "cell_type": "code",
   "execution_count": null,
   "metadata": {},
   "outputs": [],
   "source": []
  },
  {
   "cell_type": "code",
   "execution_count": null,
   "metadata": {},
   "outputs": [],
   "source": []
  }
 ],
 "metadata": {
  "kernelspec": {
   "display_name": "p10",
   "language": "python",
   "name": "python3"
  },
  "language_info": {
   "codemirror_mode": {
    "name": "ipython",
    "version": 3
   },
   "file_extension": ".py",
   "mimetype": "text/x-python",
   "name": "python",
   "nbconvert_exporter": "python",
   "pygments_lexer": "ipython3",
   "version": "3.10.13"
  }
 },
 "nbformat": 4,
 "nbformat_minor": 2
}
