{
 "cells": [
  {
   "cell_type": "code",
   "execution_count": null,
   "id": "9a1214bb",
   "metadata": {},
   "outputs": [],
   "source": []
  },
  {
   "cell_type": "code",
   "execution_count": null,
   "id": "3364d0c2",
   "metadata": {},
   "outputs": [],
   "source": []
  },
  {
   "cell_type": "markdown",
   "id": "d71e37d4",
   "metadata": {},
   "source": [
    "# Imbed DOG"
   ]
  },
  {
   "cell_type": "code",
   "execution_count": null,
   "id": "f9a87783",
   "metadata": {},
   "outputs": [],
   "source": [
    "from imbed.imbed_project import Project, Projects\n",
    "\n",
    "projects = Projects('local')"
   ]
  },
  {
   "cell_type": "code",
   "execution_count": 8,
   "id": "e5611d38",
   "metadata": {},
   "outputs": [],
   "source": [
    "from imbed.imbed_project import Project, Projects\n",
    "\n",
    "project = Project.from_mall('local')"
   ]
  },
  {
   "cell_type": "code",
   "execution_count": 9,
   "id": "9eac1b0b",
   "metadata": {},
   "outputs": [
    {
     "data": {
      "text/plain": [
       "{'misc': Files(rootdir='/Users/thorwhalen/Dropbox/_odata/app_data/imbed/projects/spaces/imbed_project_d9d8557f/stores/misc', subpath='', pattern_for_field=None, max_levels=None, include_hidden=False, assert_rootdir_existence=False),\n",
       " 'segments': Files(rootdir='/Users/thorwhalen/Dropbox/_odata/app_data/imbed/projects/spaces/imbed_project_d9d8557f/stores/segments', subpath='', pattern_for_field=None, max_levels=None, include_hidden=False, assert_rootdir_existence=False),\n",
       " 'embeddings': Files(rootdir='/Users/thorwhalen/Dropbox/_odata/app_data/imbed/projects/spaces/imbed_project_d9d8557f/stores/embeddings', subpath='', pattern_for_field=None, max_levels=None, include_hidden=False, assert_rootdir_existence=False),\n",
       " 'clusters': Files(rootdir='/Users/thorwhalen/Dropbox/_odata/app_data/imbed/projects/spaces/imbed_project_d9d8557f/stores/clusters', subpath='', pattern_for_field=None, max_levels=None, include_hidden=False, assert_rootdir_existence=False),\n",
       " 'planar_embeddings': Files(rootdir='/Users/thorwhalen/Dropbox/_odata/app_data/imbed/projects/spaces/imbed_project_d9d8557f/stores/planar_embeddings', subpath='', pattern_for_field=None, max_levels=None, include_hidden=False, assert_rootdir_existence=False)}"
      ]
     },
     "execution_count": 9,
     "metadata": {},
     "output_type": "execute_result"
    }
   ],
   "source": [
    "project.mall"
   ]
  },
  {
   "cell_type": "code",
   "execution_count": 12,
   "id": "fa4a6d86",
   "metadata": {},
   "outputs": [],
   "source": [
    "project.mall['segments']['segments_1'] = ['hi', 'there', 'segments']"
   ]
  },
  {
   "cell_type": "code",
   "execution_count": 11,
   "id": "814a1a56",
   "metadata": {},
   "outputs": [
    {
     "data": {
      "text/plain": [
       "['hi', 'there', 'segments']"
      ]
     },
     "execution_count": 11,
     "metadata": {},
     "output_type": "execute_result"
    }
   ],
   "source": [
    "project.mall['segments']['segments_1']"
   ]
  },
  {
   "cell_type": "code",
   "execution_count": null,
   "id": "02ef061e",
   "metadata": {},
   "outputs": [],
   "source": []
  },
  {
   "cell_type": "code",
   "execution_count": null,
   "id": "49ece7cd",
   "metadata": {},
   "outputs": [],
   "source": []
  },
  {
   "cell_type": "code",
   "execution_count": null,
   "id": "9254e6f2",
   "metadata": {},
   "outputs": [],
   "source": []
  },
  {
   "cell_type": "code",
   "execution_count": null,
   "id": "a788f4cc",
   "metadata": {},
   "outputs": [],
   "source": []
  },
  {
   "cell_type": "markdown",
   "id": "f64fcd96",
   "metadata": {},
   "source": [
    "# Demo: Using the Projects Class\n",
    "\n",
    "This demo shows how to use the `Projects` container and the `Project` class for managing text segments, embeddings, and planarizations."
   ]
  },
  {
   "cell_type": "code",
   "execution_count": 1,
   "id": "90e4ed93",
   "metadata": {},
   "outputs": [],
   "source": [
    "from imbed.imbed_project import Project, Projects\n",
    "\n",
    "project = Project.from_mall()"
   ]
  },
  {
   "cell_type": "code",
   "execution_count": 3,
   "id": "ab82df11",
   "metadata": {},
   "outputs": [],
   "source": [
    "from functools import partial\n",
    "project.embedders['constant_vectorizer_with_sleep_7'] = partial(project.embedders['constant_vectorizer'], sleep_s=7)"
   ]
  },
  {
   "cell_type": "code",
   "execution_count": 4,
   "id": "5c832aed",
   "metadata": {},
   "outputs": [
    {
     "data": {
      "text/plain": [
       "['constant_vectorizer',\n",
       " 'simple_text_embedder',\n",
       " 'text-embedding-3-small',\n",
       " 'text-embedding-3-large',\n",
       " 'default',\n",
       " 'constant_vectorizer_with_sleep_7']"
      ]
     },
     "execution_count": 4,
     "metadata": {},
     "output_type": "execute_result"
    }
   ],
   "source": [
    "list(project.embedders)"
   ]
  },
  {
   "cell_type": "code",
   "execution_count": 5,
   "id": "639aa691",
   "metadata": {},
   "outputs": [],
   "source": [
    "if sorted(project.segments.keys()) == ['hi', 'w']:\n",
    "    print(\"Deleting all segments from the project...\")\n",
    "    _ = list(map(project.segments.__delitem__, project.segments.keys()))"
   ]
  },
  {
   "cell_type": "code",
   "execution_count": null,
   "id": "679dcb6e",
   "metadata": {},
   "outputs": [
    {
     "data": {
      "text/plain": [
       "['hi', 'w']"
      ]
     },
     "execution_count": 3,
     "metadata": {},
     "output_type": "execute_result"
    }
   ],
   "source": [
    "from imbed.imbed_project import Project, Projects\n",
    "\n",
    "project = Project.from_mall(default_embedder='constant_vectorizer_with_sleep_7')\n",
    "project.add_segments({'hi': 'Hello', 'w': 'world'})\n"
   ]
  },
  {
   "cell_type": "code",
   "execution_count": null,
   "id": "6753da32",
   "metadata": {},
   "outputs": [
    {
     "data": {
      "text/plain": [
       "{}"
      ]
     },
     "execution_count": 6,
     "metadata": {},
     "output_type": "execute_result"
    }
   ],
   "source": [
    "project.embeddings"
   ]
  },
  {
   "cell_type": "code",
   "execution_count": null,
   "id": "496c53f2",
   "metadata": {},
   "outputs": [],
   "source": []
  },
  {
   "cell_type": "code",
   "execution_count": 7,
   "id": "b42a934e",
   "metadata": {},
   "outputs": [
    {
     "data": {
      "text/plain": [
       "['constant_planarizer',\n",
       " 'identity_planarizer',\n",
       " 'random_planarizer',\n",
       " 'circular_planarizer',\n",
       " 'grid_planarizer',\n",
       " 'pca_planarizer',\n",
       " 'tsne_planarizer',\n",
       " 'umap_planarizer',\n",
       " 'mds_planarizer',\n",
       " 'isomap_planarizer',\n",
       " 'lle_planarizer',\n",
       " 'spectral_embedding_planarizer',\n",
       " 'factor_analysis_planarizer',\n",
       " 'kernel_pca_planarizer',\n",
       " 'fast_ica_planarizer',\n",
       " 'nmf_planarizer',\n",
       " 'truncated_svd_planarizer',\n",
       " 'sparse_random_projection_planarizer',\n",
       " 'gaussian_random_projection_planarizer',\n",
       " 'robust_pca_planarizer',\n",
       " 'force_directed_planarizer',\n",
       " 'default']"
      ]
     },
     "execution_count": 7,
     "metadata": {},
     "output_type": "execute_result"
    }
   ],
   "source": [
    "list(project.planarizers)"
   ]
  },
  {
   "cell_type": "code",
   "execution_count": null,
   "id": "a211133a",
   "metadata": {},
   "outputs": [],
   "source": []
  },
  {
   "cell_type": "code",
   "execution_count": null,
   "id": "bb54160c",
   "metadata": {},
   "outputs": [
    {
     "name": "stdout",
     "output_type": "stream",
     "text": [
      "planar_coords_key='constant_planarizer_20250616_160810'\n"
     ]
    }
   ],
   "source": [
    "planar_coords_key = project.compute('planarizer', 'constant_planarizer')\n",
    "print(f\"{planar_coords_key=}\")\n",
    "project.get_computation_status(planar_coords_key)"
   ]
  },
  {
   "cell_type": "code",
   "execution_count": null,
   "id": "394707a7",
   "metadata": {},
   "outputs": [
    {
     "name": "stdout",
     "output_type": "stream",
     "text": [
      "project.planar_coords={'constant_planarizer_20250616_160810': {'hi': (1.0, 4.0), 'w': (2.0, 5.0)}}\n"
     ]
    }
   ],
   "source": [
    "if (status := project.get_computation_status(planar_coords_key)) is not None:\n",
    "    print(f\"Status for {planar_coords_key}: {status}\")\n",
    "else:\n",
    "    print(f\"{project.planar_coords=}\")"
   ]
  },
  {
   "cell_type": "code",
   "execution_count": 27,
   "id": "a9f21209",
   "metadata": {},
   "outputs": [
    {
     "name": "stdout",
     "output_type": "stream",
     "text": [
      "planar_coords_key='identity_planarizer_20250616_173254'\n"
     ]
    }
   ],
   "source": [
    "planar_coords_key = project.compute('planarizer', 'identity_planarizer')\n",
    "print(f\"{planar_coords_key=}\")\n",
    "project.get_computation_status(planar_coords_key)"
   ]
  },
  {
   "cell_type": "code",
   "execution_count": 29,
   "id": "afaf05e3",
   "metadata": {},
   "outputs": [
    {
     "name": "stdout",
     "output_type": "stream",
     "text": [
      "project.planar_coords={'constant_planarizer_20250616_160810': {'hi': (1.0, 4.0), 'w': (2.0, 5.0)}, 'identity_planarizer_20250616_173254': {'hi': (0.1, 0.2), 'w': (0.1, 0.2)}}\n"
     ]
    }
   ],
   "source": [
    "if (status := project.get_computation_status(planar_coords_key)) is not None:\n",
    "    print(f\"Status for {planar_coords_key}: {status}\")\n",
    "else:\n",
    "    print(f\"{project.planar_coords=}\")"
   ]
  },
  {
   "cell_type": "code",
   "execution_count": 19,
   "id": "3713e52e",
   "metadata": {},
   "outputs": [
    {
     "data": {
      "text/plain": [
       "['constant_clusterer',\n",
       " 'random_clusterer',\n",
       " 'threshold_clusterer',\n",
       " 'kmeans_clusterer',\n",
       " 'dbscan_clusterer',\n",
       " 'hierarchical_clusterer',\n",
       " 'meanshift_clusterer',\n",
       " 'spectral_clusterer',\n",
       " 'gmm_clusterer',\n",
       " 'affinity_propagation_clusterer',\n",
       " 'optics_clusterer',\n",
       " 'birch_clusterer',\n",
       " 'minibatch_kmeans_clusterer',\n",
       " 'nearest_neighbor_clusterer',\n",
       " 'bisecting_kmeans_clusterer',\n",
       " 'default']"
      ]
     },
     "execution_count": 19,
     "metadata": {},
     "output_type": "execute_result"
    }
   ],
   "source": [
    "list(project.clusterers)"
   ]
  },
  {
   "cell_type": "code",
   "execution_count": 30,
   "id": "8ca6199d",
   "metadata": {},
   "outputs": [
    {
     "name": "stdout",
     "output_type": "stream",
     "text": [
      "cluster_indices_key='constant_clusterer_20250616_173422'\n"
     ]
    }
   ],
   "source": [
    "cluster_indices_key = project.compute('clusterer', 'constant_clusterer')\n",
    "print(f\"{cluster_indices_key=}\")\n",
    "project.get_computation_status(cluster_indices_key)"
   ]
  },
  {
   "cell_type": "code",
   "execution_count": 32,
   "id": "9cb3afa9",
   "metadata": {},
   "outputs": [
    {
     "name": "stdout",
     "output_type": "stream",
     "text": [
      "project.cluster_indices={'constant_clusterer_20250616_164438': {'hi': 0, 'w': 1}, 'constant_clusterer_20250616_173422': {'hi': 0, 'w': 1}}\n"
     ]
    }
   ],
   "source": [
    "if (status := project.get_computation_status(cluster_indices_key)) is not None:\n",
    "    print(f\"Status for {cluster_indices_key}: {status}\")\n",
    "else:\n",
    "    print(f\"{project.cluster_indices=}\")"
   ]
  },
  {
   "cell_type": "code",
   "execution_count": null,
   "id": "f1a58c81",
   "metadata": {},
   "outputs": [],
   "source": []
  },
  {
   "cell_type": "code",
   "execution_count": null,
   "id": "3d795c5a",
   "metadata": {},
   "outputs": [],
   "source": []
  },
  {
   "cell_type": "code",
   "execution_count": 7,
   "id": "aca73dbb",
   "metadata": {},
   "outputs": [
    {
     "data": {
      "text/plain": [
       "[]"
      ]
     },
     "execution_count": 7,
     "metadata": {},
     "output_type": "execute_result"
    }
   ],
   "source": [
    "from imbed.imbed_project import Projects\n",
    "\n",
    "# Define simple embedders and planarizers for demonstration\n",
    "def simple_embedder(segments):\n",
    "    if isinstance(segments, dict):\n",
    "        return {k: [len(v), v.count(' '), v.count('.')] for k, v in segments.items()}\n",
    "    else:\n",
    "        return [[len(s), s.count(' '), s.count('.')] for s in segments]\n",
    "\n",
    "def simple_planarizer(vectors):\n",
    "    return [(float(v[0]), float(v[1]) if len(v) > 1 else 0.0) for v in vectors]\n",
    "\n",
    "# Get the Projects container\n",
    "projects = Projects()\n",
    "# List the existing projects\n",
    "list(projects)"
   ]
  },
  {
   "cell_type": "code",
   "execution_count": null,
   "id": "fe722fd1",
   "metadata": {},
   "outputs": [
    {
     "name": "stdout",
     "output_type": "stream",
     "text": [
      "Project created: demo_proj\n"
     ]
    }
   ],
   "source": [
    "# Create a new project with the simple embedder and planarizer\n",
    "project = projects.create_project(\n",
    "    embedders={'default': simple_embedder},\n",
    "    planarizers={'default': simple_planarizer},\n",
    "    async_embeddings=False  # Use synchronous mode for demo\n",
    ")\n",
    "\n",
    "print(\"Project created:\", project._id)"
   ]
  },
  {
   "cell_type": "code",
   "execution_count": null,
   "id": "72228263",
   "metadata": {},
   "outputs": [
    {
     "name": "stdout",
     "output_type": "stream",
     "text": [
      "Segments added: ['s1', 's2', 's3']\n",
      "Embeddings: {'s1': [20, 3, 1], 's2': [24, 4, 1], 's3': [14, 2, 0]}\n"
     ]
    }
   ],
   "source": [
    "# Add some text segments to the project\n",
    "segments = {\n",
    "    \"s1\": \"The quick brown fox.\",\n",
    "    \"s2\": \"Jumps over the lazy dog.\",\n",
    "    \"s3\": \"Python is fun!\"\n",
    "}\n",
    "project.add_segments(segments)\n",
    "print(\"Segments added:\", list(project.segments.keys()))\n",
    "print(\"Embeddings:\", project.embeddings)"
   ]
  },
  {
   "cell_type": "code",
   "execution_count": 10,
   "id": "863a423a",
   "metadata": {},
   "outputs": [
    {
     "name": "stdout",
     "output_type": "stream",
     "text": [
      "Planar coordinates saved under: default_20250613_101216\n",
      "Planar coordinates: {'s1': (20.0, 3.0), 's2': (24.0, 4.0), 's3': (14.0, 2.0)}\n"
     ]
    }
   ],
   "source": [
    "# Compute planar coordinates for the segments' embeddings\n",
    "save_key = project.compute(\"planarizer\", \"default\")\n",
    "print(\"Planar coordinates saved under:\", save_key)\n",
    "print(\"Planar coordinates:\", project.planar_coords[save_key])"
   ]
  },
  {
   "cell_type": "code",
   "execution_count": null,
   "id": "ebcae71c",
   "metadata": {},
   "outputs": [
    {
     "name": "stdout",
     "output_type": "stream",
     "text": [
      "Retrieved project: demo_proj\n",
      "Available segments: ['s1', 's2', 's3']\n"
     ]
    }
   ],
   "source": [
    "# Access the Projects container to retrieve the project\n",
    "retrieved = projects[project._id]\n",
    "print(\"Retrieved project:\", retrieved._id)\n",
    "print(\"Available segments:\", list(retrieved.segments.keys()))"
   ]
  },
  {
   "cell_type": "code",
   "execution_count": null,
   "id": "f966b432",
   "metadata": {},
   "outputs": [
    {
     "data": {
      "text/plain": [
       "['demo_proj']"
      ]
     },
     "execution_count": 12,
     "metadata": {},
     "output_type": "execute_result"
    }
   ],
   "source": [
    "list(projects)  # Should show the auto-generated project id(s)"
   ]
  },
  {
   "cell_type": "code",
   "execution_count": null,
   "id": "a100c4d8",
   "metadata": {},
   "outputs": [],
   "source": [
    "\n",
    "mesh = {\n",
    "    'embeddings': (call, ['embedder', 'segments']),\n",
    "    'planar_coords': (call, ['planarizer', 'embeddings']),\n",
    "    'cluster_ids': call(['clusterer', 'embeddings']),\n",
    "}"
   ]
  },
  {
   "cell_type": "code",
   "execution_count": null,
   "id": "d38ed711",
   "metadata": {},
   "outputs": [],
   "source": []
  },
  {
   "cell_type": "code",
   "execution_count": 3,
   "id": "c6531de8",
   "metadata": {},
   "outputs": [
    {
     "data": {
      "image/svg+xml": [
       "<?xml version=\"1.0\" encoding=\"UTF-8\" standalone=\"no\"?>\n",
       "<!DOCTYPE svg PUBLIC \"-//W3C//DTD SVG 1.1//EN\"\n",
       " \"http://www.w3.org/Graphics/SVG/1.1/DTD/svg11.dtd\">\n",
       "<!-- Generated by graphviz version 9.0.0 (20230911.1827)\n",
       " -->\n",
       "<!-- Pages: 1 -->\n",
       "<svg width=\"258pt\" height=\"332pt\"\n",
       " viewBox=\"0.00 0.00 258.25 332.00\" xmlns=\"http://www.w3.org/2000/svg\" xmlns:xlink=\"http://www.w3.org/1999/xlink\">\n",
       "<g id=\"graph0\" class=\"graph\" transform=\"scale(1 1) rotate(0) translate(4 328)\">\n",
       "<polygon fill=\"white\" stroke=\"none\" points=\"-4,4 -4,-328 254.25,-328 254.25,4 -4,4\"/>\n",
       "<!-- embeddings -->\n",
       "<g id=\"node1\" class=\"node\">\n",
       "<title>embeddings</title>\n",
       "<text text-anchor=\"middle\" x=\"129\" y=\"-156.95\" font-family=\"Times,serif\" font-size=\"14.00\">embeddings</text>\n",
       "</g>\n",
       "<!-- call_02 -->\n",
       "<g id=\"node7\" class=\"node\">\n",
       "<title>call_02</title>\n",
       "<polygon fill=\"none\" stroke=\"black\" points=\"103,-108 49,-108 49,-72 103,-72 103,-108\"/>\n",
       "<text text-anchor=\"middle\" x=\"76\" y=\"-84.95\" font-family=\"Times,serif\" font-size=\"14.00\">call</text>\n",
       "</g>\n",
       "<!-- embeddings&#45;&gt;call_02 -->\n",
       "<g id=\"edge6\" class=\"edge\">\n",
       "<title>embeddings&#45;&gt;call_02</title>\n",
       "<path fill=\"none\" stroke=\"black\" d=\"M116.17,-144.05C110.08,-136.01 102.65,-126.2 95.86,-117.23\"/>\n",
       "<polygon fill=\"black\" stroke=\"black\" points=\"98.82,-115.34 89.99,-109.48 93.24,-119.57 98.82,-115.34\"/>\n",
       "</g>\n",
       "<!-- call_03 -->\n",
       "<g id=\"node10\" class=\"node\">\n",
       "<title>call_03</title>\n",
       "<polygon fill=\"none\" stroke=\"black\" points=\"225,-108 171,-108 171,-72 225,-72 225,-108\"/>\n",
       "<text text-anchor=\"middle\" x=\"198\" y=\"-84.95\" font-family=\"Times,serif\" font-size=\"14.00\">call</text>\n",
       "</g>\n",
       "<!-- embeddings&#45;&gt;call_03 -->\n",
       "<g id=\"edge9\" class=\"edge\">\n",
       "<title>embeddings&#45;&gt;call_03</title>\n",
       "<path fill=\"none\" stroke=\"black\" d=\"M145.7,-144.05C153.89,-135.75 163.91,-125.58 172.98,-116.38\"/>\n",
       "<polygon fill=\"black\" stroke=\"black\" points=\"175.38,-118.93 179.91,-109.35 170.4,-114.02 175.38,-118.93\"/>\n",
       "</g>\n",
       "<!-- embedder -->\n",
       "<g id=\"node2\" class=\"node\">\n",
       "<title>embedder</title>\n",
       "<text text-anchor=\"middle\" x=\"86\" y=\"-300.95\" font-family=\"Times,serif\" font-size=\"14.00\">embedder</text>\n",
       "</g>\n",
       "<!-- call -->\n",
       "<g id=\"node4\" class=\"node\">\n",
       "<title>call</title>\n",
       "<polygon fill=\"none\" stroke=\"black\" points=\"156,-252 102,-252 102,-216 156,-216 156,-252\"/>\n",
       "<text text-anchor=\"middle\" x=\"129\" y=\"-228.95\" font-family=\"Times,serif\" font-size=\"14.00\">call</text>\n",
       "</g>\n",
       "<!-- embedder&#45;&gt;call -->\n",
       "<g id=\"edge2\" class=\"edge\">\n",
       "<title>embedder&#45;&gt;call</title>\n",
       "<path fill=\"none\" stroke=\"black\" d=\"M96.41,-288.05C101.2,-280.26 107,-270.82 112.37,-262.08\"/>\n",
       "<polygon fill=\"black\" stroke=\"black\" points=\"115.34,-263.92 117.6,-253.56 109.38,-260.25 115.34,-263.92\"/>\n",
       "</g>\n",
       "<!-- segments -->\n",
       "<g id=\"node3\" class=\"node\">\n",
       "<title>segments</title>\n",
       "<text text-anchor=\"middle\" x=\"173\" y=\"-300.95\" font-family=\"Times,serif\" font-size=\"14.00\">segments</text>\n",
       "</g>\n",
       "<!-- segments&#45;&gt;call -->\n",
       "<g id=\"edge3\" class=\"edge\">\n",
       "<title>segments&#45;&gt;call</title>\n",
       "<path fill=\"none\" stroke=\"black\" d=\"M162.35,-288.05C157.4,-280.18 151.39,-270.62 145.84,-261.79\"/>\n",
       "<polygon fill=\"black\" stroke=\"black\" points=\"148.95,-260.16 140.66,-253.56 143.02,-263.89 148.95,-260.16\"/>\n",
       "</g>\n",
       "<!-- call&#45;&gt;embeddings -->\n",
       "<g id=\"edge1\" class=\"edge\">\n",
       "<title>call&#45;&gt;embeddings</title>\n",
       "<path fill=\"none\" stroke=\"black\" d=\"M129,-215.7C129,-208.21 129,-199.26 129,-190.88\"/>\n",
       "<polygon fill=\"black\" stroke=\"black\" points=\"132.5,-191.14 129,-181.14 125.5,-191.14 132.5,-191.14\"/>\n",
       "</g>\n",
       "<!-- planar_coords -->\n",
       "<g id=\"node5\" class=\"node\">\n",
       "<title>planar_coords</title>\n",
       "<text text-anchor=\"middle\" x=\"76\" y=\"-12.95\" font-family=\"Times,serif\" font-size=\"14.00\">planar_coords</text>\n",
       "</g>\n",
       "<!-- planarizer -->\n",
       "<g id=\"node6\" class=\"node\">\n",
       "<title>planarizer</title>\n",
       "<text text-anchor=\"middle\" x=\"35\" y=\"-156.95\" font-family=\"Times,serif\" font-size=\"14.00\">planarizer</text>\n",
       "</g>\n",
       "<!-- planarizer&#45;&gt;call_02 -->\n",
       "<g id=\"edge5\" class=\"edge\">\n",
       "<title>planarizer&#45;&gt;call_02</title>\n",
       "<path fill=\"none\" stroke=\"black\" d=\"M44.92,-144.05C49.49,-136.26 55.02,-126.82 60.14,-118.08\"/>\n",
       "<polygon fill=\"black\" stroke=\"black\" points=\"63.08,-119.98 65.12,-109.58 57.04,-116.44 63.08,-119.98\"/>\n",
       "</g>\n",
       "<!-- call_02&#45;&gt;planar_coords -->\n",
       "<g id=\"edge4\" class=\"edge\">\n",
       "<title>call_02&#45;&gt;planar_coords</title>\n",
       "<path fill=\"none\" stroke=\"black\" d=\"M76,-71.7C76,-64.21 76,-55.26 76,-46.88\"/>\n",
       "<polygon fill=\"black\" stroke=\"black\" points=\"79.5,-47.14 76,-37.14 72.5,-47.14 79.5,-47.14\"/>\n",
       "</g>\n",
       "<!-- cluster_ids -->\n",
       "<g id=\"node8\" class=\"node\">\n",
       "<title>cluster_ids</title>\n",
       "<text text-anchor=\"middle\" x=\"198\" y=\"-12.95\" font-family=\"Times,serif\" font-size=\"14.00\">cluster_ids</text>\n",
       "</g>\n",
       "<!-- clusterer -->\n",
       "<g id=\"node9\" class=\"node\">\n",
       "<title>clusterer</title>\n",
       "<text text-anchor=\"middle\" x=\"219\" y=\"-156.95\" font-family=\"Times,serif\" font-size=\"14.00\">clusterer</text>\n",
       "</g>\n",
       "<!-- clusterer&#45;&gt;call_03 -->\n",
       "<g id=\"edge8\" class=\"edge\">\n",
       "<title>clusterer&#45;&gt;call_03</title>\n",
       "<path fill=\"none\" stroke=\"black\" d=\"M213.92,-144.05C211.68,-136.6 208.99,-127.64 206.47,-119.22\"/>\n",
       "<polygon fill=\"black\" stroke=\"black\" points=\"209.84,-118.3 203.62,-109.73 203.14,-120.31 209.84,-118.3\"/>\n",
       "</g>\n",
       "<!-- call_03&#45;&gt;cluster_ids -->\n",
       "<g id=\"edge7\" class=\"edge\">\n",
       "<title>call_03&#45;&gt;cluster_ids</title>\n",
       "<path fill=\"none\" stroke=\"black\" d=\"M198,-71.7C198,-64.21 198,-55.26 198,-46.88\"/>\n",
       "<polygon fill=\"black\" stroke=\"black\" points=\"201.5,-47.14 198,-37.14 194.5,-47.14 201.5,-47.14\"/>\n",
       "</g>\n",
       "</g>\n",
       "</svg>\n"
      ],
      "text/plain": [
       "<graphviz.graphs.Digraph at 0x109f89840>"
      ]
     },
     "execution_count": 3,
     "metadata": {},
     "output_type": "execute_result"
    }
   ],
   "source": [
    "from meshed import code_to_dag\n",
    "\n",
    "@code_to_dag\n",
    "def imbed_projects():\n",
    "    embeddings = call(embedder, segments)\n",
    "    planar_coords = call(planarizer, embeddings)\n",
    "    cluster_ids = call(clusterer, embeddings)\n",
    "\n",
    "imbed_projects.dot_digraph()\n",
    "    "
   ]
  },
  {
   "cell_type": "code",
   "execution_count": 5,
   "id": "7d684597",
   "metadata": {},
   "outputs": [
    {
     "data": {
      "text/plain": [
       "{'embeddings': ['call', 'embedder', 'segments'],\n",
       " 'planar_coords': ['call_02', 'planarizer', 'embeddings'],\n",
       " 'cluster_ids': ['call_03', 'clusterer', 'embeddings']}"
      ]
     },
     "execution_count": 5,
     "metadata": {},
     "output_type": "execute_result"
    }
   ],
   "source": [
    "def get_dependency_mapping(dag):\n",
    "    \"\"\"Extract dependency mapping from a DAG's func_nodes\"\"\"\n",
    "    result = {}\n",
    "    \n",
    "    for func_node in dag.func_nodes:\n",
    "        output_name = func_node.out  # The output variable name\n",
    "        func_name = func_node.name   # The function name\n",
    "        \n",
    "        # Get input parameters from the function node's signature\n",
    "        input_params = list(func_node.sig.names)\n",
    "        \n",
    "        # Build the dependency list: [function_name, *input_params]\n",
    "        result[output_name] = [func_name] + input_params\n",
    "    \n",
    "    return result\n",
    "\n",
    "get_dependency_mapping(imbed_projects)"
   ]
  },
  {
   "cell_type": "code",
   "execution_count": null,
   "id": "b50dbd59",
   "metadata": {},
   "outputs": [],
   "source": []
  },
  {
   "cell_type": "code",
   "execution_count": null,
   "id": "cdd55aae",
   "metadata": {},
   "outputs": [],
   "source": [
    "import http_services"
   ]
  },
  {
   "cell_type": "code",
   "execution_count": null,
   "id": "55720b15",
   "metadata": {},
   "outputs": [],
   "source": []
  },
  {
   "cell_type": "code",
   "execution_count": null,
   "id": "f55e479e",
   "metadata": {},
   "outputs": [],
   "source": []
  }
 ],
 "metadata": {
  "kernelspec": {
   "display_name": "p10",
   "language": "python",
   "name": "python3"
  },
  "language_info": {
   "codemirror_mode": {
    "name": "ipython",
    "version": 3
   },
   "file_extension": ".py",
   "mimetype": "text/x-python",
   "name": "python",
   "nbconvert_exporter": "python",
   "pygments_lexer": "ipython3",
   "version": "3.10.13"
  }
 },
 "nbformat": 4,
 "nbformat_minor": 5
}
