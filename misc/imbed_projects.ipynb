{
 "cells": [
  {
   "cell_type": "markdown",
   "id": "f64fcd96",
   "metadata": {},
   "source": [
    "# Demo: Using the Projects Class\n",
    "\n",
    "This demo shows how to use the `Projects` container and the `Project` class for managing text segments, embeddings, and planarizations."
   ]
  },
  {
   "cell_type": "code",
   "execution_count": 1,
   "id": "90e4ed93",
   "metadata": {},
   "outputs": [],
   "source": [
    "from imbed.imbed_project import Project, Projects\n",
    "\n",
    "project = Project.from_mall()"
   ]
  },
  {
   "cell_type": "code",
   "execution_count": 2,
   "id": "639aa691",
   "metadata": {},
   "outputs": [
    {
     "name": "stdout",
     "output_type": "stream",
     "text": [
      "Deleting all segments from the project...\n"
     ]
    }
   ],
   "source": [
    "if sorted(project.segments.keys()) == ['hi', 'w']:\n",
    "    print(\"Deleting all segments from the project...\")\n",
    "    _ = list(map(project.segments.__delitem__, project.segments.keys()))"
   ]
  },
  {
   "cell_type": "code",
   "execution_count": 3,
   "id": "679dcb6e",
   "metadata": {},
   "outputs": [
    {
     "data": {
      "text/plain": [
       "['hi', 'w']"
      ]
     },
     "execution_count": 3,
     "metadata": {},
     "output_type": "execute_result"
    },
    {
     "name": "stderr",
     "output_type": "stream",
     "text": [
      "Failed to write result for key 22b65ba2-2a02-4a64-9cbb-06e51cc5022d: cannot pickle 'coroutine' object\n",
      "/Users/thorwhalen/.pyenv/versions/3.10.13/lib/python3.10/concurrent/futures/thread.py:58: RuntimeWarning: coroutine 'constant_vectorizer' was never awaited\n",
      "  result = self.fn(*self.args, **self.kwargs)\n",
      "RuntimeWarning: Enable tracemalloc to get the object allocation traceback\n"
     ]
    },
    {
     "name": "stdout",
     "output_type": "stream",
     "text": [
      "Failed to compute embeddings: Result file for key 22b65ba2-2a02-4a64-9cbb-06e51cc5022d is empty or incomplete.\n"
     ]
    }
   ],
   "source": [
    "from imbed.imbed_project import Project, Projects\n",
    "\n",
    "project = Project.from_mall()\n",
    "project.add_segments({'hi': 'Hello', 'w': 'world'})\n"
   ]
  },
  {
   "cell_type": "code",
   "execution_count": null,
   "id": "bb54160c",
   "metadata": {},
   "outputs": [],
   "source": []
  },
  {
   "cell_type": "code",
   "execution_count": null,
   "id": "1c72b177",
   "metadata": {},
   "outputs": [],
   "source": []
  },
  {
   "cell_type": "code",
   "execution_count": null,
   "id": "394707a7",
   "metadata": {},
   "outputs": [],
   "source": [
    "from au import ComputationHandle"
   ]
  },
  {
   "cell_type": "code",
   "execution_count": null,
   "id": "3d795c5a",
   "metadata": {},
   "outputs": [],
   "source": []
  },
  {
   "cell_type": "code",
   "execution_count": 7,
   "id": "aca73dbb",
   "metadata": {},
   "outputs": [
    {
     "data": {
      "text/plain": [
       "[]"
      ]
     },
     "execution_count": 7,
     "metadata": {},
     "output_type": "execute_result"
    }
   ],
   "source": [
    "from imbed.imbed_project import Projects\n",
    "\n",
    "# Define simple embedders and planarizers for demonstration\n",
    "def simple_embedder(segments):\n",
    "    if isinstance(segments, dict):\n",
    "        return {k: [len(v), v.count(' '), v.count('.')] for k, v in segments.items()}\n",
    "    else:\n",
    "        return [[len(s), s.count(' '), s.count('.')] for s in segments]\n",
    "\n",
    "def simple_planarizer(vectors):\n",
    "    return [(float(v[0]), float(v[1]) if len(v) > 1 else 0.0) for v in vectors]\n",
    "\n",
    "# Get the Projects container\n",
    "projects = Projects()\n",
    "# List the existing projects\n",
    "list(projects)"
   ]
  },
  {
   "cell_type": "code",
   "execution_count": null,
   "id": "fe722fd1",
   "metadata": {},
   "outputs": [
    {
     "name": "stdout",
     "output_type": "stream",
     "text": [
      "Project created: demo_proj\n"
     ]
    }
   ],
   "source": [
    "# Create a new project with the simple embedder and planarizer\n",
    "project = projects.create_project(\n",
    "    embedders={'default': simple_embedder},\n",
    "    planarizers={'default': simple_planarizer},\n",
    "    async_embeddings=False  # Use synchronous mode for demo\n",
    ")\n",
    "\n",
    "print(\"Project created:\", project._id)"
   ]
  },
  {
   "cell_type": "code",
   "execution_count": 9,
   "id": "72228263",
   "metadata": {},
   "outputs": [
    {
     "name": "stdout",
     "output_type": "stream",
     "text": [
      "Segments added: ['s1', 's2', 's3']\n",
      "Embeddings: {'s1': [20, 3, 1], 's2': [24, 4, 1], 's3': [14, 2, 0]}\n"
     ]
    }
   ],
   "source": [
    "# Add some text segments to the project\n",
    "segments = {\n",
    "    \"s1\": \"The quick brown fox.\",\n",
    "    \"s2\": \"Jumps over the lazy dog.\",\n",
    "    \"s3\": \"Python is fun!\"\n",
    "}\n",
    "project.add_segments(segments)\n",
    "print(\"Segments added:\", list(project.segments.keys()))\n",
    "print(\"Embeddings:\", project.vectors)"
   ]
  },
  {
   "cell_type": "code",
   "execution_count": 10,
   "id": "863a423a",
   "metadata": {},
   "outputs": [
    {
     "name": "stdout",
     "output_type": "stream",
     "text": [
      "Planar coordinates saved under: default_20250613_101216\n",
      "Planar coordinates: {'s1': (20.0, 3.0), 's2': (24.0, 4.0), 's3': (14.0, 2.0)}\n"
     ]
    }
   ],
   "source": [
    "# Compute planar coordinates for the segments' embeddings\n",
    "save_key = project.compute(\"planarizer\", \"default\")\n",
    "print(\"Planar coordinates saved under:\", save_key)\n",
    "print(\"Planar coordinates:\", project.planar_coords[save_key])"
   ]
  },
  {
   "cell_type": "code",
   "execution_count": null,
   "id": "ebcae71c",
   "metadata": {},
   "outputs": [
    {
     "name": "stdout",
     "output_type": "stream",
     "text": [
      "Retrieved project: demo_proj\n",
      "Available segments: ['s1', 's2', 's3']\n"
     ]
    }
   ],
   "source": [
    "# Access the Projects container to retrieve the project\n",
    "retrieved = projects[project._id]\n",
    "print(\"Retrieved project:\", retrieved._id)\n",
    "print(\"Available segments:\", list(retrieved.segments.keys()))"
   ]
  },
  {
   "cell_type": "code",
   "execution_count": null,
   "id": "f966b432",
   "metadata": {},
   "outputs": [
    {
     "data": {
      "text/plain": [
       "['demo_proj']"
      ]
     },
     "execution_count": 12,
     "metadata": {},
     "output_type": "execute_result"
    }
   ],
   "source": [
    "list(projects)  # Should show the auto-generated project id(s)"
   ]
  },
  {
   "cell_type": "code",
   "execution_count": null,
   "id": "f55e479e",
   "metadata": {},
   "outputs": [],
   "source": []
  }
 ],
 "metadata": {
  "kernelspec": {
   "display_name": "p10",
   "language": "python",
   "name": "python3"
  },
  "language_info": {
   "codemirror_mode": {
    "name": "ipython",
    "version": 3
   },
   "file_extension": ".py",
   "mimetype": "text/x-python",
   "name": "python",
   "nbconvert_exporter": "python",
   "pygments_lexer": "ipython3",
   "version": "3.10.13"
  }
 },
 "nbformat": 4,
 "nbformat_minor": 5
}
