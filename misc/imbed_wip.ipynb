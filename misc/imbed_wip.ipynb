{
 "cells": [
  {
   "cell_type": "markdown",
   "metadata": {},
   "source": [
    "This notebook contains the work-in-progress (WIP) scrap for the `imbed` project.\n",
    "\n",
    "It is not meant to be run by all.\n"
   ]
  },
  {
   "cell_type": "code",
   "execution_count": null,
   "metadata": {},
   "outputs": [],
   "source": []
  },
  {
   "cell_type": "code",
   "execution_count": 1,
   "metadata": {},
   "outputs": [
    {
     "data": {
      "text/plain": [
       "imbed_data_prep.hcp.Hcp3Dacc"
      ]
     },
     "execution_count": 1,
     "metadata": {},
     "output_type": "execute_result"
    }
   ],
   "source": [
    "# import imbed_data_prep.hcp\n",
    "from imbed_data_prep import hcp\n",
    "from imbed_data_prep.hcp import Hcp3Dacc\n",
    "\n",
    "Hcp3Dacc"
   ]
  },
  {
   "cell_type": "markdown",
   "metadata": {},
   "source": [
    "# Interface"
   ]
  },
  {
   "cell_type": "markdown",
   "metadata": {},
   "source": [
    "## index and search docs"
   ]
  },
  {
   "cell_type": "code",
   "execution_count": null,
   "metadata": {},
   "outputs": [],
   "source": [
    "\n",
    "docs = {\n",
    "    \"doc_1\": \"Socrates is a man\",\n",
    "    \"doc_2\": \"All men are mortal\",\n",
    "    \"doc_3\": \"Simone de Beauvoir\"\n",
    "}\n",
    "\n",
    "# Make a class VectorDB the wraps a vector database (e.g. chromadb).\n",
    "# It should take as parameters what ever you want (immbeder, text splitter, etc.)\n",
    "# and that has the following methods:\n",
    "vectordb = VectorDB(...)\n",
    "\n",
    "vectordb.add(docs)\n",
    "# should add the docs.values() content, using the docs.keys() as ids\n",
    "# Ids should be maintained to be unique.\n",
    "# If the ids already exist, there should be options on how to handle it:\n",
    "#   - error\n",
    "#   - overwrite\n",
    "#   - skip (i.e. only add the ids that don't already exist)\n",
    "\n",
    "ids: Iterable = vectordb.search(query: str)\n",
    "# if possible, should yield ids instead of returning a list of them\n",
    "# That is, search should return an iterable or iterator.\n",
    "# But do this only if the underlying vectordb search supports it (generators etc.)\n",
    "ids = vectordb.search(query, k=2)  # optionally yeilds the top k results\n",
    "\n",
    "\n",
    "metadata = {\n",
    "    \"doc_1\": {\"author\": \"Plato\", \"year\": 400},\n",
    "    \"doc_2\": {\"author\": \"Plato\", \"year\": 400},\n",
    "    \"doc_3\": {\"author\": \"Sartre\", \"year\": 1949}\n",
    "}\n",
    "vectordb.add_metadata(metadata)\n",
    "\n"
   ]
  },
  {
   "cell_type": "code",
   "execution_count": 21,
   "metadata": {},
   "outputs": [],
   "source": [
    "from typing import Iterable, Mapping, Protocol, Any, Literal\n",
    "\n",
    "# Literal is a \"typing\" way of doing Enum\n",
    "WhenIdExists = Literal[\"error\", \"overwrite\", \"skip\"]\n",
    "\n",
    "DocKey = str\n",
    "DocContent = str\n",
    "\n",
    "class VectorDB(Protocol):\n",
    "\n",
    "    def add(self, docs: Mapping[DocKey, DocContent], when_id_exists: WhenIdExists = \"error\"):\n",
    "        pass\n",
    "\n",
    "    def search(self, query: str, k: int = 10) -> Iterable[DocKey]:\n",
    "        pass\n",
    "\n",
    "    def get_doc_content(self, key: DocKey) -> DocContent:\n",
    "        pass\n",
    "\n",
    "    def add_metadata(self, metadata: Mapping[DocKey, dict]):\n",
    "        pass\n",
    "    \n",
    "docs = {\n",
    "    \"doc_1\": \"Socrates is a man\",\n",
    "    \"doc_2\": \"All men are mortal\",\n",
    "    \"doc_3\": \"Simone de Beauvoir\"\n",
    "}\n",
    "\n",
    "def test_mapping_indexing(vectordb: VectorDB):\n",
    "    vectordb.add(docs)\n",
    "    ids = vectordb.search(\"Socrates\")\n",
    "    ids = set(ids)\n",
    "    assert \"doc_1\" in ids\n",
    "\n",
    "    first_id = next(iter(vectordb.search(\"Socrates\")))\n",
    "    assert first_id == 'doc_1'\n",
    "\n",
    "    # test idempotency (look up idempotent)\n",
    "    # i.e. when_id_exists\n",
    "    docs_2 = {\n",
    "        'doc_3': 'de Beauvoir',\n",
    "        'doc_4': 'the second sex'\n",
    "    }\n",
    "    vectordb.add(docs_2, when_id_exists='overwrite')\n",
    "    # test that doc_3 was overwritten and doc_4 was added\n",
    "\n",
    "\n",
    "LangChainVectorDB: VectorDB  # Note I mean LangChainVectorDB has interface of VectorDB\n",
    "ChromaDBVectorDB: VectorDB  # Note I mean LangChainVectorDB has interface of VectorDB\n",
    "\n",
    "\n",
    "\n"
   ]
  },
  {
   "cell_type": "code",
   "execution_count": 44,
   "metadata": {},
   "outputs": [
    {
     "ename": "AssertionError",
     "evalue": "",
     "output_type": "error",
     "traceback": [
      "\u001b[0;31m---------------------------------------------------------------------------\u001b[0m",
      "\u001b[0;31mAssertionError\u001b[0m                            Traceback (most recent call last)",
      "Cell \u001b[0;32mIn[44], line 40\u001b[0m\n\u001b[1;32m     37\u001b[0m     \u001b[38;5;28;01massert\u001b[39;00m \u001b[38;5;28mlen\u001b[39m(a) \u001b[38;5;241m==\u001b[39m \u001b[38;5;241m2\u001b[39m\n\u001b[1;32m     38\u001b[0m     \u001b[38;5;28;01massert\u001b[39;00m a[\u001b[38;5;124m'\u001b[39m\u001b[38;5;124mdoc_1\u001b[39m\u001b[38;5;124m'\u001b[39m, \u001b[38;5;241m0\u001b[39m, \u001b[38;5;241m8\u001b[39m] \u001b[38;5;241m==\u001b[39m \u001b[38;5;124m'\u001b[39m\u001b[38;5;124mSocrates\u001b[39m\u001b[38;5;124m'\u001b[39m\n\u001b[0;32m---> 40\u001b[0m \u001b[43mtest_segment_mapping\u001b[49m\u001b[43m(\u001b[49m\u001b[43m)\u001b[49m\n",
      "Cell \u001b[0;32mIn[44], line 37\u001b[0m, in \u001b[0;36mtest_segment_mapping\u001b[0;34m(segment_mapping_cls)\u001b[0m\n\u001b[1;32m     35\u001b[0m a \u001b[38;5;241m=\u001b[39m SegmentMapping(docs, segment_keys)\n\u001b[1;32m     36\u001b[0m \u001b[38;5;28;01massert\u001b[39;00m \u001b[38;5;28mlist\u001b[39m(a) \u001b[38;5;241m==\u001b[39m [(\u001b[38;5;124m'\u001b[39m\u001b[38;5;124mdoc_1\u001b[39m\u001b[38;5;124m'\u001b[39m, \u001b[38;5;241m0\u001b[39m, \u001b[38;5;241m8\u001b[39m), (\u001b[38;5;124m'\u001b[39m\u001b[38;5;124mdoc_1\u001b[39m\u001b[38;5;124m'\u001b[39m, \u001b[38;5;241m9\u001b[39m, \u001b[38;5;241m11\u001b[39m)]\n\u001b[0;32m---> 37\u001b[0m \u001b[38;5;28;01massert\u001b[39;00m \u001b[38;5;28mlen\u001b[39m(a) \u001b[38;5;241m==\u001b[39m \u001b[38;5;241m2\u001b[39m\n\u001b[1;32m     38\u001b[0m \u001b[38;5;28;01massert\u001b[39;00m a[\u001b[38;5;124m'\u001b[39m\u001b[38;5;124mdoc_1\u001b[39m\u001b[38;5;124m'\u001b[39m, \u001b[38;5;241m0\u001b[39m, \u001b[38;5;241m8\u001b[39m] \u001b[38;5;241m==\u001b[39m \u001b[38;5;124m'\u001b[39m\u001b[38;5;124mSocrates\u001b[39m\u001b[38;5;124m'\u001b[39m\n",
      "\u001b[0;31mAssertionError\u001b[0m: "
     ]
    }
   ],
   "source": [
    "from typing import Tuple, List\n",
    "\n",
    "SegmentKey = Tuple[DocKey, int, int]\n",
    "\n",
    "class SegmentMapping:\n",
    "    def __init__(self, docs: Mapping, segment_keys: List[SegmentKey]):\n",
    "        self.docs = docs\n",
    "        self.segment_keys = segment_keys\n",
    "\n",
    "    def __iter__(self):\n",
    "        yield from self.segment_keys\n",
    "\n",
    "    def __getitem__(self, key: SegmentKey):\n",
    "        # if you want to validate\n",
    "        # if key not in self.segment_keys:\n",
    "        #     raise KeyError(key)\n",
    "        doc_key, start_idx, end_idx = key\n",
    "        return self.docs[doc_key][start_idx:end_idx]\n",
    "    \n",
    "    def __len__(self):\n",
    "        return len(self.segment_keys) + 1\n",
    "    \n",
    "    def __contains__(self, key: SegmentKey):\n",
    "        # Optional, but faster this way\n",
    "        return key in self.segment_keys\n",
    "    \n",
    "\n",
    "def test_segment_mapping(segment_mapping_cls=SegmentMapping):\n",
    "    docs = {\n",
    "        \"doc_1\": \"Socrates is a man\",\n",
    "        \"doc_2\": \"All men are mortal\",\n",
    "        \"doc_3\": \"Simone de Beauvoir\"\n",
    "    }\n",
    "    segment_keys = [('doc_1', 0, 8), ('doc_1', 9, 11)]\n",
    "    a = SegmentMapping(docs, segment_keys)\n",
    "    assert list(a) == [('doc_1', 0, 8), ('doc_1', 9, 11)]\n",
    "    assert len(a) == 2\n",
    "    assert a['doc_1', 0, 8] == 'Socrates'\n",
    "\n"
   ]
  },
  {
   "cell_type": "code",
   "execution_count": 41,
   "metadata": {},
   "outputs": [],
   "source": [
    "assert list(a) == [('doc_1', 0, 8), ('doc_1', 9, 11)]\n",
    "assert a['doc_1', 0, 8] == 'Socrates'\n"
   ]
  },
  {
   "cell_type": "code",
   "execution_count": null,
   "metadata": {},
   "outputs": [],
   "source": [
    "def test_segment_mapping(segment_mapping_cls=SegmentMapping):\n",
    "    docs = {\n",
    "        \"doc_1\": \"Socrates is a man\",\n",
    "        \"doc_2\": \"All men are mortal\",\n",
    "        \"doc_3\": \"Simone de Beauvoir\"\n",
    "    }\n",
    "    segment_keys = [('doc_1', 0, 8), ('doc_1', 9, 11)]\n",
    "    a = SegmentMapping(docs, segment_keys)\n",
    "    assert list(a) == [('doc_1', 0, 8), ('doc_1', 9, 11)]\n",
    "    assert a['doc_1', 0, 8] == 'Socrates'"
   ]
  },
  {
   "cell_type": "code",
   "execution_count": 28,
   "metadata": {},
   "outputs": [
    {
     "data": {
      "text/plain": [
       "'Socrates'"
      ]
     },
     "execution_count": 28,
     "metadata": {},
     "output_type": "execute_result"
    }
   ],
   "source": [
    "t = {\n",
    "    (\"doc_1\", 0, 8): \"Socrates\",\n",
    "    (\"doc_1\", 10, 12): \"is\",\n",
    "}\n",
    "\n",
    "t[\"doc_1\", 0, 8]"
   ]
  },
  {
   "cell_type": "code",
   "execution_count": 29,
   "metadata": {},
   "outputs": [
    {
     "data": {
      "text/plain": [
       "[('doc_1', 0, 8), ('doc_1', 10, 12)]"
      ]
     },
     "execution_count": 29,
     "metadata": {},
     "output_type": "execute_result"
    }
   ],
   "source": [
    "list(t)"
   ]
  },
  {
   "cell_type": "code",
   "execution_count": 9,
   "metadata": {},
   "outputs": [
    {
     "data": {
      "text/plain": [
       "True"
      ]
     },
     "execution_count": 9,
     "metadata": {},
     "output_type": "execute_result"
    }
   ],
   "source": [
    "from typing import Any\n",
    "\n",
    "\n",
    "class Startswith:\n",
    "    def __init__(self, char: str) -> None:\n",
    "        self.char = char\n",
    "    def __contains__(self, key):\n",
    "        return key.startswith(self.char)\n",
    "\n",
    "    \n",
    "s = Startswith('b')\n",
    "\n",
    "'bsdf' in s"
   ]
  },
  {
   "cell_type": "code",
   "execution_count": 10,
   "metadata": {},
   "outputs": [
    {
     "ename": "TypeError",
     "evalue": "'Startswith' object is not iterable",
     "output_type": "error",
     "traceback": [
      "\u001b[0;31m---------------------------------------------------------------------------\u001b[0m",
      "\u001b[0;31mTypeError\u001b[0m                                 Traceback (most recent call last)",
      "Cell \u001b[0;32mIn[10], line 1\u001b[0m\n\u001b[0;32m----> 1\u001b[0m \u001b[38;5;28;01mfor\u001b[39;00m i \u001b[38;5;129;01min\u001b[39;00m s:\n\u001b[1;32m      2\u001b[0m     \u001b[38;5;28mprint\u001b[39m(i)\n",
      "\u001b[0;31mTypeError\u001b[0m: 'Startswith' object is not iterable"
     ]
    }
   ],
   "source": [
    "for i in s:\n",
    "    print(i)"
   ]
  },
  {
   "cell_type": "code",
   "execution_count": null,
   "metadata": {},
   "outputs": [],
   "source": []
  },
  {
   "cell_type": "code",
   "execution_count": 2,
   "metadata": {},
   "outputs": [
    {
     "data": {
      "text/plain": [
       "'/Users/thorwhalen/Dropbox/py/proj/t/imbed/misc'"
      ]
     },
     "execution_count": 2,
     "metadata": {},
     "output_type": "execute_result"
    }
   ],
   "source": []
  },
  {
   "cell_type": "code",
   "execution_count": 5,
   "metadata": {},
   "outputs": [
    {
     "name": "stdout",
     "output_type": "stream",
     "text": [
      "24\n"
     ]
    },
    {
     "data": {
      "text/plain": [
       "['srag/srag/mz/mz_mockups.py',\n",
       " 'srag/srag/ad/ad_mockups.py',\n",
       " 'srag/srag/__init__.py',\n",
       " 'srag/srag/tw/__init__.py',\n",
       " 'srag/srag/tw/mockups.py',\n",
       " 'srag/srag/tw/ragdag1.py',\n",
       " 'srag/srag/tw/raglab2.py',\n",
       " 'srag/srag/tw/tw_util.py',\n",
       " 'srag/setup.py',\n",
       " 'raglab/docsrc/conf.py',\n",
       " 'raglab/raglab/util.py',\n",
       " 'raglab/raglab/tests/test_stores_util.py',\n",
       " 'raglab/raglab/__init__.py',\n",
       " 'raglab/raglab/stores/__init__.py',\n",
       " 'raglab/raglab/stores/stores_util.py',\n",
       " 'raglab/raglab/stores/simple_stores.py',\n",
       " 'raglab/raglab/raglab2.py',\n",
       " 'raglab/raglab/retrieval/chroma_client.py',\n",
       " 'raglab/raglab/app.py',\n",
       " 'raglab/raglab/web_services/prompt_templates_dde.py',\n",
       " 'raglab/raglab/web_services/__init__.py',\n",
       " 'raglab/raglab/web_services/mockups.py',\n",
       " 'raglab/raglab/web_services/store_access.py',\n",
       " 'raglab/setup.py']"
      ]
     },
     "execution_count": 5,
     "metadata": {},
     "output_type": "execute_result"
    }
   ],
   "source": [
    "from dol import TextFiles, filt_iter\n",
    "\n",
    "s = TextFiles('/Users/thorwhalen/Dropbox/py/proj/a')\n",
    "s = filt_iter(s, filt=lambda x: x.endswith('.py'))\n",
    "\n",
    "all_py_addaix_files = list(s)\n",
    "print(f\"{len(all_py_addaix_files)}\")\n",
    "list(all_py_addaix_files)\n",
    "\n"
   ]
  },
  {
   "cell_type": "code",
   "execution_count": 7,
   "metadata": {},
   "outputs": [
    {
     "name": "stdout",
     "output_type": "stream",
     "text": [
      "import re\n",
      "from typing import Mapping\n",
      "\n",
      "import sys\n",
      "\n",
      "# from srag.tw.tw_util import _module_callables, _skip_this\n",
      "\n",
      "\n",
      "# @_skip_this\n",
      "# def igore_this(x):\n",
      "#     return x + 1\n",
      "\n",
      "\n",
      "def user_function(obj):\n",
      "    obj._user_function__ = True\n",
      "    return obj\n",
      "\n",
      "\n",
      "def is_user_function(obj):\n",
      "    return hasattr(obj, \"_user_function__\")\n",
      "\n",
      "\n",
      "def get_user_functions(module):\n",
      "    return [v for k, v in vars(module).items() if is_user_function(v)]\n",
      "\n",
      "\n",
      "datasets = {\n",
      "    'philosophy': {\n",
      "        \"statement_1\": \"Bob is a man\",\n",
      "        \"statement_2\": \"Bob is a name\",\n",
      "        \"statement_3\": \"Men are mortal\",\n",
      "        \"statement_4\": \"1 + 1 = 2\",\n",
      "    },\n",
      "    'fruit': {\n",
      "        \"apples\": \"Apples are red\",\n",
      "        \"more_apples\": \"Apples are fruit\",\n",
      "        \"good\": \"Fruit are good\",\n",
      "        \"outlier\": \"Cars drive on the road\",\n",
      "    },\n",
      "}\n",
      "\n",
      "\n",
      "@user_function\n",
      "def dataset_list():\n",
      "    return list(datasets.keys())\n",
      "\n",
      "\n",
      "stopwords = {\n",
      "    'is',\n",
      "    'are',\n",
      "    'a',\n",
      "    'an',\n",
      "    'the',\n",
      "    'on',\n",
      "    'in',\n",
      "    'at',\n",
      "    'for',\n",
      "    'to',\n",
      "    'of',\n",
      "    'and',\n",
      "    'or',\n",
      "    'not',\n",
      "    'no',\n",
      "    'yes',\n",
      "    'true',\n",
      "    'false',\n",
      "    'good',\n",
      "    'bad',\n",
      "}\n",
      "\n",
      "\n",
      "@user_function\n",
      "def add_stopword(word):\n",
      "    stopwords.add(word.lower())\n",
      "\n",
      "\n",
      "@user_function\n",
      "def get_stopwords():\n",
      "    return list(stopwords)\n",
      "\n",
      "\n",
      "@user_function\n",
      "def search_dataset(\n",
      "    dataset_name: str,\n",
      "    query: str,\n",
      "    # *,\n",
      "    # datasets: Mapping = datasets,\n",
      "    # stopwords: set = stopwords,\n",
      "):\n",
      "    \"\"\"Searches the dataset given by dataset_name for content matching query\"\"\"\n",
      "    query_terms = map(lambda x: x.lower(), re.findall(r'\\w+', query))\n",
      "    query_terms = [x for x in query_terms if x not in stopwords]\n",
      "    query_terms_pattern = re.compile(\n",
      "        '|'.join(f\"({x})\" for x in query_terms), re.IGNORECASE\n",
      "    )\n",
      "\n",
      "    query_matches = lambda x: query_terms_pattern.search(x) is not None\n",
      "\n",
      "    dataset = datasets[dataset_name]\n",
      "\n",
      "    def matching_dataset_ids():\n",
      "        for key, contents in dataset.items():\n",
      "            if query_matches(contents):\n",
      "                yield key\n",
      "\n",
      "    return list(matching_dataset_ids())\n",
      "\n",
      "\n",
      "# _current_module = sys.modules[__name__]\n",
      "\n",
      "# funcs = [dataset_list, add_stopword, get_stopwords, search_dataset]\n",
      "# funcs = [dataset_list, add_stopword, get_stopwords]\n",
      "\n",
      "import sys\n",
      "\n",
      "_current_module = sys.modules[__name__]\n",
      "funcs = get_user_functions(_current_module)\n",
      "\n",
      "\n",
      "if __name__ == '__main__':\n",
      "    from py2http import run_app\n",
      "\n",
      "    run_app(funcs, publish_openapi=True, publish_swagger=True)\n",
      "\n",
      "\n",
      "# if __name__ == '__main__':\n",
      "\n",
      "#     from streamlitfront import mk_app\n",
      "\n",
      "#     app = mk_app(funcs)\n",
      "#     app()\n",
      "\n"
     ]
    }
   ],
   "source": [
    "print(s['srag/srag/ad/ad_mockups.py'])"
   ]
  },
  {
   "cell_type": "code",
   "execution_count": null,
   "metadata": {},
   "outputs": [],
   "source": []
  },
  {
   "cell_type": "code",
   "execution_count": null,
   "metadata": {},
   "outputs": [],
   "source": []
  },
  {
   "cell_type": "markdown",
   "metadata": {},
   "source": [
    "Note `grub`'s interface, which could be used, with some modifications."
   ]
  },
  {
   "cell_type": "code",
   "execution_count": 7,
   "metadata": {},
   "outputs": [
    {
     "name": "stdout",
     "output_type": "stream",
     "text": [
      "SearchStore((store, n_neighbors: int = 10, tokenizer=<function camelcase_and_underscore_tokenizer at 0x137beecb0>))\n",
      "\n",
      "Build a search index for anything (that is given a mapping interface with string values).\n",
      "\n",
      "    A store is anything with a ``collections.Mapping`` interface.\n",
      "\n",
      "\n",
      "TfidfKnnSearcher((search_store: Mapping = <grub.base.DfltSearchStore object at 0x134aaac50>, tfidf: sklearn.feature_extraction.text.TfidfVectorizer = TfidfVectorizer(), knn: sklearn.neighbors._unsupervised.NearestNeighbors = NearestNeighbors(metric='cosine', n_neighbors=10)) -> None)\n",
      "\n",
      "TfidfKnnSearcher(search_store: Mapping = <grub.base.DfltSearchStore object at 0x134aaac50>, tfidf: sklearn.feature_extraction.text.TfidfVectorizer = TfidfVectorizer(), knn: sklearn.neighbors._unsupervised.NearestNeighbors = NearestNeighbors(metric='cosine', n_neighbors=10))\n",
      "\n",
      "\n"
     ]
    }
   ],
   "source": [
    "import grub\n",
    "from i2 import Sig\n",
    "\n",
    "def print_obj_info(obj, max_n_doc_lines=3, *, suffix='\\n'):\n",
    "    sig = Sig(obj)\n",
    "    print(f\"{obj.__name__}({sig})\\n\")\n",
    "    lines = obj.__doc__.splitlines()[:max_n_doc_lines]\n",
    "    docstr = \"\\n\".join(lines)\n",
    "    print(f\"{docstr}\")\n",
    "    print(suffix)\n",
    "\n",
    "print_obj_info(grub.SearchStore)\n",
    "print_obj_info(grub.TfidfKnnSearcher)"
   ]
  },
  {
   "cell_type": "code",
   "execution_count": null,
   "metadata": {},
   "outputs": [],
   "source": [
    "import langchain"
   ]
  },
  {
   "cell_type": "code",
   "execution_count": null,
   "metadata": {},
   "outputs": [],
   "source": []
  },
  {
   "cell_type": "code",
   "execution_count": null,
   "metadata": {},
   "outputs": [],
   "source": [
    "from functools import partial, cached_property\n",
    "from dataclasses import dataclass\n",
    "from typing import Mapping, Callable, MutableMapping\n",
    "\n",
    "class Imbed:\n",
    "    docs: Mapping = None\n",
    "    segments: MutableMapping = None\n",
    "    embedder: Callable = None\n",
    "\n",
    "raw_docs = mk_text_store(doc_src_uri)  # the store used will depend on the source and format of where the docs are stored\n",
    "segments = mk_segments_store(raw_docs, ...)  # will not copy any data over, but will give a key-value view of chunked (split) docs\n",
    "search_ctrl = mk_search_controller(vectorDB, embedder, ...)\n",
    "search_ctrl.fit(segments, doc_src_uri, ...)\n",
    "search_ctrl.save(...)"
   ]
  },
  {
   "cell_type": "code",
   "execution_count": null,
   "metadata": {},
   "outputs": [],
   "source": []
  },
  {
   "cell_type": "code",
   "execution_count": null,
   "metadata": {},
   "outputs": [],
   "source": []
  },
  {
   "cell_type": "markdown",
   "metadata": {},
   "source": [
    "# Typical pipelines"
   ]
  },
  {
   "cell_type": "markdown",
   "metadata": {},
   "source": [
    "## Articles"
   ]
  },
  {
   "cell_type": "code",
   "execution_count": 1,
   "metadata": {},
   "outputs": [],
   "source": [
    "from pdfdol import PdfFilesReader \n",
    "from dol import TextFiles, filt_iter, wrap_kvs, Pipe, add_ipython_key_completions\n",
    "\n"
   ]
  },
  {
   "cell_type": "code",
   "execution_count": 7,
   "metadata": {},
   "outputs": [],
   "source": [
    "rootdir = '/Users/thorwhalen/Dropbox/_goodreader/_ai/LLM'\n"
   ]
  },
  {
   "cell_type": "code",
   "execution_count": 3,
   "metadata": {},
   "outputs": [
    {
     "data": {
      "text/plain": [
       "Files(rootdir='/Users/thorwhalen/Dropbox/_goodreader/_ai/LLM', subpath='', pattern_for_field=None, max_levels=None, include_hidden=False, assert_rootdir_existence=False)"
      ]
     },
     "execution_count": 3,
     "metadata": {},
     "output_type": "execute_result"
    }
   ],
   "source": [
    "src_store = PdfFilesReader(rootdir)\n",
    "src_store"
   ]
  },
  {
   "cell_type": "code",
   "execution_count": null,
   "metadata": {},
   "outputs": [],
   "source": [
    "from imbed.segmentation import SegmentMapping"
   ]
  },
  {
   "cell_type": "code",
   "execution_count": 5,
   "metadata": {},
   "outputs": [
    {
     "name": "stdout",
     "output_type": "stream",
     "text": [
      "len(segment_keys)=317\n"
     ]
    },
    {
     "data": {
      "text/plain": [
       "[('A Survey on Hardware Accelerators for Large Language Models', 0, 1),\n",
       " ('A Survey on Hardware Accelerators for Large Language Models', 1, 2),\n",
       " ('A Survey on Hardware Accelerators for Large Language Models', 2, 3),\n",
       " ('A Survey on Hardware Accelerators for Large Language Models', 3, 4),\n",
       " ('A Survey on Hardware Accelerators for Large Language Models', 4, 5)]"
      ]
     },
     "execution_count": 5,
     "metadata": {},
     "output_type": "execute_result"
    }
   ],
   "source": [
    "def _mk_page_segment_keys(src_store):\n",
    "    segment_keys = []\n",
    "    for doc_key in src_store:\n",
    "        for i, page in enumerate(src_store[doc_key]):\n",
    "            segment_keys.append((doc_key, i, i+1))\n",
    "    return segment_keys\n",
    "\n",
    "segment_keys = _mk_page_segment_keys(src_store)\n",
    "print(f\"{len(segment_keys)=}\")\n",
    "segment_keys[:5]"
   ]
  },
  {
   "cell_type": "code",
   "execution_count": 15,
   "metadata": {},
   "outputs": [
    {
     "name": "stdout",
     "output_type": "stream",
     "text": [
      "len(segments)=317\n"
     ]
    },
    {
     "data": {
      "text/plain": [
       "[('A Survey on Hardware Accelerators for Large Language Models', 0, 1),\n",
       " ('A Survey on Hardware Accelerators for Large Language Models', 1, 2),\n",
       " ('A Survey on Hardware Accelerators for Large Language Models', 2, 3)]"
      ]
     },
     "execution_count": 15,
     "metadata": {},
     "output_type": "execute_result"
    }
   ],
   "source": [
    "from dol import wrap_kvs\n",
    "segments = wrap_kvs(SegmentMapping(src_store, segment_keys), obj_of_data=lambda x: x[0])\n",
    "print(f\"{len(segments)=}\")\n",
    "list(segments)[:3]"
   ]
  },
  {
   "cell_type": "code",
   "execution_count": 17,
   "metadata": {},
   "outputs": [
    {
     "name": "stdout",
     "output_type": "stream",
     "text": [
      "key=('A Survey on Hardware Accelerators for Large Language Models', 0, 1)\n",
      "A Survey on Hardware Accelerators for Large Language Models\n",
      "CHRISTOFOROS KACHRIS, University of West Attica, Greece\n",
      "Large Language Models (LLMs) have emerged as powerful tools for natural language pro\n"
     ]
    }
   ],
   "source": [
    "key = next(iter(segments))\n",
    "print(f\"{key=}\")\n",
    "print(segments[key][:200])"
   ]
  },
  {
   "cell_type": "code",
   "execution_count": 18,
   "metadata": {},
   "outputs": [],
   "source": [
    "import oa\n",
    "\n",
    "segment_embeddings = dict(zip(segments, oa.embeddings(list(segments.values()))))"
   ]
  },
  {
   "cell_type": "code",
   "execution_count": 23,
   "metadata": {},
   "outputs": [],
   "source": [
    "from imbed.util import cosine_similarity\n",
    "\n",
    "def search(query, embeddings_store, *, n=5, embedder=oa.embeddings, metric=cosine_similarity):\n",
    "    # But obviously we'll use an indexer\n",
    "    query_embedding = embedder(query)\n",
    "    _sorted = sorted(\n",
    "        embeddings_store, \n",
    "        key=lambda k: metric(embeddings_store[k], query_embedding), reverse=True)\n",
    "    return _sorted[:n]\n",
    "    "
   ]
  },
  {
   "cell_type": "code",
   "execution_count": null,
   "metadata": {},
   "outputs": [],
   "source": []
  },
  {
   "cell_type": "code",
   "execution_count": null,
   "metadata": {},
   "outputs": [],
   "source": []
  },
  {
   "cell_type": "code",
   "execution_count": null,
   "metadata": {},
   "outputs": [],
   "source": []
  },
  {
   "cell_type": "code",
   "execution_count": null,
   "metadata": {},
   "outputs": [],
   "source": []
  },
  {
   "cell_type": "code",
   "execution_count": null,
   "metadata": {},
   "outputs": [],
   "source": []
  },
  {
   "cell_type": "code",
   "execution_count": null,
   "metadata": {},
   "outputs": [],
   "source": []
  },
  {
   "cell_type": "markdown",
   "metadata": {},
   "source": [
    "## Code"
   ]
  },
  {
   "cell_type": "code",
   "execution_count": 9,
   "metadata": {},
   "outputs": [
    {
     "name": "stdout",
     "output_type": "stream",
     "text": [
      "rootdir='/Users/thorwhalen/Dropbox/py/proj/i/dol/dol'\n"
     ]
    },
    {
     "data": {
      "text/plain": [
       "('ensure_slash_suffix', 17, 22)"
      ]
     },
     "execution_count": 9,
     "metadata": {},
     "output_type": "execute_result"
    }
   ],
   "source": [
    "from dol import TextFiles, filt_iter, wrap_kvs, Pipe\n",
    "import dol\n",
    "\n",
    "wrapper = Pipe(\n",
    "    filt_iter(filt=lambda x: x.endswith('.py') and not str(x).startswith('test')),\n",
    ")\n",
    "\n",
    "PyFiles = wrapper(TextFiles)\n",
    "\n",
    "rootdir = dol.__path__[0]\n",
    "print(f\"{rootdir=}\")\n",
    "\n",
    "py_files = PyFiles(rootdir)\n",
    "list(py_files)\n",
    "\n",
    "def objects_of_module(code_str):\n",
    "    \"\"\"Yields objects of a module defined in a code string, along with the object's \n",
    "    code start and finish character index\"\"\"\n",
    "    import ast\n",
    "    tree = ast.parse(code_str)\n",
    "    for node in ast.walk(tree):\n",
    "        if isinstance(node, ast.FunctionDef):\n",
    "            yield node.name, node.lineno, node.end_lineno\n",
    "        elif isinstance(node, ast.ClassDef):\n",
    "            yield node.name, node.lineno, node.end_lineno\n",
    "\n",
    "it = objects_of_module(py_files['filesys.py'])\n",
    "next(it)"
   ]
  },
  {
   "cell_type": "code",
   "execution_count": 10,
   "metadata": {},
   "outputs": [
    {
     "data": {
      "text/plain": [
       "'cess\"'"
      ]
     },
     "execution_count": 10,
     "metadata": {},
     "output_type": "execute_result"
    }
   ],
   "source": [
    "string = py_files['filesys.py']\n",
    "string[17:22]"
   ]
  },
  {
   "cell_type": "code",
   "execution_count": 19,
   "metadata": {},
   "outputs": [
    {
     "data": {
      "text/plain": [
       "'dol.filesys'"
      ]
     },
     "execution_count": 19,
     "metadata": {},
     "output_type": "execute_result"
    }
   ],
   "source": [
    "from guide import Attrs\n",
    "import dol\n",
    "t = dir(dol.filesys)\n",
    "dol.filesys.DirCollection.__module__"
   ]
  },
  {
   "cell_type": "code",
   "execution_count": 21,
   "metadata": {},
   "outputs": [],
   "source": [
    "import ast\n",
    "\n",
    "def objects_of_module(code_str):\n",
    "    \"\"\"\n",
    "    Yields objects of a module defined in a code string, along with the object's \n",
    "    code start and finish character index.\n",
    "    \"\"\"\n",
    "    class ObjectVisitor(ast.NodeVisitor):\n",
    "        def __init__(self, source_lines):\n",
    "            self.source_lines = source_lines\n",
    "\n",
    "        def visit_FunctionDef(self, node):\n",
    "            self.generic_visit(node)  # Visit all nodes to ensure we don't miss nested objects\n",
    "            start_line, start_col = node.lineno, node.col_offset\n",
    "            end_line = node.body[-1].end_lineno if hasattr(node.body[-1], 'end_lineno') else node.lineno\n",
    "            end_col = node.body[-1].end_col_offset if hasattr(node.body[-1], 'end_col_offset') else len(self.source_lines[end_line - 1])\n",
    "            start_index = sum(len(self.source_lines[i]) + 1 for i in range(start_line - 1)) + start_col\n",
    "            end_index = sum(len(self.source_lines[i]) + 1 for i in range(end_line - 1)) + end_col\n",
    "            yield (node.name, start_index, end_index)\n",
    "\n",
    "        def visit_ClassDef(self, node):\n",
    "            self.generic_visit(node)  # Visit all nodes to ensure we don't miss nested objects\n",
    "            start_line, start_col = node.lineno, node.col_offset\n",
    "            end_line = node.body[-1].end_lineno if hasattr(node.body[-1], 'end_lineno') else node.lineno\n",
    "            end_col = node.body[-1].end_col_offset if hasattr(node.body[-1], 'end_col_offset') else len(self.source_lines[end_line - 1])\n",
    "            start_index = sum(len(self.source_lines[i]) + 1 for i in range(start_line - 1)) + start_col\n",
    "            end_index = sum(len(self.source_lines[i]) + 1 for i in range(end_line - 1)) + end_col\n",
    "            yield (node.name, start_index, end_index)\n",
    "    \n",
    "    # Parse the code into an AST\n",
    "    tree = ast.parse(code_str)\n",
    "    # Split the code string into lines for index calculation\n",
    "    source_lines = code_str.splitlines(True)  # Keep line endings\n",
    "    # Create an instance of our custom visitor\n",
    "    visitor = ObjectVisitor(source_lines)\n",
    "    # Traverse the AST to find and yield objects\n",
    "    for obj in ast.walk(tree):\n",
    "        if isinstance(obj, (ast.FunctionDef, ast.ClassDef)):\n",
    "            yield from visitor.visit(obj)\n",
    "\n",
    "# This call is commented out to avoid execution in the PCI.\n",
    "# To use this function, uncomment the following line and provide a valid Python code string.\n",
    "# list(objects_of_module(\"your_code_string_here\"))\n",
    "            \n",
    "\n",
    "it = objects_of_module(py_files['filesys.py'])\n"
   ]
  },
  {
   "cell_type": "code",
   "execution_count": 22,
   "metadata": {},
   "outputs": [
    {
     "data": {
      "text/plain": [
       "('ensure_slash_suffix', 429, 656)"
      ]
     },
     "execution_count": 22,
     "metadata": {},
     "output_type": "execute_result"
    }
   ],
   "source": [
    "def objects_of_module(code_str):\n",
    "    \"\"\"Yields all callable objects of a module defined in a code string\"\"\"\n",
    "    "
   ]
  },
  {
   "cell_type": "code",
   "execution_count": 24,
   "metadata": {},
   "outputs": [
    {
     "name": "stdout",
     "output_type": "stream",
     "text": [
      "_suffix(path: str):\n",
      "    r\"\"\"Add a file separation (/ or \\) at the end of path str, if not already present.\"\"\"\n",
      "    if not path.endswith(file_sep):\n",
      "        return path + file_sep\n",
      "    else:\n",
      "        return path\n",
      "\n",
      "\n",
      "def paths_in_dir(r\n"
     ]
    }
   ],
   "source": [
    "print(py_files['filesys.py'][429:656])"
   ]
  },
  {
   "cell_type": "markdown",
   "metadata": {},
   "source": [
    "# Generating test data for segmentation for extraction"
   ]
  },
  {
   "cell_type": "markdown",
   "metadata": {},
   "source": [
    "Here we write a few functions that can help to generate test data for segmentation for extraction\n",
    "--That is, segmentation that has the underlying goal of being used by an information-extraction\n",
    "system. \n",
    "\n",
    "Given this extraction goal, we want to generate text where we inject the information that \n",
    "needs to be extracted. Simplest (and most builtin) way to do this is to use string templates."
   ]
  },
  {
   "cell_type": "code",
   "execution_count": null,
   "metadata": {},
   "outputs": [
    {
     "name": "stdout",
     "output_type": "stream",
     "text": [
      "Generated Text: The quick brown fox jumps over the lazy dog.\n",
      "Generated Text: The quick red fox jumps over the lazy cat.\n",
      "Generated Text: In 2021, a biologist named Dr. Smith discovered a new species of frog.\n",
      "Generated Text: In 2022, a zoologist named Dr. Jones discovered a new species of lizard.\n",
      "Generated Text: The TechCorp CEO, Jane Doe, announced a new smartphone that will be released in June.\n",
      "Generated Text: The InnovateInc CEO, John Doe, announced a new laptop that will be released in July.\n"
     ]
    }
   ],
   "source": [
    "from typing import Dict, Callable\n",
    "\n",
    "Template = str\n",
    "Text = str\n",
    "Information = dict\n",
    "Extractor = Callable[[Text], Information]\n",
    "EvaluationScore = float\n",
    "Comparator = Callable[[Information, Information], EvaluationScore]\n",
    "\n",
    "\n",
    "def generate_text(text_template: Template, information: Information) -> Text:\n",
    "    \"\"\"\n",
    "    Generate text by injecting information into a template.\n",
    "\n",
    "    :param text_template: A string with placeholders.\n",
    "    :param information: A dictionary with keys matching the placeholders in the template.\n",
    "    :return: A string with the information injected into the placeholders.\n",
    "    \"\"\"\n",
    "    return text_template.format(**information)\n",
    "\n",
    "\n",
    "# Function to evaluate an information extractor\n",
    "def information_extractor_evaluator(\n",
    "    text: Text,\n",
    "    extractor: Extractor,\n",
    "    expected_information: Information,\n",
    "    comparator: Comparator,\n",
    ") -> EvaluationScore:\n",
    "    \"\"\"\n",
    "    Evaluate an information extractor.\n",
    "\n",
    "    :param text: The input text.\n",
    "    :param extractor: A function that takes a text and outputs a dict of extracted information.\n",
    "    :param comparator: A function that takes two dicts and returns a score from 0 to 1 based on how they compare.\n",
    "    :return: The score comparing the extracted information to the expected information.\n",
    "    \"\"\"\n",
    "    extracted_information = extractor(text)\n",
    "    score = comparator(expected_information, extracted_information)\n",
    "    return score\n",
    "\n",
    "\n",
    "# Examples of text templates and corresponding information\n",
    "examples = [\n",
    "    {\n",
    "        \"text_template\": \"The quick {color} fox jumps over the lazy {animal}.\",\n",
    "        \"information\": [\n",
    "            {\"color\": \"brown\", \"animal\": \"dog\"},\n",
    "            {\"color\": \"red\", \"animal\": \"cat\"},\n",
    "        ],\n",
    "    },\n",
    "    {\n",
    "        \"text_template\": \"In {year}, a {profession} named {name} discovered a new species of {species}.\",\n",
    "        \"information\": [\n",
    "            {\n",
    "                \"year\": \"2021\",\n",
    "                \"profession\": \"biologist\",\n",
    "                \"name\": \"Dr. Smith\",\n",
    "                \"species\": \"frog\",\n",
    "            },\n",
    "            {\n",
    "                \"year\": \"2022\",\n",
    "                \"profession\": \"zoologist\",\n",
    "                \"name\": \"Dr. Jones\",\n",
    "                \"species\": \"lizard\",\n",
    "            },\n",
    "        ],\n",
    "    },\n",
    "    {\n",
    "        \"text_template\": \"The {company} CEO, {name}, announced a new {product} that will be released in {month}.\",\n",
    "        \"information\": [\n",
    "            {\n",
    "                \"company\": \"TechCorp\",\n",
    "                \"name\": \"Jane Doe\",\n",
    "                \"product\": \"smartphone\",\n",
    "                \"month\": \"June\",\n",
    "            },\n",
    "            {\n",
    "                \"company\": \"InnovateInc\",\n",
    "                \"name\": \"John Doe\",\n",
    "                \"product\": \"laptop\",\n",
    "                \"month\": \"July\",\n",
    "            },\n",
    "        ],\n",
    "    },\n",
    "]\n",
    "\n",
    "\n",
    "# Example extractor function\n",
    "def example_extractor(text: Text):\n",
    "    \"\"\"\n",
    "    An example extractor that returns a dictionary of extracted information.\n",
    "\n",
    "    :param text: The input text.\n",
    "    :return: A dictionary of extracted information.\n",
    "    \"\"\"\n",
    "    # This is a dummy extractor for demonstration purposes\n",
    "    if \"fox\" in text:\n",
    "        return {\"color\": \"brown\", \"animal\": \"dog\"}\n",
    "    elif \"discovered\" in text:\n",
    "        return {\n",
    "            \"year\": \"2021\",\n",
    "            \"profession\": \"biologist\",\n",
    "            \"name\": \"Dr. Smith\",\n",
    "            \"species\": \"frog\",\n",
    "        }\n",
    "    elif \"CEO\" in text:\n",
    "        return {\n",
    "            \"company\": \"TechCorp\",\n",
    "            \"name\": \"Jane Doe\",\n",
    "            \"product\": \"smartphone\",\n",
    "            \"month\": \"June\",\n",
    "        }\n",
    "    return {}\n",
    "\n",
    "\n",
    "# Example comparator function\n",
    "def example_comparator(dict1: Information, dict2: Information) -> EvaluationScore:\n",
    "    \"\"\"\n",
    "    An example comparator that returns a score based on the similarity of two dictionaries.\n",
    "\n",
    "    :param dict1: The first dictionary.\n",
    "    :param dict2: The second dictionary.\n",
    "    :return: A score from 0 to 1 based on how the dictionaries compare.\n",
    "    \"\"\"\n",
    "    if dict1 == dict2:\n",
    "        return 1.0\n",
    "    return 0.0\n",
    "\n",
    "\n",
    "# Generating and printing texts based on the examples\n",
    "def run_test(examples, example_extractor, example_comparator, *, verbose=0):\n",
    "    for example in examples:\n",
    "        text_template = example[\"text_template\"]\n",
    "        for info in example[\"information\"]:\n",
    "            text = generate_text(text_template, info)\n",
    "            if verbose:\n",
    "                print(\"Generated Text:\", text)\n",
    "            # Testing the information extractor evaluator\n",
    "            yield information_extractor_evaluator(\n",
    "                text, example_extractor, info, example_comparator\n",
    "            )\n",
    "\n",
    "\n",
    "scores = list(run_test(examples, example_extractor, example_comparator, verbose=1))\n",
    "assert scores == [1.0, 0.0, 1.0, 0.0, 1.0, 0.0]\n",
    "\n",
    "\n",
    "import operator\n",
    "import numpy as np\n",
    "from typing import Callable, Dict\n",
    "\n",
    "Key = str\n",
    "from lkj import compare_field_values\n",
    "\n",
    "compare_dicts = partial(\n",
    "    compare_field_values, \n",
    "    field_comparators = {},\n",
    "    default_comparator = operator.eq,\n",
    "    aggregator = lambda d: np.mean(list(d.values()))\n",
    ")\n"
   ]
  },
  {
   "cell_type": "code",
   "execution_count": null,
   "metadata": {},
   "outputs": [],
   "source": []
  },
  {
   "cell_type": "markdown",
   "metadata": {},
   "source": [
    "# Simple Embed-Planarize-Cluster Pipeline"
   ]
  },
  {
   "cell_type": "code",
   "execution_count": null,
   "metadata": {},
   "outputs": [],
   "source": [
    "from i2 import FuncFactory\n",
    "from sklearn.cluster import KMeans\n",
    "\n"
   ]
  },
  {
   "cell_type": "code",
   "execution_count": null,
   "metadata": {},
   "outputs": [],
   "source": []
  },
  {
   "cell_type": "markdown",
   "metadata": {},
   "source": [
    "# jokes"
   ]
  },
  {
   "cell_type": "code",
   "execution_count": 2,
   "metadata": {},
   "outputs": [
    {
     "name": "stdout",
     "output_type": "stream",
     "text": [
      "Thor was featured on wheel of fortune all people did for the past 30 minutes was stare at a wheel not stopping\n"
     ]
    },
    {
     "data": {
      "text/plain": [
       "['reddit_jokes', 'stupidstuff', 'wocka']"
      ]
     },
     "execution_count": 2,
     "metadata": {},
     "output_type": "execute_result"
    }
   ],
   "source": [
    "import ha\n",
    "\n",
    "list(ha.joke_datasets)"
   ]
  },
  {
   "cell_type": "code",
   "execution_count": 3,
   "metadata": {},
   "outputs": [
    {
     "data": {
      "text/plain": [
       "194553"
      ]
     },
     "execution_count": 3,
     "metadata": {},
     "output_type": "execute_result"
    }
   ],
   "source": [
    "jokes = ha.joke_datasets['reddit_jokes']\n",
    "len(jokes)"
   ]
  },
  {
   "cell_type": "code",
   "execution_count": 46,
   "metadata": {},
   "outputs": [
    {
     "data": {
      "text/plain": [
       "{'body': 'cuz all they do is Tweet',\n",
       " 'id': '5tyyo2',\n",
       " 'score': 1,\n",
       " 'title': \"If I get a bird I'm naming it Trump\"}"
      ]
     },
     "execution_count": 46,
     "metadata": {},
     "output_type": "execute_result"
    }
   ],
   "source": [
    "joke = jokes[14]\n",
    "joke"
   ]
  },
  {
   "cell_type": "code",
   "execution_count": 59,
   "metadata": {},
   "outputs": [
    {
     "data": {
      "text/plain": [
       "20"
      ]
     },
     "execution_count": 59,
     "metadata": {},
     "output_type": "execute_result"
    }
   ],
   "source": [
    "from typing import Iterable\n",
    "\n",
    "\n",
    "def reddit_joke_metadata_to_key_and_text(metdata: dict, *, sep='\\n'):\n",
    "    return f\"{metdata['title']}{sep}({metdata['body']})\"\n",
    "\n",
    "\n",
    "def partition(a: Iterable, chk_size: int):\n",
    "    return zip(*([iter(a)] * chk_size))\n",
    "\n",
    "\n",
    "segment = next(partition(jokes, 20))\n",
    "len(segment)"
   ]
  },
  {
   "cell_type": "code",
   "execution_count": 66,
   "metadata": {},
   "outputs": [
    {
     "data": {
      "text/plain": [
       "1536"
      ]
     },
     "execution_count": 66,
     "metadata": {},
     "output_type": "execute_result"
    }
   ],
   "source": [
    "import oa\n",
    "\n",
    "# len(oa.embeddings('alexis et sana'))"
   ]
  },
  {
   "cell_type": "code",
   "execution_count": 70,
   "metadata": {},
   "outputs": [],
   "source": [
    "cumul = []\n",
    "for joke in segment:\n",
    "    text = reddit_joke_metadata_to_key_and_text(joke)\n",
    "    vector = oa.embeddings(text)\n",
    "    cumul.append(vector)\n",
    "    "
   ]
  },
  {
   "cell_type": "code",
   "execution_count": 71,
   "metadata": {},
   "outputs": [
    {
     "data": {
      "text/plain": [
       "(20, 1536)"
      ]
     },
     "execution_count": 71,
     "metadata": {},
     "output_type": "execute_result"
    }
   ],
   "source": [
    "len(cumul), len(cumul[0])"
   ]
  },
  {
   "cell_type": "code",
   "execution_count": 72,
   "metadata": {},
   "outputs": [],
   "source": [
    "texts = list(map(reddit_joke_metadata_to_key_and_text, segment))\n",
    "cumul2 = oa.embeddings(texts)"
   ]
  },
  {
   "cell_type": "code",
   "execution_count": 73,
   "metadata": {},
   "outputs": [
    {
     "data": {
      "text/plain": [
       "(20, 1536)"
      ]
     },
     "execution_count": 73,
     "metadata": {},
     "output_type": "execute_result"
    }
   ],
   "source": [
    "len(cumul2), len(cumul2[0])"
   ]
  },
  {
   "cell_type": "code",
   "execution_count": 77,
   "metadata": {},
   "outputs": [],
   "source": [
    "t = [x == y for x, y in zip(cumul, cumul2)]"
   ]
  },
  {
   "cell_type": "code",
   "execution_count": 87,
   "metadata": {},
   "outputs": [
    {
     "data": {
      "text/plain": [
       "False"
      ]
     },
     "execution_count": 87,
     "metadata": {},
     "output_type": "execute_result"
    }
   ],
   "source": [
    "import numpy as np\n",
    "\n",
    "a = np.array(cumul)\n",
    "aa = np.array(cumul2)\n",
    "\n",
    "np.allclose(a, aa, rtol=1e-4, atol=1e-3)"
   ]
  },
  {
   "cell_type": "code",
   "execution_count": 4,
   "metadata": {},
   "outputs": [
    {
     "data": {
      "text/plain": [
       "{'body': 'Someone who lays awake at night wondering if there really is a dog. ',\n",
       " 'id': '5tqvz0',\n",
       " 'score': 93,\n",
       " 'title': 'What do you get when you cross an insomniac, an agnostic and a dyslexic?'}"
      ]
     },
     "execution_count": 4,
     "metadata": {},
     "output_type": "execute_result"
    }
   ],
   "source": [
    "jokes[500]"
   ]
  },
  {
   "cell_type": "code",
   "execution_count": null,
   "metadata": {},
   "outputs": [],
   "source": []
  },
  {
   "cell_type": "code",
   "execution_count": null,
   "metadata": {},
   "outputs": [],
   "source": []
  },
  {
   "cell_type": "code",
   "execution_count": null,
   "metadata": {},
   "outputs": [],
   "source": []
  },
  {
   "cell_type": "code",
   "execution_count": 13,
   "metadata": {},
   "outputs": [
    {
     "data": {
      "text/plain": [
       "True"
      ]
     },
     "execution_count": 13,
     "metadata": {},
     "output_type": "execute_result"
    }
   ],
   "source": [
    "from typing import Iterable, Iterator\n",
    "isinstance(g, Iterable)\n"
   ]
  },
  {
   "cell_type": "code",
   "execution_count": null,
   "metadata": {},
   "outputs": [],
   "source": []
  },
  {
   "cell_type": "markdown",
   "metadata": {},
   "source": [
    "# Embed HCP2 publications"
   ]
  },
  {
   "cell_type": "markdown",
   "metadata": {},
   "source": [
    "**NOTE: All of the following should be refactored to a controller and put in a separate notebook**.\n",
    "\n",
    "THe notebook is called `hcp_analysis.ipynb` and the controller looks like the follwing:"
   ]
  },
  {
   "cell_type": "code",
   "execution_count": 1,
   "metadata": {},
   "outputs": [
    {
     "data": {
      "image/svg+xml": [
       "<?xml version=\"1.0\" encoding=\"UTF-8\" standalone=\"no\"?>\n",
       "<!DOCTYPE svg PUBLIC \"-//W3C//DTD SVG 1.1//EN\"\n",
       " \"http://www.w3.org/Graphics/SVG/1.1/DTD/svg11.dtd\">\n",
       "<!-- Generated by graphviz version 9.0.0 (20230911.1827)\n",
       " -->\n",
       "<!-- Pages: 1 -->\n",
       "<svg width=\"838pt\" height=\"764pt\"\n",
       " viewBox=\"0.00 0.00 838.11 764.00\" xmlns=\"http://www.w3.org/2000/svg\" xmlns:xlink=\"http://www.w3.org/1999/xlink\">\n",
       "<g id=\"graph0\" class=\"graph\" transform=\"scale(1 1) rotate(0) translate(4 760)\">\n",
       "<polygon fill=\"white\" stroke=\"none\" points=\"-4,4 -4,-760 834.11,-760 834.11,4 -4,4\"/>\n",
       "<!-- src_key -->\n",
       "<g id=\"node1\" class=\"node\">\n",
       "<title>src_key</title>\n",
       "<ellipse fill=\"none\" stroke=\"black\" cx=\"434.08\" cy=\"-738\" rx=\"39.58\" ry=\"18\"/>\n",
       "<text text-anchor=\"middle\" x=\"434.08\" y=\"-732.95\" font-family=\"Times,serif\" font-size=\"14.00\">src_key</text>\n",
       "</g>\n",
       "<!-- pjoin -->\n",
       "<g id=\"node2\" class=\"node\">\n",
       "<title>pjoin</title>\n",
       "<ellipse fill=\"none\" stroke=\"black\" cx=\"655.08\" cy=\"-666\" rx=\"29.86\" ry=\"18\"/>\n",
       "<text text-anchor=\"middle\" x=\"655.08\" y=\"-660.95\" font-family=\"Times,serif\" font-size=\"14.00\">pjoin</text>\n",
       "</g>\n",
       "<!-- src_key&#45;&gt;pjoin -->\n",
       "<g id=\"edge1\" class=\"edge\">\n",
       "<title>src_key&#45;&gt;pjoin</title>\n",
       "<path fill=\"none\" stroke=\"black\" d=\"M468.04,-728.5C504.91,-718.95 565.33,-702.37 616.08,-684 617.85,-683.36 619.65,-682.68 621.46,-681.97\"/>\n",
       "<polygon fill=\"black\" stroke=\"black\" points=\"622.45,-685.35 630.37,-678.31 619.79,-678.88 622.45,-685.35\"/>\n",
       "</g>\n",
       "<!-- store -->\n",
       "<g id=\"node3\" class=\"node\">\n",
       "<title>store</title>\n",
       "<ellipse fill=\"none\" stroke=\"black\" cx=\"213.08\" cy=\"-666\" rx=\"28.83\" ry=\"18\"/>\n",
       "<text text-anchor=\"middle\" x=\"213.08\" y=\"-660.95\" font-family=\"Times,serif\" font-size=\"14.00\">store</text>\n",
       "</g>\n",
       "<!-- src_key&#45;&gt;store -->\n",
       "<g id=\"edge2\" class=\"edge\">\n",
       "<title>src_key&#45;&gt;store</title>\n",
       "<path fill=\"none\" stroke=\"black\" d=\"M399.9,-728.62C362.79,-719.17 302.02,-702.67 251.08,-684 249.31,-683.35 247.5,-682.66 245.69,-681.93\"/>\n",
       "<polygon fill=\"black\" stroke=\"black\" points=\"247.35,-678.83 236.77,-678.18 244.63,-685.28 247.35,-678.83\"/>\n",
       "</g>\n",
       "<!-- embeddings_filepath -->\n",
       "<g id=\"node5\" class=\"node\">\n",
       "<title>embeddings_filepath</title>\n",
       "<ellipse fill=\"none\" stroke=\"black\" cx=\"349.08\" cy=\"-594\" rx=\"88.71\" ry=\"18\"/>\n",
       "<text text-anchor=\"middle\" x=\"349.08\" y=\"-588.95\" font-family=\"Times,serif\" font-size=\"14.00\">embeddings_filepath</text>\n",
       "</g>\n",
       "<!-- pjoin&#45;&gt;embeddings_filepath -->\n",
       "<g id=\"edge4\" class=\"edge\">\n",
       "<title>pjoin&#45;&gt;embeddings_filepath</title>\n",
       "<path fill=\"none\" stroke=\"black\" d=\"M632.3,-654.09C627.05,-651.86 621.44,-649.68 616.08,-648 581.39,-637.13 491.96,-620.19 426.12,-608.39\"/>\n",
       "<polygon fill=\"black\" stroke=\"black\" points=\"426.9,-604.97 416.44,-606.66 425.67,-611.87 426.9,-604.97\"/>\n",
       "</g>\n",
       "<!-- citations_hcp3_src -->\n",
       "<g id=\"node6\" class=\"node\">\n",
       "<title>citations_hcp3_src</title>\n",
       "<ellipse fill=\"none\" stroke=\"black\" cx=\"541.08\" cy=\"-594\" rx=\"80.01\" ry=\"18\"/>\n",
       "<text text-anchor=\"middle\" x=\"541.08\" y=\"-588.95\" font-family=\"Times,serif\" font-size=\"14.00\">citations_hcp3_src</text>\n",
       "</g>\n",
       "<!-- pjoin&#45;&gt;citations_hcp3_src -->\n",
       "<g id=\"edge5\" class=\"edge\">\n",
       "<title>pjoin&#45;&gt;citations_hcp3_src</title>\n",
       "<path fill=\"none\" stroke=\"black\" d=\"M634.7,-652.49C618.85,-642.75 596.45,-628.99 577.53,-617.38\"/>\n",
       "<polygon fill=\"black\" stroke=\"black\" points=\"579.37,-614.4 569.02,-612.15 575.71,-620.37 579.37,-614.4\"/>\n",
       "</g>\n",
       "<!-- info_filepath -->\n",
       "<g id=\"node9\" class=\"node\">\n",
       "<title>info_filepath</title>\n",
       "<ellipse fill=\"none\" stroke=\"black\" cx=\"771.08\" cy=\"-378\" rx=\"58.52\" ry=\"18\"/>\n",
       "<text text-anchor=\"middle\" x=\"771.08\" y=\"-372.95\" font-family=\"Times,serif\" font-size=\"14.00\">info_filepath</text>\n",
       "</g>\n",
       "<!-- pjoin&#45;&gt;info_filepath -->\n",
       "<g id=\"edge8\" class=\"edge\">\n",
       "<title>pjoin&#45;&gt;info_filepath</title>\n",
       "<path fill=\"none\" stroke=\"black\" d=\"M654.71,-647.73C654.62,-606.97 659.05,-502.86 703.08,-432 710.81,-419.56 722.57,-408.89 734.14,-400.45\"/>\n",
       "<polygon fill=\"black\" stroke=\"black\" points=\"735.79,-403.56 742.05,-395.02 731.83,-397.79 735.79,-403.56\"/>\n",
       "</g>\n",
       "<!-- titles_aggr_df -->\n",
       "<g id=\"node25\" class=\"node\">\n",
       "<title>titles_aggr_df</title>\n",
       "<ellipse fill=\"none\" stroke=\"black\" cx=\"132.08\" cy=\"-594\" rx=\"62.1\" ry=\"18\"/>\n",
       "<text text-anchor=\"middle\" x=\"132.08\" y=\"-588.95\" font-family=\"Times,serif\" font-size=\"14.00\">titles_aggr_df</text>\n",
       "</g>\n",
       "<!-- store&#45;&gt;titles_aggr_df -->\n",
       "<g id=\"edge29\" class=\"edge\">\n",
       "<title>store&#45;&gt;titles_aggr_df</title>\n",
       "<path fill=\"none\" stroke=\"black\" d=\"M196.69,-650.83C186.13,-641.7 172.12,-629.6 159.85,-619\"/>\n",
       "<polygon fill=\"black\" stroke=\"black\" points=\"162.3,-616.49 152.44,-612.6 157.72,-621.78 162.3,-616.49\"/>\n",
       "</g>\n",
       "<!-- embeddings_src_key -->\n",
       "<g id=\"node4\" class=\"node\">\n",
       "<title>embeddings_src_key</title>\n",
       "<ellipse fill=\"none\" stroke=\"black\" cx=\"349.08\" cy=\"-666\" rx=\"89.23\" ry=\"18\"/>\n",
       "<text text-anchor=\"middle\" x=\"349.08\" y=\"-660.95\" font-family=\"Times,serif\" font-size=\"14.00\">embeddings_src_key</text>\n",
       "</g>\n",
       "<!-- embeddings_src_key&#45;&gt;embeddings_filepath -->\n",
       "<g id=\"edge3\" class=\"edge\">\n",
       "<title>embeddings_src_key&#45;&gt;embeddings_filepath</title>\n",
       "<path fill=\"none\" stroke=\"black\" d=\"M349.08,-647.7C349.08,-640.41 349.08,-631.73 349.08,-623.54\"/>\n",
       "<polygon fill=\"black\" stroke=\"black\" points=\"352.58,-623.62 349.08,-613.62 345.58,-623.62 352.58,-623.62\"/>\n",
       "</g>\n",
       "<!-- embeddings_hcp2 -->\n",
       "<g id=\"node10\" class=\"node\">\n",
       "<title>embeddings_hcp2</title>\n",
       "<ellipse fill=\"none\" stroke=\"black\" cx=\"337.08\" cy=\"-522\" rx=\"78.48\" ry=\"18\"/>\n",
       "<text text-anchor=\"middle\" x=\"337.08\" y=\"-516.95\" font-family=\"Times,serif\" font-size=\"14.00\">embeddings_hcp2</text>\n",
       "</g>\n",
       "<!-- embeddings_filepath&#45;&gt;embeddings_hcp2 -->\n",
       "<g id=\"edge9\" class=\"edge\">\n",
       "<title>embeddings_filepath&#45;&gt;embeddings_hcp2</title>\n",
       "<path fill=\"none\" stroke=\"black\" d=\"M346.12,-575.7C344.85,-568.32 343.34,-559.52 341.93,-551.25\"/>\n",
       "<polygon fill=\"black\" stroke=\"black\" points=\"345.41,-550.86 340.27,-541.6 338.51,-552.04 345.41,-550.86\"/>\n",
       "</g>\n",
       "<!-- _citations_hcp3 -->\n",
       "<g id=\"node11\" class=\"node\">\n",
       "<title>_citations_hcp3</title>\n",
       "<ellipse fill=\"none\" stroke=\"black\" cx=\"541.08\" cy=\"-522\" rx=\"69.26\" ry=\"18\"/>\n",
       "<text text-anchor=\"middle\" x=\"541.08\" y=\"-516.95\" font-family=\"Times,serif\" font-size=\"14.00\">_citations_hcp3</text>\n",
       "</g>\n",
       "<!-- citations_hcp3_src&#45;&gt;_citations_hcp3 -->\n",
       "<g id=\"edge10\" class=\"edge\">\n",
       "<title>citations_hcp3_src&#45;&gt;_citations_hcp3</title>\n",
       "<path fill=\"none\" stroke=\"black\" d=\"M541.08,-575.7C541.08,-568.41 541.08,-559.73 541.08,-551.54\"/>\n",
       "<polygon fill=\"black\" stroke=\"black\" points=\"544.58,-551.62 541.08,-541.62 537.58,-551.62 544.58,-551.62\"/>\n",
       "</g>\n",
       "<!-- citations_src_key -->\n",
       "<g id=\"node7\" class=\"node\">\n",
       "<title>citations_src_key</title>\n",
       "<ellipse fill=\"none\" stroke=\"black\" cx=\"532.08\" cy=\"-666\" rx=\"75.41\" ry=\"18\"/>\n",
       "<text text-anchor=\"middle\" x=\"532.08\" y=\"-660.95\" font-family=\"Times,serif\" font-size=\"14.00\">citations_src_key</text>\n",
       "</g>\n",
       "<!-- citations_src_key&#45;&gt;citations_hcp3_src -->\n",
       "<g id=\"edge6\" class=\"edge\">\n",
       "<title>citations_src_key&#45;&gt;citations_hcp3_src</title>\n",
       "<path fill=\"none\" stroke=\"black\" d=\"M534.31,-647.7C535.26,-640.32 536.39,-631.52 537.45,-623.25\"/>\n",
       "<polygon fill=\"black\" stroke=\"black\" points=\"540.89,-623.97 538.69,-613.61 533.94,-623.08 540.89,-623.97\"/>\n",
       "</g>\n",
       "<!-- info_src_key -->\n",
       "<g id=\"node8\" class=\"node\">\n",
       "<title>info_src_key</title>\n",
       "<ellipse fill=\"none\" stroke=\"black\" cx=\"771.08\" cy=\"-450\" rx=\"59.03\" ry=\"18\"/>\n",
       "<text text-anchor=\"middle\" x=\"771.08\" y=\"-444.95\" font-family=\"Times,serif\" font-size=\"14.00\">info_src_key</text>\n",
       "</g>\n",
       "<!-- info_src_key&#45;&gt;info_filepath -->\n",
       "<g id=\"edge7\" class=\"edge\">\n",
       "<title>info_src_key&#45;&gt;info_filepath</title>\n",
       "<path fill=\"none\" stroke=\"black\" d=\"M771.08,-431.7C771.08,-424.41 771.08,-415.73 771.08,-407.54\"/>\n",
       "<polygon fill=\"black\" stroke=\"black\" points=\"774.58,-407.62 771.08,-397.62 767.58,-407.62 774.58,-407.62\"/>\n",
       "</g>\n",
       "<!-- info_hcp2 -->\n",
       "<g id=\"node17\" class=\"node\">\n",
       "<title>info_hcp2</title>\n",
       "<ellipse fill=\"none\" stroke=\"black\" cx=\"774.08\" cy=\"-306\" rx=\"48.28\" ry=\"18\"/>\n",
       "<text text-anchor=\"middle\" x=\"774.08\" y=\"-300.95\" font-family=\"Times,serif\" font-size=\"14.00\">info_hcp2</text>\n",
       "</g>\n",
       "<!-- info_filepath&#45;&gt;info_hcp2 -->\n",
       "<g id=\"edge26\" class=\"edge\">\n",
       "<title>info_filepath&#45;&gt;info_hcp2</title>\n",
       "<path fill=\"none\" stroke=\"black\" d=\"M771.83,-359.7C772.14,-352.41 772.51,-343.73 772.86,-335.54\"/>\n",
       "<polygon fill=\"black\" stroke=\"black\" points=\"776.35,-335.76 773.29,-325.62 769.36,-335.46 776.35,-335.76\"/>\n",
       "</g>\n",
       "<!-- embeddings_ids -->\n",
       "<g id=\"node13\" class=\"node\">\n",
       "<title>embeddings_ids</title>\n",
       "<ellipse fill=\"none\" stroke=\"black\" cx=\"337.08\" cy=\"-450\" rx=\"71.31\" ry=\"18\"/>\n",
       "<text text-anchor=\"middle\" x=\"337.08\" y=\"-444.95\" font-family=\"Times,serif\" font-size=\"14.00\">embeddings_ids</text>\n",
       "</g>\n",
       "<!-- embeddings_hcp2&#45;&gt;embeddings_ids -->\n",
       "<g id=\"edge12\" class=\"edge\">\n",
       "<title>embeddings_hcp2&#45;&gt;embeddings_ids</title>\n",
       "<path fill=\"none\" stroke=\"black\" d=\"M337.08,-503.7C337.08,-496.41 337.08,-487.73 337.08,-479.54\"/>\n",
       "<polygon fill=\"black\" stroke=\"black\" points=\"340.58,-479.62 337.08,-469.62 333.58,-479.62 340.58,-479.62\"/>\n",
       "</g>\n",
       "<!-- mean_aggregates -->\n",
       "<g id=\"node22\" class=\"node\">\n",
       "<title>mean_aggregates</title>\n",
       "<ellipse fill=\"none\" stroke=\"black\" cx=\"283.08\" cy=\"-162\" rx=\"75.41\" ry=\"18\"/>\n",
       "<text text-anchor=\"middle\" x=\"283.08\" y=\"-156.95\" font-family=\"Times,serif\" font-size=\"14.00\">mean_aggregates</text>\n",
       "</g>\n",
       "<!-- embeddings_hcp2&#45;&gt;mean_aggregates -->\n",
       "<g id=\"edge24\" class=\"edge\">\n",
       "<title>embeddings_hcp2&#45;&gt;mean_aggregates</title>\n",
       "<path fill=\"none\" stroke=\"black\" d=\"M293.93,-506.61C243.28,-486.66 166.08,-445.37 166.08,-379 166.08,-379 166.08,-379 166.08,-305 166.08,-264.55 160.84,-248.38 185.08,-216 196.22,-201.13 212.8,-189.95 229.17,-181.8\"/>\n",
       "<polygon fill=\"black\" stroke=\"black\" points=\"230.31,-185.12 237.91,-177.74 227.36,-178.77 230.31,-185.12\"/>\n",
       "</g>\n",
       "<!-- _citations_ids -->\n",
       "<g id=\"node12\" class=\"node\">\n",
       "<title>_citations_ids</title>\n",
       "<ellipse fill=\"none\" stroke=\"black\" cx=\"488.08\" cy=\"-450\" rx=\"62.1\" ry=\"18\"/>\n",
       "<text text-anchor=\"middle\" x=\"488.08\" y=\"-444.95\" font-family=\"Times,serif\" font-size=\"14.00\">_citations_ids</text>\n",
       "</g>\n",
       "<!-- _citations_hcp3&#45;&gt;_citations_ids -->\n",
       "<g id=\"edge11\" class=\"edge\">\n",
       "<title>_citations_hcp3&#45;&gt;_citations_ids</title>\n",
       "<path fill=\"none\" stroke=\"black\" d=\"M528.25,-504.05C522.07,-495.89 514.52,-485.91 507.64,-476.82\"/>\n",
       "<polygon fill=\"black\" stroke=\"black\" points=\"510.54,-474.86 501.71,-469 504.95,-479.08 510.54,-474.86\"/>\n",
       "</g>\n",
       "<!-- citations_hcp3 -->\n",
       "<g id=\"node15\" class=\"node\">\n",
       "<title>citations_hcp3</title>\n",
       "<ellipse fill=\"none\" stroke=\"black\" cx=\"532.08\" cy=\"-306\" rx=\"64.66\" ry=\"18\"/>\n",
       "<text text-anchor=\"middle\" x=\"532.08\" y=\"-300.95\" font-family=\"Times,serif\" font-size=\"14.00\">citations_hcp3</text>\n",
       "</g>\n",
       "<!-- _citations_hcp3&#45;&gt;citations_hcp3 -->\n",
       "<g id=\"edge18\" class=\"edge\">\n",
       "<title>_citations_hcp3&#45;&gt;citations_hcp3</title>\n",
       "<path fill=\"none\" stroke=\"black\" d=\"M548.56,-503.7C552.56,-493.52 557.06,-480.27 559.08,-468 566.91,-420.64 570.29,-406.67 559.08,-360 556.94,-351.06 553.02,-341.93 548.82,-333.83\"/>\n",
       "<polygon fill=\"black\" stroke=\"black\" points=\"551.93,-332.21 544.01,-325.18 545.82,-335.62 551.93,-332.21\"/>\n",
       "</g>\n",
       "<!-- missing_embedding_ids -->\n",
       "<g id=\"node14\" class=\"node\">\n",
       "<title>missing_embedding_ids</title>\n",
       "<ellipse fill=\"none\" stroke=\"black\" cx=\"448.08\" cy=\"-378\" rx=\"101.51\" ry=\"18\"/>\n",
       "<text text-anchor=\"middle\" x=\"448.08\" y=\"-372.95\" font-family=\"Times,serif\" font-size=\"14.00\">missing_embedding_ids</text>\n",
       "</g>\n",
       "<!-- _citations_ids&#45;&gt;missing_embedding_ids -->\n",
       "<g id=\"edge13\" class=\"edge\">\n",
       "<title>_citations_ids&#45;&gt;missing_embedding_ids</title>\n",
       "<path fill=\"none\" stroke=\"black\" d=\"M478.4,-432.05C473.95,-424.26 468.55,-414.82 463.56,-406.08\"/>\n",
       "<polygon fill=\"black\" stroke=\"black\" points=\"466.71,-404.54 458.71,-397.59 460.63,-408.01 466.71,-404.54\"/>\n",
       "</g>\n",
       "<!-- embeddings_ids&#45;&gt;missing_embedding_ids -->\n",
       "<g id=\"edge14\" class=\"edge\">\n",
       "<title>embeddings_ids&#45;&gt;missing_embedding_ids</title>\n",
       "<path fill=\"none\" stroke=\"black\" d=\"M362.83,-432.76C377.47,-423.53 396.03,-411.83 412.09,-401.7\"/>\n",
       "<polygon fill=\"black\" stroke=\"black\" points=\"413.84,-404.74 420.43,-396.44 410.1,-398.81 413.84,-404.74\"/>\n",
       "</g>\n",
       "<!-- missing_embedding_ids&#45;&gt;citations_hcp3 -->\n",
       "<g id=\"edge17\" class=\"edge\">\n",
       "<title>missing_embedding_ids&#45;&gt;citations_hcp3</title>\n",
       "<path fill=\"none\" stroke=\"black\" d=\"M468.42,-360.05C478.92,-351.31 491.9,-340.49 503.4,-330.9\"/>\n",
       "<polygon fill=\"black\" stroke=\"black\" points=\"505.62,-333.61 511.06,-324.52 501.14,-328.23 505.62,-333.61\"/>\n",
       "</g>\n",
       "<!-- missing_cited_ids -->\n",
       "<g id=\"node16\" class=\"node\">\n",
       "<title>missing_cited_ids</title>\n",
       "<ellipse fill=\"none\" stroke=\"black\" cx=\"671.08\" cy=\"-234\" rx=\"77.97\" ry=\"18\"/>\n",
       "<text text-anchor=\"middle\" x=\"671.08\" y=\"-228.95\" font-family=\"Times,serif\" font-size=\"14.00\">missing_cited_ids</text>\n",
       "</g>\n",
       "<!-- citations_hcp3&#45;&gt;missing_cited_ids -->\n",
       "<g id=\"edge15\" class=\"edge\">\n",
       "<title>citations_hcp3&#45;&gt;missing_cited_ids</title>\n",
       "<path fill=\"none\" stroke=\"black\" d=\"M562.24,-289.81C581.87,-279.93 607.73,-266.9 629.32,-256.03\"/>\n",
       "<polygon fill=\"black\" stroke=\"black\" points=\"630.83,-259.19 638.18,-251.57 627.68,-252.94 630.83,-259.19\"/>\n",
       "</g>\n",
       "<!-- cited_by -->\n",
       "<g id=\"node18\" class=\"node\">\n",
       "<title>cited_by</title>\n",
       "<ellipse fill=\"none\" stroke=\"black\" cx=\"532.08\" cy=\"-234\" rx=\"42.65\" ry=\"18\"/>\n",
       "<text text-anchor=\"middle\" x=\"532.08\" y=\"-228.95\" font-family=\"Times,serif\" font-size=\"14.00\">cited_by</text>\n",
       "</g>\n",
       "<!-- citations_hcp3&#45;&gt;cited_by -->\n",
       "<g id=\"edge19\" class=\"edge\">\n",
       "<title>citations_hcp3&#45;&gt;cited_by</title>\n",
       "<path fill=\"none\" stroke=\"black\" d=\"M532.08,-287.7C532.08,-280.41 532.08,-271.73 532.08,-263.54\"/>\n",
       "<polygon fill=\"black\" stroke=\"black\" points=\"535.58,-263.62 532.08,-253.62 528.58,-263.62 535.58,-263.62\"/>\n",
       "</g>\n",
       "<!-- citations_of -->\n",
       "<g id=\"node19\" class=\"node\">\n",
       "<title>citations_of</title>\n",
       "<ellipse fill=\"none\" stroke=\"black\" cx=\"417.08\" cy=\"-234\" rx=\"54.42\" ry=\"18\"/>\n",
       "<text text-anchor=\"middle\" x=\"417.08\" y=\"-228.95\" font-family=\"Times,serif\" font-size=\"14.00\">citations_of</text>\n",
       "</g>\n",
       "<!-- citations_hcp3&#45;&gt;citations_of -->\n",
       "<g id=\"edge20\" class=\"edge\">\n",
       "<title>citations_hcp3&#45;&gt;citations_of</title>\n",
       "<path fill=\"none\" stroke=\"black\" d=\"M505.99,-289.12C490.03,-279.4 469.43,-266.86 452.07,-256.3\"/>\n",
       "<polygon fill=\"black\" stroke=\"black\" points=\"453.94,-253.34 443.58,-251.13 450.3,-259.32 453.94,-253.34\"/>\n",
       "</g>\n",
       "<!-- titles_aggregate -->\n",
       "<g id=\"node27\" class=\"node\">\n",
       "<title>titles_aggregate</title>\n",
       "<ellipse fill=\"none\" stroke=\"black\" cx=\"671.08\" cy=\"-162\" rx=\"69.26\" ry=\"18\"/>\n",
       "<text text-anchor=\"middle\" x=\"671.08\" y=\"-156.95\" font-family=\"Times,serif\" font-size=\"14.00\">titles_aggregate</text>\n",
       "</g>\n",
       "<!-- missing_cited_ids&#45;&gt;titles_aggregate -->\n",
       "<g id=\"edge31\" class=\"edge\">\n",
       "<title>missing_cited_ids&#45;&gt;titles_aggregate</title>\n",
       "<path fill=\"none\" stroke=\"black\" d=\"M671.08,-215.7C671.08,-208.41 671.08,-199.73 671.08,-191.54\"/>\n",
       "<polygon fill=\"black\" stroke=\"black\" points=\"674.58,-191.62 671.08,-181.62 667.58,-191.62 674.58,-191.62\"/>\n",
       "</g>\n",
       "<!-- info_hcp2&#45;&gt;missing_cited_ids -->\n",
       "<g id=\"edge16\" class=\"edge\">\n",
       "<title>info_hcp2&#45;&gt;missing_cited_ids</title>\n",
       "<path fill=\"none\" stroke=\"black\" d=\"M751.48,-289.64C737.75,-280.31 719.97,-268.22 704.62,-257.79\"/>\n",
       "<polygon fill=\"black\" stroke=\"black\" points=\"706.92,-255.12 696.68,-252.4 702.99,-260.91 706.92,-255.12\"/>\n",
       "</g>\n",
       "<!-- planar_mean_embeddings_with_ids -->\n",
       "<g id=\"node24\" class=\"node\">\n",
       "<title>planar_mean_embeddings_with_ids</title>\n",
       "<ellipse fill=\"none\" stroke=\"black\" cx=\"556.08\" cy=\"-18\" rx=\"145.01\" ry=\"18\"/>\n",
       "<text text-anchor=\"middle\" x=\"556.08\" y=\"-12.95\" font-family=\"Times,serif\" font-size=\"14.00\">planar_mean_embeddings_with_ids</text>\n",
       "</g>\n",
       "<!-- info_hcp2&#45;&gt;planar_mean_embeddings_with_ids -->\n",
       "<g id=\"edge28\" class=\"edge\">\n",
       "<title>info_hcp2&#45;&gt;planar_mean_embeddings_with_ids</title>\n",
       "<path fill=\"none\" stroke=\"black\" d=\"M778.74,-287.7C786.16,-256.11 796.98,-188.29 767.08,-144 731.98,-92 667.38,-58.45 618.87,-39.33\"/>\n",
       "<polygon fill=\"black\" stroke=\"black\" points=\"620.16,-36.08 609.57,-35.78 617.67,-42.62 620.16,-36.08\"/>\n",
       "</g>\n",
       "<!-- info_hcp2&#45;&gt;titles_aggregate -->\n",
       "<g id=\"edge34\" class=\"edge\">\n",
       "<title>info_hcp2&#45;&gt;titles_aggregate</title>\n",
       "<path fill=\"none\" stroke=\"black\" d=\"M775,-287.71C775.17,-268.54 772.81,-237.5 758.08,-216 748.42,-201.89 733.64,-190.88 719,-182.64\"/>\n",
       "<polygon fill=\"black\" stroke=\"black\" points=\"720.77,-179.62 710.28,-178.08 717.52,-185.82 720.77,-179.62\"/>\n",
       "</g>\n",
       "<!-- ids -->\n",
       "<g id=\"node20\" class=\"node\">\n",
       "<title>ids</title>\n",
       "<ellipse fill=\"none\" stroke=\"black\" cx=\"417.08\" cy=\"-162\" rx=\"27\" ry=\"18\"/>\n",
       "<text text-anchor=\"middle\" x=\"417.08\" y=\"-156.95\" font-family=\"Times,serif\" font-size=\"14.00\">ids</text>\n",
       "</g>\n",
       "<!-- citations_of&#45;&gt;ids -->\n",
       "<g id=\"edge21\" class=\"edge\">\n",
       "<title>citations_of&#45;&gt;ids</title>\n",
       "<path fill=\"none\" stroke=\"black\" d=\"M417.08,-215.7C417.08,-208.41 417.08,-199.73 417.08,-191.54\"/>\n",
       "<polygon fill=\"black\" stroke=\"black\" points=\"420.58,-191.62 417.08,-181.62 413.58,-191.62 420.58,-191.62\"/>\n",
       "</g>\n",
       "<!-- citations_of&#45;&gt;mean_aggregates -->\n",
       "<g id=\"edge23\" class=\"edge\">\n",
       "<title>citations_of&#45;&gt;mean_aggregates</title>\n",
       "<path fill=\"none\" stroke=\"black\" d=\"M388.99,-218.33C370,-208.4 344.62,-195.15 323.47,-184.1\"/>\n",
       "<polygon fill=\"black\" stroke=\"black\" points=\"325.29,-181.1 314.81,-179.57 322.05,-187.31 325.29,-181.1\"/>\n",
       "</g>\n",
       "<!-- citations_of&#45;&gt;titles_aggregate -->\n",
       "<g id=\"edge33\" class=\"edge\">\n",
       "<title>citations_of&#45;&gt;titles_aggregate</title>\n",
       "<path fill=\"none\" stroke=\"black\" d=\"M457.89,-221.75C500.09,-210.13 566.31,-191.87 613.75,-178.8\"/>\n",
       "<polygon fill=\"black\" stroke=\"black\" points=\"614.61,-182.19 623.32,-176.16 612.75,-175.45 614.61,-182.19\"/>\n",
       "</g>\n",
       "<!-- mean_aggregator -->\n",
       "<g id=\"node21\" class=\"node\">\n",
       "<title>mean_aggregator</title>\n",
       "<ellipse fill=\"none\" stroke=\"black\" cx=\"269.08\" cy=\"-234\" rx=\"75.41\" ry=\"18\"/>\n",
       "<text text-anchor=\"middle\" x=\"269.08\" y=\"-228.95\" font-family=\"Times,serif\" font-size=\"14.00\">mean_aggregator</text>\n",
       "</g>\n",
       "<!-- mean_aggregator&#45;&gt;mean_aggregates -->\n",
       "<g id=\"edge22\" class=\"edge\">\n",
       "<title>mean_aggregator&#45;&gt;mean_aggregates</title>\n",
       "<path fill=\"none\" stroke=\"black\" d=\"M272.54,-215.7C274.02,-208.32 275.78,-199.52 277.43,-191.25\"/>\n",
       "<polygon fill=\"black\" stroke=\"black\" points=\"280.84,-192.08 279.37,-181.59 273.97,-190.71 280.84,-192.08\"/>\n",
       "</g>\n",
       "<!-- planar_mean_embeddings -->\n",
       "<g id=\"node23\" class=\"node\">\n",
       "<title>planar_mean_embeddings</title>\n",
       "<ellipse fill=\"none\" stroke=\"black\" cx=\"488.08\" cy=\"-90\" rx=\"108.67\" ry=\"18\"/>\n",
       "<text text-anchor=\"middle\" x=\"488.08\" y=\"-84.95\" font-family=\"Times,serif\" font-size=\"14.00\">planar_mean_embeddings</text>\n",
       "</g>\n",
       "<!-- mean_aggregates&#45;&gt;planar_mean_embeddings -->\n",
       "<g id=\"edge25\" class=\"edge\">\n",
       "<title>mean_aggregates&#45;&gt;planar_mean_embeddings</title>\n",
       "<path fill=\"none\" stroke=\"black\" d=\"M325.06,-146.67C355.82,-136.16 397.91,-121.79 431.61,-110.28\"/>\n",
       "<polygon fill=\"black\" stroke=\"black\" points=\"432.47,-113.69 440.81,-107.14 430.21,-107.06 432.47,-113.69\"/>\n",
       "</g>\n",
       "<!-- planar_mean_embeddings&#45;&gt;planar_mean_embeddings_with_ids -->\n",
       "<g id=\"edge27\" class=\"edge\">\n",
       "<title>planar_mean_embeddings&#45;&gt;planar_mean_embeddings_with_ids</title>\n",
       "<path fill=\"none\" stroke=\"black\" d=\"M504.54,-72.05C512.61,-63.75 522.49,-53.58 531.43,-44.38\"/>\n",
       "<polygon fill=\"black\" stroke=\"black\" points=\"533.79,-46.97 538.25,-37.36 528.77,-42.09 533.79,-46.97\"/>\n",
       "</g>\n",
       "<!-- titles_aggr_src_key -->\n",
       "<g id=\"node26\" class=\"node\">\n",
       "<title>titles_aggr_src_key</title>\n",
       "<ellipse fill=\"none\" stroke=\"black\" cx=\"83.08\" cy=\"-666\" rx=\"83.08\" ry=\"18\"/>\n",
       "<text text-anchor=\"middle\" x=\"83.08\" y=\"-660.95\" font-family=\"Times,serif\" font-size=\"14.00\">titles_aggr_src_key</text>\n",
       "</g>\n",
       "<!-- titles_aggr_src_key&#45;&gt;titles_aggr_df -->\n",
       "<g id=\"edge30\" class=\"edge\">\n",
       "<title>titles_aggr_src_key&#45;&gt;titles_aggr_df</title>\n",
       "<path fill=\"none\" stroke=\"black\" d=\"M95.2,-647.7C100.77,-639.73 107.51,-630.1 113.7,-621.26\"/>\n",
       "<polygon fill=\"black\" stroke=\"black\" points=\"116.38,-623.54 119.24,-613.34 110.64,-619.53 116.38,-623.54\"/>\n",
       "</g>\n",
       "<!-- titles_aggregate&#45;&gt;titles_aggregate -->\n",
       "<g id=\"edge32\" class=\"edge\">\n",
       "<title>titles_aggregate&#45;&gt;titles_aggregate</title>\n",
       "<path fill=\"none\" stroke=\"black\" d=\"M719.1,-175.31C740.2,-176.49 758.35,-172.05 758.35,-162 758.35,-153.83 746.36,-149.37 730.56,-148.61\"/>\n",
       "<polygon fill=\"black\" stroke=\"black\" points=\"730.59,-145.11 720.61,-148.68 730.64,-152.11 730.59,-145.11\"/>\n",
       "</g>\n",
       "</g>\n",
       "</svg>\n"
      ],
      "text/plain": [
       "<graphviz.graphs.Digraph at 0x1270574c0>"
      ]
     },
     "execution_count": 1,
     "metadata": {},
     "output_type": "execute_result"
    }
   ],
   "source": [
    "from i2.footprints import attribute_dependencies, init_argument_names\n",
    "from imbed_data_prep.hcp import Hcp3Dacc\n",
    "from meshed.itools import graphviz_digraph\n",
    "\n",
    "deps = dict(attribute_dependencies(Hcp3Dacc))\n",
    "\n",
    "graphviz_digraph(deps)"
   ]
  },
  {
   "cell_type": "code",
   "execution_count": null,
   "metadata": {},
   "outputs": [],
   "source": []
  },
  {
   "cell_type": "markdown",
   "metadata": {},
   "source": [
    "And now on with the old stuff..."
   ]
  },
  {
   "cell_type": "code",
   "execution_count": 2,
   "metadata": {},
   "outputs": [
    {
     "data": {
      "text/plain": [
       "['publications-hcp2.tsv']"
      ]
     },
     "execution_count": 2,
     "metadata": {},
     "output_type": "execute_result"
    }
   ],
   "source": [
    "from dol import FilesOfZip\n",
    "\n",
    "\n",
    "zipfile = '/Users/thorwhalen/Dropbox/_odata/figiri/hcp/publications-hcp2.tsv.zip'\n",
    "s = FilesOfZip(zipfile)\n",
    "list(s)"
   ]
  },
  {
   "cell_type": "code",
   "execution_count": 3,
   "metadata": {},
   "outputs": [
    {
     "name": "stdout",
     "output_type": "stream",
     "text": [
      "(354165, 7)\n"
     ]
    },
    {
     "data": {
      "text/html": [
       "<div>\n",
       "<style scoped>\n",
       "    .dataframe tbody tr th:only-of-type {\n",
       "        vertical-align: middle;\n",
       "    }\n",
       "\n",
       "    .dataframe tbody tr th {\n",
       "        vertical-align: top;\n",
       "    }\n",
       "\n",
       "    .dataframe thead th {\n",
       "        text-align: right;\n",
       "    }\n",
       "</style>\n",
       "<table border=\"1\" class=\"dataframe\">\n",
       "  <thead>\n",
       "    <tr style=\"text-align: right;\">\n",
       "      <th></th>\n",
       "      <th>id</th>\n",
       "      <th>title</th>\n",
       "      <th>source</th>\n",
       "      <th>pub_date</th>\n",
       "      <th>n_cits</th>\n",
       "      <th>micro_cluster</th>\n",
       "      <th>main_field</th>\n",
       "    </tr>\n",
       "  </thead>\n",
       "  <tbody>\n",
       "    <tr>\n",
       "      <th>0</th>\n",
       "      <td>245658</td>\n",
       "      <td>Standardized low-resolution brain electromagne...</td>\n",
       "      <td>PubMed</td>\n",
       "      <td>2002-01-01</td>\n",
       "      <td>1056</td>\n",
       "      <td>241</td>\n",
       "      <td>Biomedical and health sciences</td>\n",
       "    </tr>\n",
       "    <tr>\n",
       "      <th>1</th>\n",
       "      <td>332595</td>\n",
       "      <td>Electrokinetic migration across artificial liq...</td>\n",
       "      <td>Journal of Chromatography A</td>\n",
       "      <td>2006-03-01</td>\n",
       "      <td>570</td>\n",
       "      <td>180</td>\n",
       "      <td>Physical sciences and engineering</td>\n",
       "    </tr>\n",
       "    <tr>\n",
       "      <th>2</th>\n",
       "      <td>718838</td>\n",
       "      <td>Pathophysiology of obsessiveâcompulsive diso...</td>\n",
       "      <td>Progress in Neurobiology</td>\n",
       "      <td>2004-02-01</td>\n",
       "      <td>304</td>\n",
       "      <td>1123</td>\n",
       "      <td>Biomedical and health sciences</td>\n",
       "    </tr>\n",
       "    <tr>\n",
       "      <th>3</th>\n",
       "      <td>804345</td>\n",
       "      <td>Der Kinder- und Jugendgesundheitssurvey (KiGGS...</td>\n",
       "      <td>Bundesgesundheitsblatt - Gesundheitsforschung ...</td>\n",
       "      <td>2007-05-01</td>\n",
       "      <td>358</td>\n",
       "      <td>3022</td>\n",
       "      <td>Biomedical and health sciences</td>\n",
       "    </tr>\n",
       "    <tr>\n",
       "      <th>4</th>\n",
       "      <td>831416</td>\n",
       "      <td>Remote Ischemic Preconditioning Provides Early...</td>\n",
       "      <td>Journal of the American College of Cardiology</td>\n",
       "      <td>2005-08-01</td>\n",
       "      <td>370</td>\n",
       "      <td>1057</td>\n",
       "      <td>Biomedical and health sciences</td>\n",
       "    </tr>\n",
       "    <tr>\n",
       "      <th>5</th>\n",
       "      <td>898828</td>\n",
       "      <td>The Unknown Mechanism of the Overtraining Synd...</td>\n",
       "      <td>Sports Medicine</td>\n",
       "      <td>2002-01-01</td>\n",
       "      <td>300</td>\n",
       "      <td>157</td>\n",
       "      <td>Biomedical and health sciences</td>\n",
       "    </tr>\n",
       "    <tr>\n",
       "      <th>6</th>\n",
       "      <td>905619</td>\n",
       "      <td>Revisiting Frank-Wolfe: Projection-Free Sparse...</td>\n",
       "      <td>NaN</td>\n",
       "      <td>2013-06-16</td>\n",
       "      <td>552</td>\n",
       "      <td>1612</td>\n",
       "      <td>Mathematics and computer science</td>\n",
       "    </tr>\n",
       "    <tr>\n",
       "      <th>7</th>\n",
       "      <td>947309</td>\n",
       "      <td>GFP and Ã-Galactosidase Transformation Vector...</td>\n",
       "      <td>BioTechniques</td>\n",
       "      <td>2000-10-01</td>\n",
       "      <td>311</td>\n",
       "      <td>268</td>\n",
       "      <td>Biomedical and health sciences</td>\n",
       "    </tr>\n",
       "    <tr>\n",
       "      <th>8</th>\n",
       "      <td>1212948</td>\n",
       "      <td>NaN</td>\n",
       "      <td>Journal of Polymers and the Environment</td>\n",
       "      <td>2002-01-01</td>\n",
       "      <td>306</td>\n",
       "      <td>389</td>\n",
       "      <td>Physical sciences and engineering</td>\n",
       "    </tr>\n",
       "    <tr>\n",
       "      <th>9</th>\n",
       "      <td>1252687</td>\n",
       "      <td>Meigsâ syndrome:</td>\n",
       "      <td>European Journal of Obstetrics &amp; Gynecology an...</td>\n",
       "      <td>2000-10-01</td>\n",
       "      <td>421</td>\n",
       "      <td>550</td>\n",
       "      <td>Biomedical and health sciences</td>\n",
       "    </tr>\n",
       "  </tbody>\n",
       "</table>\n",
       "</div>"
      ],
      "text/plain": [
       "        id                                              title  \\\n",
       "0   245658  Standardized low-resolution brain electromagne...   \n",
       "1   332595  Electrokinetic migration across artificial liq...   \n",
       "2   718838  Pathophysiology of obsessiveâcompulsive diso...   \n",
       "3   804345  Der Kinder- und Jugendgesundheitssurvey (KiGGS...   \n",
       "4   831416  Remote Ischemic Preconditioning Provides Early...   \n",
       "5   898828  The Unknown Mechanism of the Overtraining Synd...   \n",
       "6   905619  Revisiting Frank-Wolfe: Projection-Free Sparse...   \n",
       "7   947309  GFP and Ã-Galactosidase Transformation Vector...   \n",
       "8  1212948                                                NaN   \n",
       "9  1252687                                 Meigsâ syndrome:   \n",
       "\n",
       "                                              source    pub_date  n_cits  \\\n",
       "0                                             PubMed  2002-01-01    1056   \n",
       "1                        Journal of Chromatography A  2006-03-01     570   \n",
       "2                           Progress in Neurobiology  2004-02-01     304   \n",
       "3  Bundesgesundheitsblatt - Gesundheitsforschung ...  2007-05-01     358   \n",
       "4      Journal of the American College of Cardiology  2005-08-01     370   \n",
       "5                                    Sports Medicine  2002-01-01     300   \n",
       "6                                                NaN  2013-06-16     552   \n",
       "7                                      BioTechniques  2000-10-01     311   \n",
       "8            Journal of Polymers and the Environment  2002-01-01     306   \n",
       "9  European Journal of Obstetrics & Gynecology an...  2000-10-01     421   \n",
       "\n",
       "   micro_cluster                         main_field  \n",
       "0            241     Biomedical and health sciences  \n",
       "1            180  Physical sciences and engineering  \n",
       "2           1123     Biomedical and health sciences  \n",
       "3           3022     Biomedical and health sciences  \n",
       "4           1057     Biomedical and health sciences  \n",
       "5            157     Biomedical and health sciences  \n",
       "6           1612   Mathematics and computer science  \n",
       "7            268     Biomedical and health sciences  \n",
       "8            389  Physical sciences and engineering  \n",
       "9            550     Biomedical and health sciences  "
      ]
     },
     "execution_count": 3,
     "metadata": {},
     "output_type": "execute_result"
    }
   ],
   "source": [
    "import pandas as pd\n",
    "import io\n",
    "\n",
    "df = pd.read_csv(io.BytesIO(s['publications-hcp2.tsv']), sep='\\t', encoding='latin-1' ) \n",
    "print(f\"{df.shape}\")\n",
    "df.head(10)"
   ]
  },
  {
   "cell_type": "code",
   "execution_count": 7,
   "metadata": {},
   "outputs": [
    {
     "name": "stdout",
     "output_type": "stream",
     "text": [
      "df.title.dropna().apply(len).mean()=83.58047193255189\n",
      "df.n_cits.dropna().mean()=644.4399813646182\n"
     ]
    }
   ],
   "source": [
    "print(f\"{df.title.dropna().apply(len).mean()=}\")\n",
    "print(f\"{df.n_cits.dropna().mean()=}\")"
   ]
  },
  {
   "cell_type": "code",
   "execution_count": 7,
   "metadata": {},
   "outputs": [],
   "source": [
    "title_store = dict(zip(df['id'], df['title']))"
   ]
  },
  {
   "cell_type": "code",
   "execution_count": null,
   "metadata": {},
   "outputs": [],
   "source": [
    "from dol import JsonFiles\n",
    "target = JsonFiles('/Users/thorwhalen/tmp/pubs_hcp2')"
   ]
  },
  {
   "cell_type": "code",
   "execution_count": null,
   "metadata": {},
   "outputs": [],
   "source": []
  },
  {
   "cell_type": "code",
   "execution_count": 22,
   "metadata": {},
   "outputs": [
    {
     "data": {
      "text/html": [
       "<div>\n",
       "<style scoped>\n",
       "    .dataframe tbody tr th:only-of-type {\n",
       "        vertical-align: middle;\n",
       "    }\n",
       "\n",
       "    .dataframe tbody tr th {\n",
       "        vertical-align: top;\n",
       "    }\n",
       "\n",
       "    .dataframe thead th {\n",
       "        text-align: right;\n",
       "    }\n",
       "</style>\n",
       "<table border=\"1\" class=\"dataframe\">\n",
       "  <thead>\n",
       "    <tr style=\"text-align: right;\">\n",
       "      <th></th>\n",
       "      <th>id</th>\n",
       "      <th>title</th>\n",
       "      <th>source</th>\n",
       "      <th>pub_date</th>\n",
       "      <th>n_cits</th>\n",
       "      <th>micro_cluster</th>\n",
       "      <th>main_field</th>\n",
       "    </tr>\n",
       "  </thead>\n",
       "  <tbody>\n",
       "    <tr>\n",
       "      <th>0</th>\n",
       "      <td>245658</td>\n",
       "      <td>Standardized low-resolution brain electromagne...</td>\n",
       "      <td>PubMed</td>\n",
       "      <td>2002-01-01</td>\n",
       "      <td>1056</td>\n",
       "      <td>241</td>\n",
       "      <td>Biomedical and health sciences</td>\n",
       "    </tr>\n",
       "    <tr>\n",
       "      <th>1</th>\n",
       "      <td>332595</td>\n",
       "      <td>Electrokinetic migration across artificial liq...</td>\n",
       "      <td>Journal of Chromatography A</td>\n",
       "      <td>2006-03-01</td>\n",
       "      <td>570</td>\n",
       "      <td>180</td>\n",
       "      <td>Physical sciences and engineering</td>\n",
       "    </tr>\n",
       "    <tr>\n",
       "      <th>2</th>\n",
       "      <td>718838</td>\n",
       "      <td>Pathophysiology of obsessive�compulsive disorder</td>\n",
       "      <td>Progress in Neurobiology</td>\n",
       "      <td>2004-02-01</td>\n",
       "      <td>304</td>\n",
       "      <td>1123</td>\n",
       "      <td>Biomedical and health sciences</td>\n",
       "    </tr>\n",
       "    <tr>\n",
       "      <th>3</th>\n",
       "      <td>804345</td>\n",
       "      <td>Der Kinder- und Jugendgesundheitssurvey (KiGGS...</td>\n",
       "      <td>Bundesgesundheitsblatt - Gesundheitsforschung ...</td>\n",
       "      <td>2007-05-01</td>\n",
       "      <td>358</td>\n",
       "      <td>3022</td>\n",
       "      <td>Biomedical and health sciences</td>\n",
       "    </tr>\n",
       "    <tr>\n",
       "      <th>4</th>\n",
       "      <td>831416</td>\n",
       "      <td>Remote Ischemic Preconditioning Provides Early...</td>\n",
       "      <td>Journal of the American College of Cardiology</td>\n",
       "      <td>2005-08-01</td>\n",
       "      <td>370</td>\n",
       "      <td>1057</td>\n",
       "      <td>Biomedical and health sciences</td>\n",
       "    </tr>\n",
       "    <tr>\n",
       "      <th>5</th>\n",
       "      <td>898828</td>\n",
       "      <td>The Unknown Mechanism of the Overtraining Synd...</td>\n",
       "      <td>Sports Medicine</td>\n",
       "      <td>2002-01-01</td>\n",
       "      <td>300</td>\n",
       "      <td>157</td>\n",
       "      <td>Biomedical and health sciences</td>\n",
       "    </tr>\n",
       "    <tr>\n",
       "      <th>6</th>\n",
       "      <td>905619</td>\n",
       "      <td>Revisiting Frank-Wolfe: Projection-Free Sparse...</td>\n",
       "      <td>NaN</td>\n",
       "      <td>2013-06-16</td>\n",
       "      <td>552</td>\n",
       "      <td>1612</td>\n",
       "      <td>Mathematics and computer science</td>\n",
       "    </tr>\n",
       "    <tr>\n",
       "      <th>7</th>\n",
       "      <td>947309</td>\n",
       "      <td>GFP and �-Galactosidase Transformation Vectors...</td>\n",
       "      <td>BioTechniques</td>\n",
       "      <td>2000-10-01</td>\n",
       "      <td>311</td>\n",
       "      <td>268</td>\n",
       "      <td>Biomedical and health sciences</td>\n",
       "    </tr>\n",
       "    <tr>\n",
       "      <th>8</th>\n",
       "      <td>1212948</td>\n",
       "      <td>NaN</td>\n",
       "      <td>Journal of Polymers and the Environment</td>\n",
       "      <td>2002-01-01</td>\n",
       "      <td>306</td>\n",
       "      <td>389</td>\n",
       "      <td>Physical sciences and engineering</td>\n",
       "    </tr>\n",
       "    <tr>\n",
       "      <th>9</th>\n",
       "      <td>1252687</td>\n",
       "      <td>Meigs� syndrome:</td>\n",
       "      <td>European Journal of Obstetrics &amp; Gynecology an...</td>\n",
       "      <td>2000-10-01</td>\n",
       "      <td>421</td>\n",
       "      <td>550</td>\n",
       "      <td>Biomedical and health sciences</td>\n",
       "    </tr>\n",
       "    <tr>\n",
       "      <th>10</th>\n",
       "      <td>1279384</td>\n",
       "      <td>Environmental factors influencing heat stress ...</td>\n",
       "      <td>Journal of Animal Science</td>\n",
       "      <td>2006-03-01</td>\n",
       "      <td>531</td>\n",
       "      <td>2365</td>\n",
       "      <td>Life and earth sciences</td>\n",
       "    </tr>\n",
       "  </tbody>\n",
       "</table>\n",
       "</div>"
      ],
      "text/plain": [
       "         id                                              title  \\\n",
       "0    245658  Standardized low-resolution brain electromagne...   \n",
       "1    332595  Electrokinetic migration across artificial liq...   \n",
       "2    718838   Pathophysiology of obsessive�compulsive disorder   \n",
       "3    804345  Der Kinder- und Jugendgesundheitssurvey (KiGGS...   \n",
       "4    831416  Remote Ischemic Preconditioning Provides Early...   \n",
       "5    898828  The Unknown Mechanism of the Overtraining Synd...   \n",
       "6    905619  Revisiting Frank-Wolfe: Projection-Free Sparse...   \n",
       "7    947309  GFP and �-Galactosidase Transformation Vectors...   \n",
       "8   1212948                                                NaN   \n",
       "9   1252687                                   Meigs� syndrome:   \n",
       "10  1279384  Environmental factors influencing heat stress ...   \n",
       "\n",
       "                                               source    pub_date  n_cits  \\\n",
       "0                                              PubMed  2002-01-01    1056   \n",
       "1                         Journal of Chromatography A  2006-03-01     570   \n",
       "2                            Progress in Neurobiology  2004-02-01     304   \n",
       "3   Bundesgesundheitsblatt - Gesundheitsforschung ...  2007-05-01     358   \n",
       "4       Journal of the American College of Cardiology  2005-08-01     370   \n",
       "5                                     Sports Medicine  2002-01-01     300   \n",
       "6                                                 NaN  2013-06-16     552   \n",
       "7                                       BioTechniques  2000-10-01     311   \n",
       "8             Journal of Polymers and the Environment  2002-01-01     306   \n",
       "9   European Journal of Obstetrics & Gynecology an...  2000-10-01     421   \n",
       "10                          Journal of Animal Science  2006-03-01     531   \n",
       "\n",
       "    micro_cluster                         main_field  \n",
       "0             241     Biomedical and health sciences  \n",
       "1             180  Physical sciences and engineering  \n",
       "2            1123     Biomedical and health sciences  \n",
       "3            3022     Biomedical and health sciences  \n",
       "4            1057     Biomedical and health sciences  \n",
       "5             157     Biomedical and health sciences  \n",
       "6            1612   Mathematics and computer science  \n",
       "7             268     Biomedical and health sciences  \n",
       "8             389  Physical sciences and engineering  \n",
       "9             550     Biomedical and health sciences  \n",
       "10           2365            Life and earth sciences  "
      ]
     },
     "execution_count": 22,
     "metadata": {},
     "output_type": "execute_result"
    }
   ],
   "source": [
    "df.head(11)"
   ]
  },
  {
   "cell_type": "code",
   "execution_count": 4,
   "metadata": {},
   "outputs": [],
   "source": [
    "# from slang import fixed_step_chunker\n",
    "# from dol import JsonFiles\n",
    "# import oa\n",
    "\n",
    "# target = JsonFiles('/Users/thorwhalen/tmp/pubs_hcp2')\n",
    "\n",
    "# for i, chunk in enumerate(fixed_step_chunker(title_store.items(), 10)):\n",
    "#     ids, titles = zip(*chunk)\n",
    "#     embeddings = oa.embeddings(list(titles))\n",
    "#     target[f\"{i:03.0f}\"].update(dict(zip(ids, embeddings)))\n",
    "#     break\n",
    "\n",
    "# BadRequestError: Error code: 400 - {'error': {'message': \"We could not parse the JSON \n",
    "# body of your request. (HINT: This likely means you aren't using your HTTP library correctly. \n",
    "# The OpenAI API expects a JSON payload, but what was sent was not valid JSON. \n",
    "# If you have trouble figuring out how to fix this, please contact us through our \n",
    "# help center at help.openai.com.)\", 'type': 'invalid_request_error', 'param': None, 'code': None}}\n"
   ]
  },
  {
   "cell_type": "code",
   "execution_count": 3,
   "metadata": {},
   "outputs": [],
   "source": [
    "# oa.embeddings(titles[:-2])"
   ]
  },
  {
   "cell_type": "markdown",
   "metadata": {},
   "source": [
    "## Stored HCP2 embeddings"
   ]
  },
  {
   "cell_type": "code",
   "execution_count": 8,
   "metadata": {},
   "outputs": [],
   "source": [
    "import os\n",
    "\n",
    "src_folder = '/Users/thorwhalen/Dropbox/_odata/figiri/hcp'\n",
    "pjoin = lambda *args: os.path.join(src_folder, *args)\n",
    "\n",
    "embeddings_filepath = pjoin('publications-hcp2-embeddings.parquet')\n",
    "info_filepath = pjoin('publications-hcp2.tsv.zip')"
   ]
  },
  {
   "cell_type": "code",
   "execution_count": 9,
   "metadata": {},
   "outputs": [
    {
     "name": "stdout",
     "output_type": "stream",
     "text": [
      "embeddings_hcp2.shape=(352508, 2)\n",
      "info_hcp2.shape=(354165, 7)\n"
     ]
    }
   ],
   "source": [
    "import pandas as pd\n",
    "\n",
    "embeddings_hcp2 = pd.read_parquet(embeddings_filepath)\n",
    "print(f\"{embeddings_hcp2.shape=}\")\n",
    "\n",
    "info_hcp2 = pd.read_csv(info_filepath, sep='\\t', encoding='latin-1')\n",
    "print(f\"{info_hcp2.shape=}\")"
   ]
  },
  {
   "cell_type": "code",
   "execution_count": 8,
   "metadata": {},
   "outputs": [
    {
     "data": {
      "text/html": [
       "<div>\n",
       "<style scoped>\n",
       "    .dataframe tbody tr th:only-of-type {\n",
       "        vertical-align: middle;\n",
       "    }\n",
       "\n",
       "    .dataframe tbody tr th {\n",
       "        vertical-align: top;\n",
       "    }\n",
       "\n",
       "    .dataframe thead th {\n",
       "        text-align: right;\n",
       "    }\n",
       "</style>\n",
       "<table border=\"1\" class=\"dataframe\">\n",
       "  <thead>\n",
       "    <tr style=\"text-align: right;\">\n",
       "      <th></th>\n",
       "      <th>id</th>\n",
       "      <th>embedding</th>\n",
       "    </tr>\n",
       "  </thead>\n",
       "  <tbody>\n",
       "    <tr>\n",
       "      <th>0</th>\n",
       "      <td>245658</td>\n",
       "      <td>[0.013564770109951496, 0.010467253625392914, -...</td>\n",
       "    </tr>\n",
       "    <tr>\n",
       "      <th>1</th>\n",
       "      <td>332595</td>\n",
       "      <td>[0.02909824252128601, 0.03423166275024414, -0....</td>\n",
       "    </tr>\n",
       "    <tr>\n",
       "      <th>2</th>\n",
       "      <td>718838</td>\n",
       "      <td>[0.008440978825092316, 0.0035484367981553078, ...</td>\n",
       "    </tr>\n",
       "    <tr>\n",
       "      <th>3</th>\n",
       "      <td>804345</td>\n",
       "      <td>[0.01794605143368244, 0.04320104047656059, -0....</td>\n",
       "    </tr>\n",
       "    <tr>\n",
       "      <th>4</th>\n",
       "      <td>831416</td>\n",
       "      <td>[-0.006916569545865059, -0.017052026465535164,...</td>\n",
       "    </tr>\n",
       "  </tbody>\n",
       "</table>\n",
       "</div>"
      ],
      "text/plain": [
       "       id                                          embedding\n",
       "0  245658  [0.013564770109951496, 0.010467253625392914, -...\n",
       "1  332595  [0.02909824252128601, 0.03423166275024414, -0....\n",
       "2  718838  [0.008440978825092316, 0.0035484367981553078, ...\n",
       "3  804345  [0.01794605143368244, 0.04320104047656059, -0....\n",
       "4  831416  [-0.006916569545865059, -0.017052026465535164,..."
      ]
     },
     "execution_count": 8,
     "metadata": {},
     "output_type": "execute_result"
    }
   ],
   "source": [
    "embeddings_hcp2.head()"
   ]
  },
  {
   "cell_type": "code",
   "execution_count": 13,
   "metadata": {},
   "outputs": [
    {
     "data": {
      "text/html": [
       "<div>\n",
       "<style scoped>\n",
       "    .dataframe tbody tr th:only-of-type {\n",
       "        vertical-align: middle;\n",
       "    }\n",
       "\n",
       "    .dataframe tbody tr th {\n",
       "        vertical-align: top;\n",
       "    }\n",
       "\n",
       "    .dataframe thead th {\n",
       "        text-align: right;\n",
       "    }\n",
       "</style>\n",
       "<table border=\"1\" class=\"dataframe\">\n",
       "  <thead>\n",
       "    <tr style=\"text-align: right;\">\n",
       "      <th></th>\n",
       "      <th>id</th>\n",
       "      <th>title</th>\n",
       "      <th>source</th>\n",
       "      <th>pub_date</th>\n",
       "      <th>n_cits</th>\n",
       "      <th>micro_cluster</th>\n",
       "      <th>main_field</th>\n",
       "    </tr>\n",
       "  </thead>\n",
       "  <tbody>\n",
       "    <tr>\n",
       "      <th>0</th>\n",
       "      <td>245658</td>\n",
       "      <td>Standardized low-resolution brain electromagne...</td>\n",
       "      <td>PubMed</td>\n",
       "      <td>2002-01-01</td>\n",
       "      <td>1056</td>\n",
       "      <td>241</td>\n",
       "      <td>Biomedical and health sciences</td>\n",
       "    </tr>\n",
       "    <tr>\n",
       "      <th>1</th>\n",
       "      <td>332595</td>\n",
       "      <td>Electrokinetic migration across artificial liq...</td>\n",
       "      <td>Journal of Chromatography A</td>\n",
       "      <td>2006-03-01</td>\n",
       "      <td>570</td>\n",
       "      <td>180</td>\n",
       "      <td>Physical sciences and engineering</td>\n",
       "    </tr>\n",
       "    <tr>\n",
       "      <th>2</th>\n",
       "      <td>718838</td>\n",
       "      <td>Pathophysiology of obsessiveâcompulsive diso...</td>\n",
       "      <td>Progress in Neurobiology</td>\n",
       "      <td>2004-02-01</td>\n",
       "      <td>304</td>\n",
       "      <td>1123</td>\n",
       "      <td>Biomedical and health sciences</td>\n",
       "    </tr>\n",
       "    <tr>\n",
       "      <th>3</th>\n",
       "      <td>804345</td>\n",
       "      <td>Der Kinder- und Jugendgesundheitssurvey (KiGGS...</td>\n",
       "      <td>Bundesgesundheitsblatt - Gesundheitsforschung ...</td>\n",
       "      <td>2007-05-01</td>\n",
       "      <td>358</td>\n",
       "      <td>3022</td>\n",
       "      <td>Biomedical and health sciences</td>\n",
       "    </tr>\n",
       "    <tr>\n",
       "      <th>4</th>\n",
       "      <td>831416</td>\n",
       "      <td>Remote Ischemic Preconditioning Provides Early...</td>\n",
       "      <td>Journal of the American College of Cardiology</td>\n",
       "      <td>2005-08-01</td>\n",
       "      <td>370</td>\n",
       "      <td>1057</td>\n",
       "      <td>Biomedical and health sciences</td>\n",
       "    </tr>\n",
       "  </tbody>\n",
       "</table>\n",
       "</div>"
      ],
      "text/plain": [
       "       id                                              title  \\\n",
       "0  245658  Standardized low-resolution brain electromagne...   \n",
       "1  332595  Electrokinetic migration across artificial liq...   \n",
       "2  718838  Pathophysiology of obsessiveâcompulsive diso...   \n",
       "3  804345  Der Kinder- und Jugendgesundheitssurvey (KiGGS...   \n",
       "4  831416  Remote Ischemic Preconditioning Provides Early...   \n",
       "\n",
       "                                              source    pub_date  n_cits  \\\n",
       "0                                             PubMed  2002-01-01    1056   \n",
       "1                        Journal of Chromatography A  2006-03-01     570   \n",
       "2                           Progress in Neurobiology  2004-02-01     304   \n",
       "3  Bundesgesundheitsblatt - Gesundheitsforschung ...  2007-05-01     358   \n",
       "4      Journal of the American College of Cardiology  2005-08-01     370   \n",
       "\n",
       "   micro_cluster                         main_field  \n",
       "0            241     Biomedical and health sciences  \n",
       "1            180  Physical sciences and engineering  \n",
       "2           1123     Biomedical and health sciences  \n",
       "3           3022     Biomedical and health sciences  \n",
       "4           1057     Biomedical and health sciences  "
      ]
     },
     "execution_count": 13,
     "metadata": {},
     "output_type": "execute_result"
    }
   ],
   "source": [
    "info_hcp2.head()"
   ]
  },
  {
   "cell_type": "markdown",
   "metadata": {},
   "source": [
    "# HCP2 publications -- title citations"
   ]
  },
  {
   "cell_type": "code",
   "execution_count": 10,
   "metadata": {},
   "outputs": [],
   "source": [
    "import os\n",
    "\n",
    "src_folder = '/Users/thorwhalen/Dropbox/_odata/figiri/hcp'\n",
    "pjoin = lambda *args: os.path.join(src_folder, *args)"
   ]
  },
  {
   "cell_type": "code",
   "execution_count": 11,
   "metadata": {},
   "outputs": [],
   "source": [
    "embeddings_filepath = pjoin('publications-hcp2-embeddings.parquet')\n",
    "citations_hcp3_src = pjoin('citation-links-hcp3.tsv.zip')\n",
    "info_filepath = pjoin('publications-hcp2.tsv.zip')"
   ]
  },
  {
   "cell_type": "code",
   "execution_count": 12,
   "metadata": {},
   "outputs": [
    {
     "name": "stdout",
     "output_type": "stream",
     "text": [
      "embeddings_hcp2.shape=(352508, 2)\n",
      "citations_hcp3.shape=(4891305, 3)\n",
      "info_hcp2.shape=(354165, 7)\n"
     ]
    }
   ],
   "source": [
    "import pandas as pd\n",
    "\n",
    "embeddings_hcp2 = pd.read_parquet(embeddings_filepath)\n",
    "print(f\"{embeddings_hcp2.shape=}\")\n",
    "\n",
    "citations_hcp3 = pd.read_csv(citations_hcp3_src, sep='\\t')\n",
    "print(f\"{citations_hcp3.shape=}\")\n",
    "\n",
    "info_hcp2 = pd.read_csv(info_filepath, sep='\\t', encoding='latin-1')\n",
    "print(f\"{info_hcp2.shape=}\")"
   ]
  },
  {
   "cell_type": "code",
   "execution_count": 50,
   "metadata": {},
   "outputs": [
    {
     "data": {
      "text/plain": [
       "id\n",
       "245658    [0.013564770109951496, 0.010467253625392914, -...\n",
       "332595    [0.02909824252128601, 0.03423166275024414, -0....\n",
       "718838    [0.008440978825092316, 0.0035484367981553078, ...\n",
       "804345    [0.01794605143368244, 0.04320104047656059, -0....\n",
       "831416    [-0.006916569545865059, -0.017052026465535164,...\n",
       "Name: embedding, dtype: object"
      ]
     },
     "execution_count": 50,
     "metadata": {},
     "output_type": "execute_result"
    }
   ],
   "source": [
    "embeddings_hcp2.head()\n",
    "embeddings_hcp2 = embeddings_hcp2.set_index('id')['embedding']\n",
    "embeddings_hcp2.head()"
   ]
  },
  {
   "cell_type": "code",
   "execution_count": 13,
   "metadata": {},
   "outputs": [
    {
     "data": {
      "text/html": [
       "<div>\n",
       "<style scoped>\n",
       "    .dataframe tbody tr th:only-of-type {\n",
       "        vertical-align: middle;\n",
       "    }\n",
       "\n",
       "    .dataframe tbody tr th {\n",
       "        vertical-align: top;\n",
       "    }\n",
       "\n",
       "    .dataframe thead th {\n",
       "        text-align: right;\n",
       "    }\n",
       "</style>\n",
       "<table border=\"1\" class=\"dataframe\">\n",
       "  <thead>\n",
       "    <tr style=\"text-align: right;\">\n",
       "      <th></th>\n",
       "      <th>citing_pub_id</th>\n",
       "      <th>cited_pub_id</th>\n",
       "      <th>date</th>\n",
       "    </tr>\n",
       "  </thead>\n",
       "  <tbody>\n",
       "    <tr>\n",
       "      <th>0</th>\n",
       "      <td>245658</td>\n",
       "      <td>2013150886</td>\n",
       "      <td>2002-01-01</td>\n",
       "    </tr>\n",
       "    <tr>\n",
       "      <th>1</th>\n",
       "      <td>245658</td>\n",
       "      <td>2138790588</td>\n",
       "      <td>2002-01-01</td>\n",
       "    </tr>\n",
       "    <tr>\n",
       "      <th>2</th>\n",
       "      <td>245658</td>\n",
       "      <td>2334566563</td>\n",
       "      <td>2002-01-01</td>\n",
       "    </tr>\n",
       "    <tr>\n",
       "      <th>3</th>\n",
       "      <td>718838</td>\n",
       "      <td>1604916109</td>\n",
       "      <td>2004-02-01</td>\n",
       "    </tr>\n",
       "    <tr>\n",
       "      <th>4</th>\n",
       "      <td>718838</td>\n",
       "      <td>1965439999</td>\n",
       "      <td>2004-02-01</td>\n",
       "    </tr>\n",
       "  </tbody>\n",
       "</table>\n",
       "</div>"
      ],
      "text/plain": [
       "   citing_pub_id  cited_pub_id        date\n",
       "0         245658    2013150886  2002-01-01\n",
       "1         245658    2138790588  2002-01-01\n",
       "2         245658    2334566563  2002-01-01\n",
       "3         718838    1604916109  2004-02-01\n",
       "4         718838    1965439999  2004-02-01"
      ]
     },
     "execution_count": 13,
     "metadata": {},
     "output_type": "execute_result"
    }
   ],
   "source": [
    "citations_hcp3.head()"
   ]
  },
  {
   "cell_type": "code",
   "execution_count": 52,
   "metadata": {},
   "outputs": [
    {
     "name": "stdout",
     "output_type": "stream",
     "text": [
      "len(citations_ids)=350777\n",
      "len(embeddings_ids)=352508\n",
      "len(missing_ids)=1616\n"
     ]
    }
   ],
   "source": [
    "citations_ids = set(citations_hcp3['citing_pub_id']) | set(citations_hcp3['cited_pub_id'])\n",
    "embeddings_ids = set(embeddings_hcp2.index)\n",
    "print(f\"{len(citations_ids)=}\")\n",
    "print(f\"{len(embeddings_ids)=}\")\n",
    "\n",
    "# check if all citation ids are in the embeddings (and collect those that are not if any)\n",
    "missing_ids = citations_ids - embeddings_ids\n",
    "print(f\"{len(missing_ids)=}\")"
   ]
  },
  {
   "cell_type": "code",
   "execution_count": 58,
   "metadata": {},
   "outputs": [
    {
     "data": {
      "text/plain": [
       "1018"
      ]
     },
     "execution_count": 58,
     "metadata": {},
     "output_type": "execute_result"
    }
   ],
   "source": [
    "len(set(citations_hcp3['citing_pub_id'])  - embeddings_ids)"
   ]
  },
  {
   "cell_type": "code",
   "execution_count": 59,
   "metadata": {},
   "outputs": [
    {
     "data": {
      "text/plain": [
       "1589"
      ]
     },
     "execution_count": 59,
     "metadata": {},
     "output_type": "execute_result"
    }
   ],
   "source": [
    "len(set(citations_hcp3['cited_pub_id'])  - embeddings_ids)"
   ]
  },
  {
   "cell_type": "code",
   "execution_count": 60,
   "metadata": {},
   "outputs": [
    {
     "data": {
      "text/plain": [
       "[1212948,\n",
       " 1950462,\n",
       " 4343100,\n",
       " 4355260,\n",
       " 5908806,\n",
       " 7057950,\n",
       " 9477515,\n",
       " 11897853,\n",
       " 14904768,\n",
       " 16253337]"
      ]
     },
     "execution_count": 60,
     "metadata": {},
     "output_type": "execute_result"
    }
   ],
   "source": [
    "sorted(missing_ids)[:10]"
   ]
  },
  {
   "cell_type": "code",
   "execution_count": 61,
   "metadata": {},
   "outputs": [
    {
     "name": "stdout",
     "output_type": "stream",
     "text": [
      "citations_hcp3.shape=(4864876, 3)\n"
     ]
    }
   ],
   "source": [
    "# get a version of citations_hcp3 where neither cited_pub_id nor citations_hcp3 contain any of the missing_ids\n",
    "citations_hcp3 = citations_hcp3[~citations_hcp3['citing_pub_id'].isin(missing_ids)]\n",
    "citations_hcp3 = citations_hcp3[~citations_hcp3['cited_pub_id'].isin(missing_ids)]\n",
    "print(f\"{citations_hcp3.shape=}\")"
   ]
  },
  {
   "cell_type": "code",
   "execution_count": 62,
   "metadata": {},
   "outputs": [
    {
     "name": "stdout",
     "output_type": "stream",
     "text": [
      "len(citations_ids)=349124\n",
      "len(embeddings_ids)=352508\n",
      "len(missing_ids)=0\n"
     ]
    }
   ],
   "source": [
    "citations_ids = set(citations_hcp3['citing_pub_id']) | set(citations_hcp3['cited_pub_id'])\n",
    "embeddings_ids = set(embeddings_hcp2.index)\n",
    "print(f\"{len(citations_ids)=}\")\n",
    "print(f\"{len(embeddings_ids)=}\")\n",
    "\n",
    "# check if all citation ids are in the embeddings (and collect those that are not if any)\n",
    "missing_ids = citations_ids - embeddings_ids\n",
    "print(f\"{len(missing_ids)=}\")"
   ]
  },
  {
   "cell_type": "code",
   "execution_count": 79,
   "metadata": {},
   "outputs": [],
   "source": [
    "# group cited_pub_id by citing_pub_id\n",
    "cited_by = citations_hcp3.groupby('cited_pub_id')['citing_pub_id'].apply(set).apply(list).to_dict()\n"
   ]
  },
  {
   "cell_type": "code",
   "execution_count": 94,
   "metadata": {},
   "outputs": [
    {
     "data": {
      "text/plain": [
       "[1966247273,\n",
       " 1992776590,\n",
       " 2097744687,\n",
       " 2127786259,\n",
       " 2161166547,\n",
       " 2054655287,\n",
       " 2607177050,\n",
       " 2169918686]"
      ]
     },
     "execution_count": 94,
     "metadata": {},
     "output_type": "execute_result"
    }
   ],
   "source": [
    "ids = next(iter(cited_by.values()))\n",
    "ids"
   ]
  },
  {
   "cell_type": "markdown",
   "metadata": {},
   "source": [
    "### Aggregate cited embeddings"
   ]
  },
  {
   "cell_type": "code",
   "execution_count": 99,
   "metadata": {},
   "outputs": [],
   "source": [
    "from typing import Callable, Sequence\n",
    "from functools import partial\n",
    "import numpy as np\n",
    "\n",
    "def embeddings_for_ids(ids: Sequence[int], embeddings=embeddings_hcp2):\n",
    "    return np.vstack(embeddings.loc[ids].values)\n",
    "\n",
    "def aggregate_values(d: dict, value_aggregator: Callable, value_func: Callable=embeddings_for_ids):\n",
    "    return {k: value_aggregator(value_func(v)) for k, v in d.items()}\n",
    "\n",
    "mean_aggregator = partial(np.mean, axis=0)\n",
    "\n",
    "# a version of the mean that *might* better reflect the cosine similarity between the vectors\n",
    "def cosine_mean_aggregator(vectors: np.ndarray):\n",
    "    return vectors.mean(axis=0) / np.linalg.norm(vectors.mean(axis=0))\n",
    "\n",
    "# normalized means (where we first normalize each vector before taking the mean)\n",
    "# Normalization is done by dividing each vector by its norm\n",
    "# This is in order to (perhaps) better reflect the cosine similarity between the vectors\n",
    "# Note: What about `vectors.mean(axis=0) / np.linalg.norm(vectors.mean(axis=0))`?\n",
    "def normalized_mean_aggregator(vectors: np.ndarray):\n",
    "    return (vectors / np.linalg.norm(vectors, axis=1)[:, None]).mean(axis=0)"
   ]
  },
  {
   "cell_type": "code",
   "execution_count": 100,
   "metadata": {},
   "outputs": [],
   "source": [
    "mean_aggregates = aggregate_values(cited_by, mean_aggregator)"
   ]
  },
  {
   "cell_type": "code",
   "execution_count": 101,
   "metadata": {},
   "outputs": [
    {
     "data": {
      "text/plain": [
       "(1536,)"
      ]
     },
     "execution_count": 101,
     "metadata": {},
     "output_type": "execute_result"
    }
   ],
   "source": [
    "k, v = next(iter(mean_aggregates.items()))\n",
    "v.shape"
   ]
  },
  {
   "cell_type": "code",
   "execution_count": 102,
   "metadata": {},
   "outputs": [],
   "source": [
    "normalized_mean_aggregates = aggregate_values(cited_by, normalized_mean_aggregator)"
   ]
  },
  {
   "cell_type": "code",
   "execution_count": 106,
   "metadata": {},
   "outputs": [
    {
     "data": {
      "text/plain": [
       "(1536,)"
      ]
     },
     "execution_count": 106,
     "metadata": {},
     "output_type": "execute_result"
    }
   ],
   "source": [
    "k, v = next(iter(normalized_mean_aggregates.items()))\n",
    "v.shape"
   ]
  },
  {
   "cell_type": "markdown",
   "metadata": {},
   "source": [
    "### Make planar embeddings of these"
   ]
  },
  {
   "cell_type": "code",
   "execution_count": 146,
   "metadata": {},
   "outputs": [],
   "source": [
    "from imbed.util import (\n",
    "    umap_2d_embeddings, \n",
    "    umap_2d_embeddings_df, \n",
    "    two_d_embedding_dict_to_df, \n",
    "    save_df_to_zipped_tsv\n",
    ")"
   ]
  },
  {
   "cell_type": "code",
   "execution_count": 148,
   "metadata": {},
   "outputs": [
    {
     "name": "stdout",
     "output_type": "stream",
     "text": [
      "planar_mean_embeddings.shape=(332256, 3)\n"
     ]
    },
    {
     "data": {
      "text/html": [
       "<div>\n",
       "<style scoped>\n",
       "    .dataframe tbody tr th:only-of-type {\n",
       "        vertical-align: middle;\n",
       "    }\n",
       "\n",
       "    .dataframe tbody tr th {\n",
       "        vertical-align: top;\n",
       "    }\n",
       "\n",
       "    .dataframe thead th {\n",
       "        text-align: right;\n",
       "    }\n",
       "</style>\n",
       "<table border=\"1\" class=\"dataframe\">\n",
       "  <thead>\n",
       "    <tr style=\"text-align: right;\">\n",
       "      <th></th>\n",
       "      <th>id</th>\n",
       "      <th>x</th>\n",
       "      <th>y</th>\n",
       "    </tr>\n",
       "  </thead>\n",
       "  <tbody>\n",
       "    <tr>\n",
       "      <th>0</th>\n",
       "      <td>245658</td>\n",
       "      <td>3.129996</td>\n",
       "      <td>8.546703</td>\n",
       "    </tr>\n",
       "    <tr>\n",
       "      <th>1</th>\n",
       "      <td>332595</td>\n",
       "      <td>9.747175</td>\n",
       "      <td>-0.088321</td>\n",
       "    </tr>\n",
       "    <tr>\n",
       "      <th>2</th>\n",
       "      <td>718838</td>\n",
       "      <td>1.771288</td>\n",
       "      <td>9.130220</td>\n",
       "    </tr>\n",
       "    <tr>\n",
       "      <th>3</th>\n",
       "      <td>804345</td>\n",
       "      <td>-2.349198</td>\n",
       "      <td>7.234386</td>\n",
       "    </tr>\n",
       "    <tr>\n",
       "      <th>4</th>\n",
       "      <td>831416</td>\n",
       "      <td>-0.462187</td>\n",
       "      <td>1.156000</td>\n",
       "    </tr>\n",
       "  </tbody>\n",
       "</table>\n",
       "</div>"
      ],
      "text/plain": [
       "       id         x         y\n",
       "0  245658  3.129996  8.546703\n",
       "1  332595  9.747175 -0.088321\n",
       "2  718838  1.771288  9.130220\n",
       "3  804345 -2.349198  7.234386\n",
       "4  831416 -0.462187  1.156000"
      ]
     },
     "execution_count": 148,
     "metadata": {},
     "output_type": "execute_result"
    }
   ],
   "source": [
    "planar_mean_embeddings = umap_2d_embeddings_df(mean_aggregates, key_col='id')\n",
    "print(f\"{planar_mean_embeddings.shape=}\")\n",
    "planar_mean_embeddings.head()"
   ]
  },
  {
   "cell_type": "code",
   "execution_count": 151,
   "metadata": {},
   "outputs": [],
   "source": [
    "t = pd.merge(planar_mean_embeddings, info_hcp2, on='id')\n",
    "save_df_to_zipped_tsv(t, pjoin('planar_cited_mean_embeddings'))"
   ]
  },
  {
   "cell_type": "code",
   "execution_count": 152,
   "metadata": {},
   "outputs": [
    {
     "name": "stdout",
     "output_type": "stream",
     "text": [
      "planar_normalized_mean_embeddings.shape=(332256, 3)\n"
     ]
    },
    {
     "data": {
      "text/html": [
       "<div>\n",
       "<style scoped>\n",
       "    .dataframe tbody tr th:only-of-type {\n",
       "        vertical-align: middle;\n",
       "    }\n",
       "\n",
       "    .dataframe tbody tr th {\n",
       "        vertical-align: top;\n",
       "    }\n",
       "\n",
       "    .dataframe thead th {\n",
       "        text-align: right;\n",
       "    }\n",
       "</style>\n",
       "<table border=\"1\" class=\"dataframe\">\n",
       "  <thead>\n",
       "    <tr style=\"text-align: right;\">\n",
       "      <th></th>\n",
       "      <th>id</th>\n",
       "      <th>x</th>\n",
       "      <th>y</th>\n",
       "    </tr>\n",
       "  </thead>\n",
       "  <tbody>\n",
       "    <tr>\n",
       "      <th>0</th>\n",
       "      <td>245658</td>\n",
       "      <td>1.503875</td>\n",
       "      <td>8.726212</td>\n",
       "    </tr>\n",
       "    <tr>\n",
       "      <th>1</th>\n",
       "      <td>332595</td>\n",
       "      <td>7.221537</td>\n",
       "      <td>-0.559328</td>\n",
       "    </tr>\n",
       "    <tr>\n",
       "      <th>2</th>\n",
       "      <td>718838</td>\n",
       "      <td>0.607667</td>\n",
       "      <td>9.450784</td>\n",
       "    </tr>\n",
       "    <tr>\n",
       "      <th>3</th>\n",
       "      <td>804345</td>\n",
       "      <td>-1.724925</td>\n",
       "      <td>6.536339</td>\n",
       "    </tr>\n",
       "    <tr>\n",
       "      <th>4</th>\n",
       "      <td>831416</td>\n",
       "      <td>0.241432</td>\n",
       "      <td>0.249355</td>\n",
       "    </tr>\n",
       "  </tbody>\n",
       "</table>\n",
       "</div>"
      ],
      "text/plain": [
       "       id         x         y\n",
       "0  245658  1.503875  8.726212\n",
       "1  332595  7.221537 -0.559328\n",
       "2  718838  0.607667  9.450784\n",
       "3  804345 -1.724925  6.536339\n",
       "4  831416  0.241432  0.249355"
      ]
     },
     "execution_count": 152,
     "metadata": {},
     "output_type": "execute_result"
    }
   ],
   "source": [
    "planar_normalized_mean_embeddings = umap_2d_embeddings_df(normalized_mean_aggregates, key_col='id')\n",
    "print(f\"{planar_normalized_mean_embeddings.shape=}\")\n",
    "planar_normalized_mean_embeddings.head()"
   ]
  },
  {
   "cell_type": "code",
   "execution_count": 154,
   "metadata": {},
   "outputs": [
    {
     "name": "stdout",
     "output_type": "stream",
     "text": [
      "deleting: planar_cited_normalized_mean_embeddings.tsv\n",
      "\tzip warning: zip file empty\n"
     ]
    }
   ],
   "source": [
    "t = pd.merge(planar_normalized_mean_embeddings, info_hcp2, on='id')\n",
    "save_df_to_zipped_tsv(t, pjoin('planar_cited_normalized_mean_embeddings'))"
   ]
  },
  {
   "cell_type": "code",
   "execution_count": 155,
   "metadata": {},
   "outputs": [
    {
     "data": {
      "text/html": [
       "<div>\n",
       "<style scoped>\n",
       "    .dataframe tbody tr th:only-of-type {\n",
       "        vertical-align: middle;\n",
       "    }\n",
       "\n",
       "    .dataframe tbody tr th {\n",
       "        vertical-align: top;\n",
       "    }\n",
       "\n",
       "    .dataframe thead th {\n",
       "        text-align: right;\n",
       "    }\n",
       "</style>\n",
       "<table border=\"1\" class=\"dataframe\">\n",
       "  <thead>\n",
       "    <tr style=\"text-align: right;\">\n",
       "      <th></th>\n",
       "      <th>id</th>\n",
       "      <th>x</th>\n",
       "      <th>y</th>\n",
       "      <th>title</th>\n",
       "      <th>source</th>\n",
       "      <th>pub_date</th>\n",
       "      <th>n_cits</th>\n",
       "      <th>micro_cluster</th>\n",
       "      <th>main_field</th>\n",
       "    </tr>\n",
       "  </thead>\n",
       "  <tbody>\n",
       "    <tr>\n",
       "      <th>0</th>\n",
       "      <td>245658</td>\n",
       "      <td>1.503875</td>\n",
       "      <td>8.726212</td>\n",
       "      <td>Standardized low-resolution brain electromagne...</td>\n",
       "      <td>PubMed</td>\n",
       "      <td>2002-01-01</td>\n",
       "      <td>1056</td>\n",
       "      <td>241</td>\n",
       "      <td>Biomedical and health sciences</td>\n",
       "    </tr>\n",
       "    <tr>\n",
       "      <th>1</th>\n",
       "      <td>332595</td>\n",
       "      <td>7.221537</td>\n",
       "      <td>-0.559328</td>\n",
       "      <td>Electrokinetic migration across artificial liq...</td>\n",
       "      <td>Journal of Chromatography A</td>\n",
       "      <td>2006-03-01</td>\n",
       "      <td>570</td>\n",
       "      <td>180</td>\n",
       "      <td>Physical sciences and engineering</td>\n",
       "    </tr>\n",
       "    <tr>\n",
       "      <th>2</th>\n",
       "      <td>718838</td>\n",
       "      <td>0.607667</td>\n",
       "      <td>9.450784</td>\n",
       "      <td>Pathophysiology of obsessiveâcompulsive diso...</td>\n",
       "      <td>Progress in Neurobiology</td>\n",
       "      <td>2004-02-01</td>\n",
       "      <td>304</td>\n",
       "      <td>1123</td>\n",
       "      <td>Biomedical and health sciences</td>\n",
       "    </tr>\n",
       "    <tr>\n",
       "      <th>3</th>\n",
       "      <td>804345</td>\n",
       "      <td>-1.724925</td>\n",
       "      <td>6.536339</td>\n",
       "      <td>Der Kinder- und Jugendgesundheitssurvey (KiGGS...</td>\n",
       "      <td>Bundesgesundheitsblatt - Gesundheitsforschung ...</td>\n",
       "      <td>2007-05-01</td>\n",
       "      <td>358</td>\n",
       "      <td>3022</td>\n",
       "      <td>Biomedical and health sciences</td>\n",
       "    </tr>\n",
       "    <tr>\n",
       "      <th>4</th>\n",
       "      <td>831416</td>\n",
       "      <td>0.241432</td>\n",
       "      <td>0.249355</td>\n",
       "      <td>Remote Ischemic Preconditioning Provides Early...</td>\n",
       "      <td>Journal of the American College of Cardiology</td>\n",
       "      <td>2005-08-01</td>\n",
       "      <td>370</td>\n",
       "      <td>1057</td>\n",
       "      <td>Biomedical and health sciences</td>\n",
       "    </tr>\n",
       "  </tbody>\n",
       "</table>\n",
       "</div>"
      ],
      "text/plain": [
       "       id         x         y  \\\n",
       "0  245658  1.503875  8.726212   \n",
       "1  332595  7.221537 -0.559328   \n",
       "2  718838  0.607667  9.450784   \n",
       "3  804345 -1.724925  6.536339   \n",
       "4  831416  0.241432  0.249355   \n",
       "\n",
       "                                               title  \\\n",
       "0  Standardized low-resolution brain electromagne...   \n",
       "1  Electrokinetic migration across artificial liq...   \n",
       "2  Pathophysiology of obsessiveâcompulsive diso...   \n",
       "3  Der Kinder- und Jugendgesundheitssurvey (KiGGS...   \n",
       "4  Remote Ischemic Preconditioning Provides Early...   \n",
       "\n",
       "                                              source    pub_date  n_cits  \\\n",
       "0                                             PubMed  2002-01-01    1056   \n",
       "1                        Journal of Chromatography A  2006-03-01     570   \n",
       "2                           Progress in Neurobiology  2004-02-01     304   \n",
       "3  Bundesgesundheitsblatt - Gesundheitsforschung ...  2007-05-01     358   \n",
       "4      Journal of the American College of Cardiology  2005-08-01     370   \n",
       "\n",
       "   micro_cluster                         main_field  \n",
       "0            241     Biomedical and health sciences  \n",
       "1            180  Physical sciences and engineering  \n",
       "2           1123     Biomedical and health sciences  \n",
       "3           3022     Biomedical and health sciences  \n",
       "4           1057     Biomedical and health sciences  "
      ]
     },
     "execution_count": 155,
     "metadata": {},
     "output_type": "execute_result"
    }
   ],
   "source": [
    "t.head()"
   ]
  },
  {
   "cell_type": "code",
   "execution_count": null,
   "metadata": {},
   "outputs": [],
   "source": []
  },
  {
   "cell_type": "code",
   "execution_count": null,
   "metadata": {},
   "outputs": [],
   "source": [
    "save_filepath = pjoin('planar_cited_mean_embeddings.tsv')\n",
    "# save to tsv file\n",
    "planar_mean_embeddings.to_csv(save_filepath, sep='\\t', index=False)\n",
    "# zip the file\n",
    "from dol.zipfiledol import file_or_folder_to_zip_file\n",
    "file_or_folder_to_zip_file(save_filepath, f'{save_filepath}.zip')"
   ]
  },
  {
   "cell_type": "code",
   "execution_count": 15,
   "metadata": {},
   "outputs": [],
   "source": [
    "# save_filepath = pjoin('planar_cited_normalized_mean_embeddings.tsv')\n",
    "# # join info\n",
    "# t = pd.merge(planar_normalized_mean_embeddings, info_hcp2, left_on='id', right_on='id')\n",
    "# # save to tsv file\n",
    "# t.to_csv(save_filepath, sep='\\t', index=False)\n",
    "# # zip the file\n",
    "# from dol.zipfiledol import file_or_folder_to_zip_file\n",
    "# file_or_folder_to_zip_file(save_filepath, f'{save_filepath}.zip')"
   ]
  },
  {
   "cell_type": "code",
   "execution_count": 119,
   "metadata": {},
   "outputs": [
    {
     "data": {
      "text/html": [
       "<div>\n",
       "<style scoped>\n",
       "    .dataframe tbody tr th:only-of-type {\n",
       "        vertical-align: middle;\n",
       "    }\n",
       "\n",
       "    .dataframe tbody tr th {\n",
       "        vertical-align: top;\n",
       "    }\n",
       "\n",
       "    .dataframe thead th {\n",
       "        text-align: right;\n",
       "    }\n",
       "</style>\n",
       "<table border=\"1\" class=\"dataframe\">\n",
       "  <thead>\n",
       "    <tr style=\"text-align: right;\">\n",
       "      <th></th>\n",
       "      <th>id</th>\n",
       "      <th>x</th>\n",
       "      <th>y</th>\n",
       "    </tr>\n",
       "    <tr>\n",
       "      <th>id</th>\n",
       "      <th></th>\n",
       "      <th></th>\n",
       "      <th></th>\n",
       "    </tr>\n",
       "  </thead>\n",
       "  <tbody>\n",
       "    <tr>\n",
       "      <th>245658</th>\n",
       "      <td>245658</td>\n",
       "      <td>3.753793</td>\n",
       "      <td>8.701797</td>\n",
       "    </tr>\n",
       "    <tr>\n",
       "      <th>332595</th>\n",
       "      <td>332595</td>\n",
       "      <td>-1.841340</td>\n",
       "      <td>11.418116</td>\n",
       "    </tr>\n",
       "    <tr>\n",
       "      <th>718838</th>\n",
       "      <td>718838</td>\n",
       "      <td>4.334699</td>\n",
       "      <td>7.352377</td>\n",
       "    </tr>\n",
       "    <tr>\n",
       "      <th>804345</th>\n",
       "      <td>804345</td>\n",
       "      <td>6.798362</td>\n",
       "      <td>2.089395</td>\n",
       "    </tr>\n",
       "    <tr>\n",
       "      <th>831416</th>\n",
       "      <td>831416</td>\n",
       "      <td>7.846370</td>\n",
       "      <td>8.327367</td>\n",
       "    </tr>\n",
       "  </tbody>\n",
       "</table>\n",
       "</div>"
      ],
      "text/plain": [
       "            id         x          y\n",
       "id                                 \n",
       "245658  245658  3.753793   8.701797\n",
       "332595  332595 -1.841340  11.418116\n",
       "718838  718838  4.334699   7.352377\n",
       "804345  804345  6.798362   2.089395\n",
       "831416  831416  7.846370   8.327367"
      ]
     },
     "execution_count": 119,
     "metadata": {},
     "output_type": "execute_result"
    }
   ],
   "source": [
    "planar_mean_embeddings = two_d_embedding_dict_to_df(t, key_col='id')\n",
    "planar_mean_embeddings.head()"
   ]
  },
  {
   "cell_type": "code",
   "execution_count": null,
   "metadata": {},
   "outputs": [],
   "source": [
    "# compute the 2d umap of the mean_aggregates, and save it to a tsv file with id, x, and y\n",
    "import umap\n",
    "import pandas as pd\n",
    "\n",
    "umap_2d = umap.UMAP(n_components=2).fit_transform(list(mean_aggregates.values()))\n",
    "umap_2d_df = pd.DataFrame(umap_2d, index=list(mean_aggregates.keys()), columns=['x', 'y'])\n",
    "umap_2d_df.to_csv('/Users/thorwhalen/tmp/umap_2d.tsv', sep='\\t')\n"
   ]
  },
  {
   "cell_type": "code",
   "execution_count": null,
   "metadata": {},
   "outputs": [],
   "source": [
    "from typing import Mapping, Dict, KT, List, Sequence\n",
    "\n",
    "def umap_2d_embeddings(kd_embeddings: Mapping[KT, Sequence]) -> Dict[KT, List[float, float]]:\n",
    "    \"\"\"A function that takes a mapping of kd embeddings and returns a dict of the 2d umap embeddings\"\"\"\n",
    "    umap_embeddings = umap.UMAP(n_components=2).fit_transform(list(kd_embeddings.values()))\n",
    "    return {k: list(v) for k, v in zip(kd_embeddings.keys(), umap_embeddings)}\n",
    "\n"
   ]
  },
  {
   "cell_type": "markdown",
   "metadata": {},
   "source": [
    "## Visualize 2d embeddings"
   ]
  },
  {
   "cell_type": "code",
   "execution_count": 19,
   "metadata": {},
   "outputs": [
    {
     "name": "stdout",
     "output_type": "stream",
     "text": [
      "planar_embeddings.shape=(332256, 9)\n"
     ]
    },
    {
     "data": {
      "text/html": [
       "<div>\n",
       "<style scoped>\n",
       "    .dataframe tbody tr th:only-of-type {\n",
       "        vertical-align: middle;\n",
       "    }\n",
       "\n",
       "    .dataframe tbody tr th {\n",
       "        vertical-align: top;\n",
       "    }\n",
       "\n",
       "    .dataframe thead th {\n",
       "        text-align: right;\n",
       "    }\n",
       "</style>\n",
       "<table border=\"1\" class=\"dataframe\">\n",
       "  <thead>\n",
       "    <tr style=\"text-align: right;\">\n",
       "      <th></th>\n",
       "      <th>id</th>\n",
       "      <th>x</th>\n",
       "      <th>y</th>\n",
       "      <th>title</th>\n",
       "      <th>source</th>\n",
       "      <th>pub_date</th>\n",
       "      <th>n_cits</th>\n",
       "      <th>micro_cluster</th>\n",
       "      <th>main_field</th>\n",
       "    </tr>\n",
       "  </thead>\n",
       "  <tbody>\n",
       "    <tr>\n",
       "      <th>0</th>\n",
       "      <td>245658</td>\n",
       "      <td>3.129996</td>\n",
       "      <td>8.546703</td>\n",
       "      <td>Standardized low-resolution brain electromagne...</td>\n",
       "      <td>PubMed</td>\n",
       "      <td>2002-01-01</td>\n",
       "      <td>1056</td>\n",
       "      <td>241</td>\n",
       "      <td>Biomedical and health sciences</td>\n",
       "    </tr>\n",
       "    <tr>\n",
       "      <th>1</th>\n",
       "      <td>332595</td>\n",
       "      <td>9.747175</td>\n",
       "      <td>-0.088321</td>\n",
       "      <td>Electrokinetic migration across artificial liq...</td>\n",
       "      <td>Journal of Chromatography A</td>\n",
       "      <td>2006-03-01</td>\n",
       "      <td>570</td>\n",
       "      <td>180</td>\n",
       "      <td>Physical sciences and engineering</td>\n",
       "    </tr>\n",
       "    <tr>\n",
       "      <th>2</th>\n",
       "      <td>718838</td>\n",
       "      <td>1.771288</td>\n",
       "      <td>9.130220</td>\n",
       "      <td>Pathophysiology of obsessiveâcompulsive diso...</td>\n",
       "      <td>Progress in Neurobiology</td>\n",
       "      <td>2004-02-01</td>\n",
       "      <td>304</td>\n",
       "      <td>1123</td>\n",
       "      <td>Biomedical and health sciences</td>\n",
       "    </tr>\n",
       "    <tr>\n",
       "      <th>3</th>\n",
       "      <td>804345</td>\n",
       "      <td>-2.349198</td>\n",
       "      <td>7.234386</td>\n",
       "      <td>Der Kinder- und Jugendgesundheitssurvey (KiGGS...</td>\n",
       "      <td>Bundesgesundheitsblatt - Gesundheitsforschung ...</td>\n",
       "      <td>2007-05-01</td>\n",
       "      <td>358</td>\n",
       "      <td>3022</td>\n",
       "      <td>Biomedical and health sciences</td>\n",
       "    </tr>\n",
       "    <tr>\n",
       "      <th>4</th>\n",
       "      <td>831416</td>\n",
       "      <td>-0.462187</td>\n",
       "      <td>1.156000</td>\n",
       "      <td>Remote Ischemic Preconditioning Provides Early...</td>\n",
       "      <td>Journal of the American College of Cardiology</td>\n",
       "      <td>2005-08-01</td>\n",
       "      <td>370</td>\n",
       "      <td>1057</td>\n",
       "      <td>Biomedical and health sciences</td>\n",
       "    </tr>\n",
       "  </tbody>\n",
       "</table>\n",
       "</div>"
      ],
      "text/plain": [
       "       id         x         y  \\\n",
       "0  245658  3.129996  8.546703   \n",
       "1  332595  9.747175 -0.088321   \n",
       "2  718838  1.771288  9.130220   \n",
       "3  804345 -2.349198  7.234386   \n",
       "4  831416 -0.462187  1.156000   \n",
       "\n",
       "                                               title  \\\n",
       "0  Standardized low-resolution brain electromagne...   \n",
       "1  Electrokinetic migration across artificial liq...   \n",
       "2  Pathophysiology of obsessiveâcompulsive diso...   \n",
       "3  Der Kinder- und Jugendgesundheitssurvey (KiGGS...   \n",
       "4  Remote Ischemic Preconditioning Provides Early...   \n",
       "\n",
       "                                              source    pub_date  n_cits  \\\n",
       "0                                             PubMed  2002-01-01    1056   \n",
       "1                        Journal of Chromatography A  2006-03-01     570   \n",
       "2                           Progress in Neurobiology  2004-02-01     304   \n",
       "3  Bundesgesundheitsblatt - Gesundheitsforschung ...  2007-05-01     358   \n",
       "4      Journal of the American College of Cardiology  2005-08-01     370   \n",
       "\n",
       "   micro_cluster                         main_field  \n",
       "0            241     Biomedical and health sciences  \n",
       "1            180  Physical sciences and engineering  \n",
       "2           1123     Biomedical and health sciences  \n",
       "3           3022     Biomedical and health sciences  \n",
       "4           1057     Biomedical and health sciences  "
      ]
     },
     "execution_count": 19,
     "metadata": {},
     "output_type": "execute_result"
    }
   ],
   "source": [
    "planar_embeddings = pd.read_csv(pjoin('planar_cited_mean_embeddings.tsv'), sep='\\t')\n",
    "print(f\"{planar_embeddings.shape=}\")\n",
    "planar_embeddings.head()"
   ]
  },
  {
   "cell_type": "code",
   "execution_count": 25,
   "metadata": {},
   "outputs": [],
   "source": [
    "from cosmograph import cosmo"
   ]
  },
  {
   "cell_type": "code",
   "execution_count": null,
   "metadata": {},
   "outputs": [],
   "source": [
    "cosmo(planar_embeddings)"
   ]
  },
  {
   "cell_type": "code",
   "execution_count": null,
   "metadata": {},
   "outputs": [],
   "source": []
  },
  {
   "cell_type": "markdown",
   "metadata": {},
   "source": [
    "## Citations titles"
   ]
  },
  {
   "cell_type": "code",
   "execution_count": 30,
   "metadata": {},
   "outputs": [
    {
     "name": "stdout",
     "output_type": "stream",
     "text": [
      "info_hcp2.shape=(354165, 7)\n"
     ]
    },
    {
     "data": {
      "text/html": [
       "<div>\n",
       "<style scoped>\n",
       "    .dataframe tbody tr th:only-of-type {\n",
       "        vertical-align: middle;\n",
       "    }\n",
       "\n",
       "    .dataframe tbody tr th {\n",
       "        vertical-align: top;\n",
       "    }\n",
       "\n",
       "    .dataframe thead th {\n",
       "        text-align: right;\n",
       "    }\n",
       "</style>\n",
       "<table border=\"1\" class=\"dataframe\">\n",
       "  <thead>\n",
       "    <tr style=\"text-align: right;\">\n",
       "      <th></th>\n",
       "      <th>id</th>\n",
       "      <th>title</th>\n",
       "      <th>source</th>\n",
       "      <th>pub_date</th>\n",
       "      <th>n_cits</th>\n",
       "      <th>micro_cluster</th>\n",
       "      <th>main_field</th>\n",
       "    </tr>\n",
       "  </thead>\n",
       "  <tbody>\n",
       "    <tr>\n",
       "      <th>0</th>\n",
       "      <td>245658</td>\n",
       "      <td>Standardized low-resolution brain electromagne...</td>\n",
       "      <td>PubMed</td>\n",
       "      <td>2002-01-01</td>\n",
       "      <td>1056</td>\n",
       "      <td>241</td>\n",
       "      <td>Biomedical and health sciences</td>\n",
       "    </tr>\n",
       "    <tr>\n",
       "      <th>1</th>\n",
       "      <td>332595</td>\n",
       "      <td>Electrokinetic migration across artificial liq...</td>\n",
       "      <td>Journal of Chromatography A</td>\n",
       "      <td>2006-03-01</td>\n",
       "      <td>570</td>\n",
       "      <td>180</td>\n",
       "      <td>Physical sciences and engineering</td>\n",
       "    </tr>\n",
       "    <tr>\n",
       "      <th>2</th>\n",
       "      <td>718838</td>\n",
       "      <td>Pathophysiology of obsessiveâcompulsive diso...</td>\n",
       "      <td>Progress in Neurobiology</td>\n",
       "      <td>2004-02-01</td>\n",
       "      <td>304</td>\n",
       "      <td>1123</td>\n",
       "      <td>Biomedical and health sciences</td>\n",
       "    </tr>\n",
       "    <tr>\n",
       "      <th>3</th>\n",
       "      <td>804345</td>\n",
       "      <td>Der Kinder- und Jugendgesundheitssurvey (KiGGS...</td>\n",
       "      <td>Bundesgesundheitsblatt - Gesundheitsforschung ...</td>\n",
       "      <td>2007-05-01</td>\n",
       "      <td>358</td>\n",
       "      <td>3022</td>\n",
       "      <td>Biomedical and health sciences</td>\n",
       "    </tr>\n",
       "    <tr>\n",
       "      <th>4</th>\n",
       "      <td>831416</td>\n",
       "      <td>Remote Ischemic Preconditioning Provides Early...</td>\n",
       "      <td>Journal of the American College of Cardiology</td>\n",
       "      <td>2005-08-01</td>\n",
       "      <td>370</td>\n",
       "      <td>1057</td>\n",
       "      <td>Biomedical and health sciences</td>\n",
       "    </tr>\n",
       "  </tbody>\n",
       "</table>\n",
       "</div>"
      ],
      "text/plain": [
       "       id                                              title  \\\n",
       "0  245658  Standardized low-resolution brain electromagne...   \n",
       "1  332595  Electrokinetic migration across artificial liq...   \n",
       "2  718838  Pathophysiology of obsessiveâcompulsive diso...   \n",
       "3  804345  Der Kinder- und Jugendgesundheitssurvey (KiGGS...   \n",
       "4  831416  Remote Ischemic Preconditioning Provides Early...   \n",
       "\n",
       "                                              source    pub_date  n_cits  \\\n",
       "0                                             PubMed  2002-01-01    1056   \n",
       "1                        Journal of Chromatography A  2006-03-01     570   \n",
       "2                           Progress in Neurobiology  2004-02-01     304   \n",
       "3  Bundesgesundheitsblatt - Gesundheitsforschung ...  2007-05-01     358   \n",
       "4      Journal of the American College of Cardiology  2005-08-01     370   \n",
       "\n",
       "   micro_cluster                         main_field  \n",
       "0            241     Biomedical and health sciences  \n",
       "1            180  Physical sciences and engineering  \n",
       "2           1123     Biomedical and health sciences  \n",
       "3           3022     Biomedical and health sciences  \n",
       "4           1057     Biomedical and health sciences  "
      ]
     },
     "execution_count": 30,
     "metadata": {},
     "output_type": "execute_result"
    }
   ],
   "source": [
    "print(f\"{info_hcp2.shape=}\")\n",
    "info_hcp2.head()"
   ]
  },
  {
   "cell_type": "code",
   "execution_count": 32,
   "metadata": {},
   "outputs": [
    {
     "name": "stdout",
     "output_type": "stream",
     "text": [
      "info_hcp2.title.dropna().apply(len).mean()=83.58047193255189\n",
      "info_hcp2.n_cits.dropna().mean()=644.4399813646182\n"
     ]
    }
   ],
   "source": [
    "# mean of title lengths\n",
    "print(f\"{info_hcp2.title.dropna().apply(len).mean()=}\")\n",
    "# mean of number of citations\n",
    "print(f\"{info_hcp2.n_cits.dropna().mean()=}\")"
   ]
  },
  {
   "cell_type": "code",
   "execution_count": 33,
   "metadata": {},
   "outputs": [
    {
     "data": {
      "image/png": "[encoded data removed]",
      "text/plain": [
       "<Figure size 1200x400 with 2 Axes>"
      ]
     },
     "metadata": {},
     "output_type": "display_data"
    }
   ],
   "source": [
    "# plot title length and number of citations distributions\n",
    "import matplotlib.pyplot as plt\n",
    "\n",
    "fig, axs = plt.subplots(1, 2, figsize=(12, 4))\n",
    "info_hcp2.title.dropna().apply(len).hist(ax=axs[0])\n",
    "axs[0].set_title('title length')\n",
    "info_hcp2.n_cits.dropna().hist(ax=axs[1])\n",
    "axs[1].set_title('number of citations')\n",
    "plt.show()\n"
   ]
  },
  {
   "cell_type": "code",
   "execution_count": null,
   "metadata": {},
   "outputs": [],
   "source": []
  },
  {
   "cell_type": "code",
   "execution_count": 14,
   "metadata": {},
   "outputs": [
    {
     "data": {
      "text/html": [
       "<div>\n",
       "<style scoped>\n",
       "    .dataframe tbody tr th:only-of-type {\n",
       "        vertical-align: middle;\n",
       "    }\n",
       "\n",
       "    .dataframe tbody tr th {\n",
       "        vertical-align: top;\n",
       "    }\n",
       "\n",
       "    .dataframe thead th {\n",
       "        text-align: right;\n",
       "    }\n",
       "</style>\n",
       "<table border=\"1\" class=\"dataframe\">\n",
       "  <thead>\n",
       "    <tr style=\"text-align: right;\">\n",
       "      <th></th>\n",
       "      <th>citing_pub_id</th>\n",
       "      <th>cited_pub_id</th>\n",
       "      <th>date</th>\n",
       "    </tr>\n",
       "  </thead>\n",
       "  <tbody>\n",
       "    <tr>\n",
       "      <th>0</th>\n",
       "      <td>245658</td>\n",
       "      <td>2013150886</td>\n",
       "      <td>2002-01-01</td>\n",
       "    </tr>\n",
       "    <tr>\n",
       "      <th>1</th>\n",
       "      <td>245658</td>\n",
       "      <td>2138790588</td>\n",
       "      <td>2002-01-01</td>\n",
       "    </tr>\n",
       "    <tr>\n",
       "      <th>2</th>\n",
       "      <td>245658</td>\n",
       "      <td>2334566563</td>\n",
       "      <td>2002-01-01</td>\n",
       "    </tr>\n",
       "    <tr>\n",
       "      <th>3</th>\n",
       "      <td>718838</td>\n",
       "      <td>1604916109</td>\n",
       "      <td>2004-02-01</td>\n",
       "    </tr>\n",
       "    <tr>\n",
       "      <th>4</th>\n",
       "      <td>718838</td>\n",
       "      <td>1965439999</td>\n",
       "      <td>2004-02-01</td>\n",
       "    </tr>\n",
       "  </tbody>\n",
       "</table>\n",
       "</div>"
      ],
      "text/plain": [
       "   citing_pub_id  cited_pub_id        date\n",
       "0         245658    2013150886  2002-01-01\n",
       "1         245658    2138790588  2002-01-01\n",
       "2         245658    2334566563  2002-01-01\n",
       "3         718838    1604916109  2004-02-01\n",
       "4         718838    1965439999  2004-02-01"
      ]
     },
     "execution_count": 14,
     "metadata": {},
     "output_type": "execute_result"
    }
   ],
   "source": [
    "citations_hcp3.head()"
   ]
  },
  {
   "cell_type": "code",
   "execution_count": 47,
   "metadata": {},
   "outputs": [
    {
     "data": {
      "text/plain": [
       "<Axes: >"
      ]
     },
     "execution_count": 47,
     "metadata": {},
     "output_type": "execute_result"
    },
    {
     "data": {
      "image/png": "[encoded data removed]",
      "text/plain": [
       "<Figure size 640x480 with 1 Axes>"
      ]
     },
     "metadata": {},
     "output_type": "display_data"
    }
   ],
   "source": [
    "# group cited_pub_id by citing_pub_id\n",
    "citations_sr = citations_hcp3.groupby('citing_pub_id')['cited_pub_id'].apply(set).apply(list)\n",
    "# make a count series from cited_by_sr, sorted by descending order\n",
    "cited_by_count = citations_sr.apply(len).sort_values(ascending=False)\n",
    "# plot it\n",
    "cited_by_count.reset_index(drop=True).plot(logy=True)"
   ]
  },
  {
   "cell_type": "code",
   "execution_count": null,
   "metadata": {},
   "outputs": [],
   "source": []
  },
  {
   "cell_type": "code",
   "execution_count": null,
   "metadata": {},
   "outputs": [],
   "source": []
  },
  {
   "cell_type": "markdown",
   "metadata": {},
   "source": [
    "# The k-d to 2-d problem"
   ]
  },
  {
   "cell_type": "markdown",
   "metadata": {},
   "source": [
    "After embedding your objects of interest into k-dimensional vectors, you might further embed them into two or three dimensions for visualization. This process inevitably loses some information and introduces distortions, but it's still valuable. The initial conversion of texts or images into numerical vectors also involved information loss, yet it was useful for your specific goals.\n",
    "\n",
    "Dimensionality reduction typically results in losing some details. The key is to preserve the essential information (the \"signal\") and minimize the loss of less important details (the \"noise\"). Done well, this can be beneficial, especially if it enhances the signal-to-noise ratio.\n",
    "\n",
    "This principle also applies to compressing vectors for visualization. The aim is to present complex data usefully and intuitively, enabling analysts to spot patterns and gain insights. It's a balance between maintaining utility and practical implementation when transforming k-dimensional data into two-dimensional forms.\n",
    "\n"
   ]
  },
  {
   "cell_type": "code",
   "execution_count": null,
   "metadata": {},
   "outputs": [],
   "source": []
  },
  {
   "cell_type": "code",
   "execution_count": 18,
   "metadata": {},
   "outputs": [
    {
     "data": {
      "image/svg+xml": [
       "<?xml version=\"1.0\" encoding=\"UTF-8\" standalone=\"no\"?>\n",
       "<!DOCTYPE svg PUBLIC \"-//W3C//DTD SVG 1.1//EN\"\n",
       " \"http://www.w3.org/Graphics/SVG/1.1/DTD/svg11.dtd\">\n",
       "<!-- Generated by graphviz version 9.0.0 (20230911.1827)\n",
       " -->\n",
       "<!-- Pages: 1 -->\n",
       "<svg width=\"504pt\" height=\"764pt\"\n",
       " viewBox=\"0.00 0.00 504.44 764.00\" xmlns=\"http://www.w3.org/2000/svg\" xmlns:xlink=\"http://www.w3.org/1999/xlink\">\n",
       "<g id=\"graph0\" class=\"graph\" transform=\"scale(1 1) rotate(0) translate(4 760)\">\n",
       "<polygon fill=\"white\" stroke=\"none\" points=\"-4,4 -4,-760 500.44,-760 500.44,4 -4,4\"/>\n",
       "<!-- src_folder -->\n",
       "<g id=\"node1\" class=\"node\">\n",
       "<title>src_folder</title>\n",
       "<ellipse fill=\"none\" stroke=\"black\" cx=\"280.92\" cy=\"-738\" rx=\"48.28\" ry=\"18\"/>\n",
       "<text text-anchor=\"middle\" x=\"280.92\" y=\"-732.95\" font-family=\"Times,serif\" font-size=\"14.00\">src_folder</text>\n",
       "</g>\n",
       "<!-- pjoin -->\n",
       "<g id=\"node2\" class=\"node\">\n",
       "<title>pjoin</title>\n",
       "<ellipse fill=\"none\" stroke=\"black\" cx=\"280.92\" cy=\"-666\" rx=\"29.86\" ry=\"18\"/>\n",
       "<text text-anchor=\"middle\" x=\"280.92\" y=\"-660.95\" font-family=\"Times,serif\" font-size=\"14.00\">pjoin</text>\n",
       "</g>\n",
       "<!-- src_folder&#45;&gt;pjoin -->\n",
       "<g id=\"edge1\" class=\"edge\">\n",
       "<title>src_folder&#45;&gt;pjoin</title>\n",
       "<path fill=\"none\" stroke=\"black\" d=\"M280.92,-719.7C280.92,-712.41 280.92,-703.73 280.92,-695.54\"/>\n",
       "<polygon fill=\"black\" stroke=\"black\" points=\"284.42,-695.62 280.92,-685.62 277.42,-695.62 284.42,-695.62\"/>\n",
       "</g>\n",
       "<!-- embeddings_filepath -->\n",
       "<g id=\"node3\" class=\"node\">\n",
       "<title>embeddings_filepath</title>\n",
       "<ellipse fill=\"none\" stroke=\"black\" cx=\"93.92\" cy=\"-594\" rx=\"88.71\" ry=\"18\"/>\n",
       "<text text-anchor=\"middle\" x=\"93.92\" y=\"-588.95\" font-family=\"Times,serif\" font-size=\"14.00\">embeddings_filepath</text>\n",
       "</g>\n",
       "<!-- pjoin&#45;&gt;embeddings_filepath -->\n",
       "<g id=\"edge2\" class=\"edge\">\n",
       "<title>pjoin&#45;&gt;embeddings_filepath</title>\n",
       "<path fill=\"none\" stroke=\"black\" d=\"M256.09,-655.7C227.97,-645.18 181.38,-627.74 145.33,-614.24\"/>\n",
       "<polygon fill=\"black\" stroke=\"black\" points=\"147,-611.13 136.41,-610.9 144.55,-617.69 147,-611.13\"/>\n",
       "</g>\n",
       "<!-- citations_hcp3_src -->\n",
       "<g id=\"node4\" class=\"node\">\n",
       "<title>citations_hcp3_src</title>\n",
       "<ellipse fill=\"none\" stroke=\"black\" cx=\"280.92\" cy=\"-594\" rx=\"80.01\" ry=\"18\"/>\n",
       "<text text-anchor=\"middle\" x=\"280.92\" y=\"-588.95\" font-family=\"Times,serif\" font-size=\"14.00\">citations_hcp3_src</text>\n",
       "</g>\n",
       "<!-- pjoin&#45;&gt;citations_hcp3_src -->\n",
       "<g id=\"edge3\" class=\"edge\">\n",
       "<title>pjoin&#45;&gt;citations_hcp3_src</title>\n",
       "<path fill=\"none\" stroke=\"black\" d=\"M280.92,-647.7C280.92,-640.41 280.92,-631.73 280.92,-623.54\"/>\n",
       "<polygon fill=\"black\" stroke=\"black\" points=\"284.42,-623.62 280.92,-613.62 277.42,-623.62 284.42,-623.62\"/>\n",
       "</g>\n",
       "<!-- info_filepath -->\n",
       "<g id=\"node5\" class=\"node\">\n",
       "<title>info_filepath</title>\n",
       "<ellipse fill=\"none\" stroke=\"black\" cx=\"437.92\" cy=\"-594\" rx=\"58.52\" ry=\"18\"/>\n",
       "<text text-anchor=\"middle\" x=\"437.92\" y=\"-588.95\" font-family=\"Times,serif\" font-size=\"14.00\">info_filepath</text>\n",
       "</g>\n",
       "<!-- pjoin&#45;&gt;info_filepath -->\n",
       "<g id=\"edge4\" class=\"edge\">\n",
       "<title>pjoin&#45;&gt;info_filepath</title>\n",
       "<path fill=\"none\" stroke=\"black\" d=\"M304.43,-654.52C328.35,-643.85 365.97,-627.08 395.18,-614.06\"/>\n",
       "<polygon fill=\"black\" stroke=\"black\" points=\"396.43,-617.33 404.14,-610.06 393.58,-610.94 396.43,-617.33\"/>\n",
       "</g>\n",
       "<!-- embeddings_hcp2 -->\n",
       "<g id=\"node6\" class=\"node\">\n",
       "<title>embeddings_hcp2</title>\n",
       "<ellipse fill=\"none\" stroke=\"black\" cx=\"93.92\" cy=\"-522\" rx=\"78.48\" ry=\"18\"/>\n",
       "<text text-anchor=\"middle\" x=\"93.92\" y=\"-516.95\" font-family=\"Times,serif\" font-size=\"14.00\">embeddings_hcp2</text>\n",
       "</g>\n",
       "<!-- embeddings_filepath&#45;&gt;embeddings_hcp2 -->\n",
       "<g id=\"edge5\" class=\"edge\">\n",
       "<title>embeddings_filepath&#45;&gt;embeddings_hcp2</title>\n",
       "<path fill=\"none\" stroke=\"black\" d=\"M93.92,-575.7C93.92,-568.41 93.92,-559.73 93.92,-551.54\"/>\n",
       "<polygon fill=\"black\" stroke=\"black\" points=\"97.42,-551.62 93.92,-541.62 90.42,-551.62 97.42,-551.62\"/>\n",
       "</g>\n",
       "<!-- _citations_hcp3 -->\n",
       "<g id=\"node7\" class=\"node\">\n",
       "<title>_citations_hcp3</title>\n",
       "<ellipse fill=\"none\" stroke=\"black\" cx=\"280.92\" cy=\"-522\" rx=\"69.26\" ry=\"18\"/>\n",
       "<text text-anchor=\"middle\" x=\"280.92\" y=\"-516.95\" font-family=\"Times,serif\" font-size=\"14.00\">_citations_hcp3</text>\n",
       "</g>\n",
       "<!-- citations_hcp3_src&#45;&gt;_citations_hcp3 -->\n",
       "<g id=\"edge6\" class=\"edge\">\n",
       "<title>citations_hcp3_src&#45;&gt;_citations_hcp3</title>\n",
       "<path fill=\"none\" stroke=\"black\" d=\"M280.92,-575.7C280.92,-568.41 280.92,-559.73 280.92,-551.54\"/>\n",
       "<polygon fill=\"black\" stroke=\"black\" points=\"284.42,-551.62 280.92,-541.62 277.42,-551.62 284.42,-551.62\"/>\n",
       "</g>\n",
       "<!-- info_hcp2 -->\n",
       "<g id=\"node18\" class=\"node\">\n",
       "<title>info_hcp2</title>\n",
       "<ellipse fill=\"none\" stroke=\"black\" cx=\"437.92\" cy=\"-378\" rx=\"48.28\" ry=\"18\"/>\n",
       "<text text-anchor=\"middle\" x=\"437.92\" y=\"-372.95\" font-family=\"Times,serif\" font-size=\"14.00\">info_hcp2</text>\n",
       "</g>\n",
       "<!-- info_filepath&#45;&gt;info_hcp2 -->\n",
       "<g id=\"edge20\" class=\"edge\">\n",
       "<title>info_filepath&#45;&gt;info_hcp2</title>\n",
       "<path fill=\"none\" stroke=\"black\" d=\"M437.92,-575.85C437.92,-539.14 437.92,-452.66 437.92,-407.53\"/>\n",
       "<polygon fill=\"black\" stroke=\"black\" points=\"441.42,-407.75 437.92,-397.75 434.42,-407.75 441.42,-407.75\"/>\n",
       "</g>\n",
       "<!-- embeddings_ids -->\n",
       "<g id=\"node9\" class=\"node\">\n",
       "<title>embeddings_ids</title>\n",
       "<ellipse fill=\"none\" stroke=\"black\" cx=\"100.92\" cy=\"-450\" rx=\"71.31\" ry=\"18\"/>\n",
       "<text text-anchor=\"middle\" x=\"100.92\" y=\"-444.95\" font-family=\"Times,serif\" font-size=\"14.00\">embeddings_ids</text>\n",
       "</g>\n",
       "<!-- embeddings_hcp2&#45;&gt;embeddings_ids -->\n",
       "<g id=\"edge8\" class=\"edge\">\n",
       "<title>embeddings_hcp2&#45;&gt;embeddings_ids</title>\n",
       "<path fill=\"none\" stroke=\"black\" d=\"M95.65,-503.7C96.38,-496.41 97.25,-487.73 98.07,-479.54\"/>\n",
       "<polygon fill=\"black\" stroke=\"black\" points=\"101.55,-479.91 99.06,-469.61 94.58,-479.21 101.55,-479.91\"/>\n",
       "</g>\n",
       "<!-- mean_aggregates -->\n",
       "<g id=\"node15\" class=\"node\">\n",
       "<title>mean_aggregates</title>\n",
       "<ellipse fill=\"none\" stroke=\"black\" cx=\"170.92\" cy=\"-162\" rx=\"75.41\" ry=\"18\"/>\n",
       "<text text-anchor=\"middle\" x=\"170.92\" y=\"-156.95\" font-family=\"Times,serif\" font-size=\"14.00\">mean_aggregates</text>\n",
       "</g>\n",
       "<!-- embeddings_hcp2&#45;&gt;mean_aggregates -->\n",
       "<g id=\"edge16\" class=\"edge\">\n",
       "<title>embeddings_hcp2&#45;&gt;mean_aggregates</title>\n",
       "<path fill=\"none\" stroke=\"black\" d=\"M62.31,-505.13C47.57,-496.18 31.08,-483.62 20.92,-468 -1.13,-434.09 1.92,-419.45 1.92,-379 1.92,-379 1.92,-379 1.92,-305 1.92,-264.55 -5.77,-246.39 20.92,-216 39.75,-194.57 67.79,-181.81 94.56,-174.2\"/>\n",
       "<polygon fill=\"black\" stroke=\"black\" points=\"95.26,-177.63 104.06,-171.73 93.5,-170.86 95.26,-177.63\"/>\n",
       "</g>\n",
       "<!-- _citations_ids -->\n",
       "<g id=\"node8\" class=\"node\">\n",
       "<title>_citations_ids</title>\n",
       "<ellipse fill=\"none\" stroke=\"black\" cx=\"251.92\" cy=\"-450\" rx=\"62.1\" ry=\"18\"/>\n",
       "<text text-anchor=\"middle\" x=\"251.92\" y=\"-444.95\" font-family=\"Times,serif\" font-size=\"14.00\">_citations_ids</text>\n",
       "</g>\n",
       "<!-- _citations_hcp3&#45;&gt;_citations_ids -->\n",
       "<g id=\"edge7\" class=\"edge\">\n",
       "<title>_citations_hcp3&#45;&gt;_citations_ids</title>\n",
       "<path fill=\"none\" stroke=\"black\" d=\"M273.75,-503.7C270.63,-496.15 266.89,-487.12 263.39,-478.68\"/>\n",
       "<polygon fill=\"black\" stroke=\"black\" points=\"266.65,-477.4 259.59,-469.5 260.18,-480.08 266.65,-477.4\"/>\n",
       "</g>\n",
       "<!-- citations_hcp3 -->\n",
       "<g id=\"node11\" class=\"node\">\n",
       "<title>citations_hcp3</title>\n",
       "<ellipse fill=\"none\" stroke=\"black\" cx=\"296.92\" cy=\"-306\" rx=\"64.66\" ry=\"18\"/>\n",
       "<text text-anchor=\"middle\" x=\"296.92\" y=\"-300.95\" font-family=\"Times,serif\" font-size=\"14.00\">citations_hcp3</text>\n",
       "</g>\n",
       "<!-- _citations_hcp3&#45;&gt;citations_hcp3 -->\n",
       "<g id=\"edge11\" class=\"edge\">\n",
       "<title>_citations_hcp3&#45;&gt;citations_hcp3</title>\n",
       "<path fill=\"none\" stroke=\"black\" d=\"M299.09,-504.22C308.13,-494.61 318.14,-481.75 322.92,-468 338.66,-422.79 322.27,-367.08 309.33,-334.45\"/>\n",
       "<polygon fill=\"black\" stroke=\"black\" points=\"312.6,-333.21 305.53,-325.32 306.14,-335.9 312.6,-333.21\"/>\n",
       "</g>\n",
       "<!-- missing_ids -->\n",
       "<g id=\"node10\" class=\"node\">\n",
       "<title>missing_ids</title>\n",
       "<ellipse fill=\"none\" stroke=\"black\" cx=\"251.92\" cy=\"-378\" rx=\"55.45\" ry=\"18\"/>\n",
       "<text text-anchor=\"middle\" x=\"251.92\" y=\"-372.95\" font-family=\"Times,serif\" font-size=\"14.00\">missing_ids</text>\n",
       "</g>\n",
       "<!-- _citations_ids&#45;&gt;missing_ids -->\n",
       "<g id=\"edge10\" class=\"edge\">\n",
       "<title>_citations_ids&#45;&gt;missing_ids</title>\n",
       "<path fill=\"none\" stroke=\"black\" d=\"M251.92,-431.7C251.92,-424.41 251.92,-415.73 251.92,-407.54\"/>\n",
       "<polygon fill=\"black\" stroke=\"black\" points=\"255.42,-407.62 251.92,-397.62 248.42,-407.62 255.42,-407.62\"/>\n",
       "</g>\n",
       "<!-- embeddings_ids&#45;&gt;missing_ids -->\n",
       "<g id=\"edge9\" class=\"edge\">\n",
       "<title>embeddings_ids&#45;&gt;missing_ids</title>\n",
       "<path fill=\"none\" stroke=\"black\" d=\"M134.06,-433.64C156.6,-423.19 186.58,-409.29 210.66,-398.13\"/>\n",
       "<polygon fill=\"black\" stroke=\"black\" points=\"211.95,-401.39 219.55,-394.01 209.01,-395.04 211.95,-401.39\"/>\n",
       "</g>\n",
       "<!-- missing_ids&#45;&gt;citations_hcp3 -->\n",
       "<g id=\"edge12\" class=\"edge\">\n",
       "<title>missing_ids&#45;&gt;citations_hcp3</title>\n",
       "<path fill=\"none\" stroke=\"black\" d=\"M262.82,-360.05C267.96,-352.06 274.21,-342.33 279.95,-333.4\"/>\n",
       "<polygon fill=\"black\" stroke=\"black\" points=\"282.85,-335.37 285.31,-325.06 276.96,-331.58 282.85,-335.37\"/>\n",
       "</g>\n",
       "<!-- cited_by -->\n",
       "<g id=\"node12\" class=\"node\">\n",
       "<title>cited_by</title>\n",
       "<ellipse fill=\"none\" stroke=\"black\" cx=\"240.92\" cy=\"-234\" rx=\"42.65\" ry=\"18\"/>\n",
       "<text text-anchor=\"middle\" x=\"240.92\" y=\"-228.95\" font-family=\"Times,serif\" font-size=\"14.00\">cited_by</text>\n",
       "</g>\n",
       "<!-- citations_hcp3&#45;&gt;cited_by -->\n",
       "<g id=\"edge13\" class=\"edge\">\n",
       "<title>citations_hcp3&#45;&gt;cited_by</title>\n",
       "<path fill=\"none\" stroke=\"black\" d=\"M283.37,-288.05C276.67,-279.68 268.45,-269.4 261.03,-260.13\"/>\n",
       "<polygon fill=\"black\" stroke=\"black\" points=\"263.89,-258.11 254.91,-252.49 258.43,-262.48 263.89,-258.11\"/>\n",
       "</g>\n",
       "<!-- citations_of -->\n",
       "<g id=\"node13\" class=\"node\">\n",
       "<title>citations_of</title>\n",
       "<ellipse fill=\"none\" stroke=\"black\" cx=\"355.92\" cy=\"-234\" rx=\"54.42\" ry=\"18\"/>\n",
       "<text text-anchor=\"middle\" x=\"355.92\" y=\"-228.95\" font-family=\"Times,serif\" font-size=\"14.00\">citations_of</text>\n",
       "</g>\n",
       "<!-- citations_hcp3&#45;&gt;citations_of -->\n",
       "<g id=\"edge14\" class=\"edge\">\n",
       "<title>citations_hcp3&#45;&gt;citations_of</title>\n",
       "<path fill=\"none\" stroke=\"black\" d=\"M311.21,-288.05C318.16,-279.8 326.67,-269.7 334.4,-260.54\"/>\n",
       "<polygon fill=\"black\" stroke=\"black\" points=\"337.03,-262.85 340.8,-252.95 331.68,-258.34 337.03,-262.85\"/>\n",
       "</g>\n",
       "<!-- ids -->\n",
       "<g id=\"node14\" class=\"node\">\n",
       "<title>ids</title>\n",
       "<ellipse fill=\"none\" stroke=\"black\" cx=\"355.92\" cy=\"-162\" rx=\"27\" ry=\"18\"/>\n",
       "<text text-anchor=\"middle\" x=\"355.92\" y=\"-156.95\" font-family=\"Times,serif\" font-size=\"14.00\">ids</text>\n",
       "</g>\n",
       "<!-- citations_of&#45;&gt;ids -->\n",
       "<g id=\"edge15\" class=\"edge\">\n",
       "<title>citations_of&#45;&gt;ids</title>\n",
       "<path fill=\"none\" stroke=\"black\" d=\"M355.92,-215.7C355.92,-208.41 355.92,-199.73 355.92,-191.54\"/>\n",
       "<polygon fill=\"black\" stroke=\"black\" points=\"359.42,-191.62 355.92,-181.62 352.42,-191.62 359.42,-191.62\"/>\n",
       "</g>\n",
       "<!-- citations_of&#45;&gt;mean_aggregates -->\n",
       "<g id=\"edge17\" class=\"edge\">\n",
       "<title>citations_of&#45;&gt;mean_aggregates</title>\n",
       "<path fill=\"none\" stroke=\"black\" d=\"M321.13,-219.83C292.73,-209.09 252.25,-193.77 220.46,-181.74\"/>\n",
       "<polygon fill=\"black\" stroke=\"black\" points=\"222.05,-178.6 211.46,-178.34 219.58,-185.15 222.05,-178.6\"/>\n",
       "</g>\n",
       "<!-- planar_mean_embeddings -->\n",
       "<g id=\"node17\" class=\"node\">\n",
       "<title>planar_mean_embeddings</title>\n",
       "<ellipse fill=\"none\" stroke=\"black\" cx=\"268.92\" cy=\"-90\" rx=\"108.67\" ry=\"18\"/>\n",
       "<text text-anchor=\"middle\" x=\"268.92\" y=\"-84.95\" font-family=\"Times,serif\" font-size=\"14.00\">planar_mean_embeddings</text>\n",
       "</g>\n",
       "<!-- mean_aggregates&#45;&gt;planar_mean_embeddings -->\n",
       "<g id=\"edge19\" class=\"edge\">\n",
       "<title>mean_aggregates&#45;&gt;planar_mean_embeddings</title>\n",
       "<path fill=\"none\" stroke=\"black\" d=\"M194.15,-144.41C206.66,-135.48 222.3,-124.3 236.04,-114.49\"/>\n",
       "<polygon fill=\"black\" stroke=\"black\" points=\"237.85,-117.5 243.95,-108.84 233.78,-111.8 237.85,-117.5\"/>\n",
       "</g>\n",
       "<!-- mean_aggregator -->\n",
       "<g id=\"node16\" class=\"node\">\n",
       "<title>mean_aggregator</title>\n",
       "<ellipse fill=\"none\" stroke=\"black\" cx=\"104.92\" cy=\"-234\" rx=\"75.41\" ry=\"18\"/>\n",
       "<text text-anchor=\"middle\" x=\"104.92\" y=\"-228.95\" font-family=\"Times,serif\" font-size=\"14.00\">mean_aggregator</text>\n",
       "</g>\n",
       "<!-- mean_aggregator&#45;&gt;mean_aggregates -->\n",
       "<g id=\"edge18\" class=\"edge\">\n",
       "<title>mean_aggregator&#45;&gt;mean_aggregates</title>\n",
       "<path fill=\"none\" stroke=\"black\" d=\"M120.9,-216.05C128.84,-207.63 138.6,-197.28 147.38,-187.97\"/>\n",
       "<polygon fill=\"black\" stroke=\"black\" points=\"149.74,-190.57 154.06,-180.89 144.65,-185.77 149.74,-190.57\"/>\n",
       "</g>\n",
       "<!-- planar_mean_embeddings_with_ids -->\n",
       "<g id=\"node19\" class=\"node\">\n",
       "<title>planar_mean_embeddings_with_ids</title>\n",
       "<ellipse fill=\"none\" stroke=\"black\" cx=\"336.92\" cy=\"-18\" rx=\"145.01\" ry=\"18\"/>\n",
       "<text text-anchor=\"middle\" x=\"336.92\" y=\"-12.95\" font-family=\"Times,serif\" font-size=\"14.00\">planar_mean_embeddings_with_ids</text>\n",
       "</g>\n",
       "<!-- planar_mean_embeddings&#45;&gt;planar_mean_embeddings_with_ids -->\n",
       "<g id=\"edge21\" class=\"edge\">\n",
       "<title>planar_mean_embeddings&#45;&gt;planar_mean_embeddings_with_ids</title>\n",
       "<path fill=\"none\" stroke=\"black\" d=\"M285.38,-72.05C293.45,-63.75 303.33,-53.58 312.27,-44.38\"/>\n",
       "<polygon fill=\"black\" stroke=\"black\" points=\"314.63,-46.97 319.09,-37.36 309.61,-42.09 314.63,-46.97\"/>\n",
       "</g>\n",
       "<!-- info_hcp2&#45;&gt;planar_mean_embeddings_with_ids -->\n",
       "<g id=\"edge22\" class=\"edge\">\n",
       "<title>info_hcp2&#45;&gt;planar_mean_embeddings_with_ids</title>\n",
       "<path fill=\"none\" stroke=\"black\" d=\"M437.92,-359.51C437.92,-332.71 437.92,-279.87 437.92,-235 437.92,-235 437.92,-235 437.92,-161 437.92,-112.61 398.49,-69.25 368.91,-43.53\"/>\n",
       "<polygon fill=\"black\" stroke=\"black\" points=\"371.16,-40.86 361.25,-37.1 366.66,-46.21 371.16,-40.86\"/>\n",
       "</g>\n",
       "</g>\n",
       "</svg>\n"
      ],
      "text/plain": [
       "<graphviz.graphs.Digraph at 0x2bf00f280>"
      ]
     },
     "execution_count": 18,
     "metadata": {},
     "output_type": "execute_result"
    }
   ],
   "source": [
    "from i2.footprints import attribute_dependencies, init_argument_names\n",
    "from imbed.mdat.hcp import Hcp3Dacc\n",
    "from meshed.itools import graphviz_digraph\n",
    "\n",
    "deps = dict(attribute_dependencies(Hcp3Dacc))\n",
    "\n",
    "graphviz_digraph(deps)\n"
   ]
  },
  {
   "cell_type": "code",
   "execution_count": 24,
   "metadata": {},
   "outputs": [],
   "source": [
    "rootdir = '/Users/thorwhalen/Dropbox/_odata/figiri/hcp'\n",
    "dacc = Hcp3Dacc(rootdir)"
   ]
  },
  {
   "cell_type": "code",
   "execution_count": 25,
   "metadata": {},
   "outputs": [
    {
     "name": "stdout",
     "output_type": "stream",
     "text": [
      "len(dacc.info_hcp2)=354165, 308135, dacc.citations_and_titles.shape=(308135, 3)\n"
     ]
    },
    {
     "data": {
      "text/html": [
       "<div>\n",
       "<style scoped>\n",
       "    .dataframe tbody tr th:only-of-type {\n",
       "        vertical-align: middle;\n",
       "    }\n",
       "\n",
       "    .dataframe tbody tr th {\n",
       "        vertical-align: top;\n",
       "    }\n",
       "\n",
       "    .dataframe thead th {\n",
       "        text-align: right;\n",
       "    }\n",
       "</style>\n",
       "<table border=\"1\" class=\"dataframe\">\n",
       "  <thead>\n",
       "    <tr style=\"text-align: right;\">\n",
       "      <th></th>\n",
       "      <th>cited_ids</th>\n",
       "      <th>id</th>\n",
       "      <th>title</th>\n",
       "    </tr>\n",
       "  </thead>\n",
       "  <tbody>\n",
       "    <tr>\n",
       "      <th>0</th>\n",
       "      <td>[2138790588, 2013150886]</td>\n",
       "      <td>245658</td>\n",
       "      <td>Standardized low-resolution brain electromagne...</td>\n",
       "    </tr>\n",
       "    <tr>\n",
       "      <th>2</th>\n",
       "      <td>[1994893189, 2158553737, 1604916109, 202841896...</td>\n",
       "      <td>718838</td>\n",
       "      <td>Pathophysiology of obsessiveâcompulsive diso...</td>\n",
       "    </tr>\n",
       "    <tr>\n",
       "      <th>4</th>\n",
       "      <td>[2114205159, 2161774890, 1965693998, 211020414...</td>\n",
       "      <td>831416</td>\n",
       "      <td>Remote Ischemic Preconditioning Provides Early...</td>\n",
       "    </tr>\n",
       "    <tr>\n",
       "      <th>5</th>\n",
       "      <td>[2025976960, 2172013173]</td>\n",
       "      <td>898828</td>\n",
       "      <td>The Unknown Mechanism of the Overtraining Synd...</td>\n",
       "    </tr>\n",
       "    <tr>\n",
       "      <th>6</th>\n",
       "      <td>[2138019504, 2127271355, 2103972604]</td>\n",
       "      <td>905619</td>\n",
       "      <td>Revisiting Frank-Wolfe: Projection-Free Sparse...</td>\n",
       "    </tr>\n",
       "  </tbody>\n",
       "</table>\n",
       "</div>"
      ],
      "text/plain": [
       "                                           cited_ids      id  \\\n",
       "0                           [2138790588, 2013150886]  245658   \n",
       "2  [1994893189, 2158553737, 1604916109, 202841896...  718838   \n",
       "4  [2114205159, 2161774890, 1965693998, 211020414...  831416   \n",
       "5                           [2025976960, 2172013173]  898828   \n",
       "6               [2138019504, 2127271355, 2103972604]  905619   \n",
       "\n",
       "                                               title  \n",
       "0  Standardized low-resolution brain electromagne...  \n",
       "2  Pathophysiology of obsessiveâcompulsive diso...  \n",
       "4  Remote Ischemic Preconditioning Provides Early...  \n",
       "5  The Unknown Mechanism of the Overtraining Synd...  \n",
       "6  Revisiting Frank-Wolfe: Projection-Free Sparse...  "
      ]
     },
     "execution_count": 25,
     "metadata": {},
     "output_type": "execute_result"
    }
   ],
   "source": [
    "t = dacc.citations_and_titles\n",
    "print(f\"{len(dacc.info_hcp2)=}, {len(dacc.citations_of)}, {dacc.citations_and_titles.shape=}\")\n",
    "t.head()"
   ]
  },
  {
   "cell_type": "code",
   "execution_count": null,
   "metadata": {},
   "outputs": [],
   "source": []
  },
  {
   "cell_type": "code",
   "execution_count": null,
   "metadata": {},
   "outputs": [],
   "source": []
  },
  {
   "cell_type": "code",
   "execution_count": null,
   "metadata": {},
   "outputs": [],
   "source": []
  },
  {
   "cell_type": "code",
   "execution_count": null,
   "metadata": {},
   "outputs": [],
   "source": []
  },
  {
   "cell_type": "markdown",
   "metadata": {},
   "source": []
  }
 ],
 "metadata": {
  "kernelspec": {
   "display_name": "p10",
   "language": "python",
   "name": "python3"
  },
  "language_info": {
   "codemirror_mode": {
    "name": "ipython",
    "version": 3
   },
   "file_extension": ".py",
   "mimetype": "text/x-python",
   "name": "python",
   "nbconvert_exporter": "python",
   "pygments_lexer": "ipython3",
   "version": "3.10.13"
  }
 },
 "nbformat": 4,
 "nbformat_minor": 2
}
