{
 "cells": [
  {
   "cell_type": "markdown",
   "metadata": {},
   "source": [
    "This notebook contains the work-in-progress (WIP) scrap for the `imbed` project.\n",
    "\n",
    "It is not meant to be run by all.\n"
   ]
  },
  {
   "cell_type": "code",
   "execution_count": null,
   "metadata": {
    "vscode": {
     "languageId": "plaintext"
    }
   },
   "outputs": [],
   "source": []
  },
  {
   "cell_type": "code",
   "execution_count": null,
   "metadata": {
    "vscode": {
     "languageId": "plaintext"
    }
   },
   "outputs": [],
   "source": []
  },
  {
   "cell_type": "markdown",
   "metadata": {},
   "source": [
    "# The k-d to 2-d problem"
   ]
  },
  {
   "cell_type": "markdown",
   "metadata": {},
   "source": [
    "Once you've featurized your objects of interest -- or as it is called nowadays, embedded them to a k-dimensioal space of vectors -- you may want to embedded these, in turn, to 2 or 3 dimensional vectors in order to visualize them. \n",
    "\n",
    "Of course, by doing so, you'll lose a lot of information. You'll introduce distortions. You'll lie (or at least, your visualization will lie in the sense that the relative distances of your points will not be able to be conserved, so will be misleading).\n",
    "\n",
    "That doesn't mean you shouldn't do it. \n",
    "You did it in the first place by featurizing your original object -- whether it was text, image, or image, you reduced these to numerical vectors, losing a bunch of the original information. \n",
    "But you did it anyway.\n",
    "Why?\n",
    "Because it was useful.\n",
    "Useful for what? \n",
    "For the task at hand, whatever it may be.\n",
    "\n",
    "Reduction of dimensions almost always means loss of information.\n",
    "The trick is to keep the information that is most relevant to the task at hand (the \"signal\"), while attempting to focus the loss on the information that is not (the \"noise\"). \n",
    "If this is done well, is can be a win-win. \n",
    "Reduction of dimension doesn't have to necessarily come at a cost: If the signal/noise ratio increases it can come at a profit!\n",
    "\n",
    "It's the same attitude we must take when reducing the vectors further to 2-dimensional (or 3-dimensional) vectors. \n",
    "The task at hand is here is visualization. \n",
    "The objectives of visualizations being to be able to present complex data in a way that is useful. In a way where an analyst can explore the data, viewing it at different angles and zoom levels, spotting patterns and developing hypothesis-forming intuitions.\n",
    "\n",
    "Just as with feature-engineering and embeddings, there are compromises. \n",
    "Here, we want to explore the various ways one can transform k-dimensional data into 2-dimensional data in ways that keep usefulness as well as implementation realities in mind.\n",
    "\n"
   ]
  },
  {
   "cell_type": "code",
   "execution_count": null,
   "metadata": {
    "vscode": {
     "languageId": "plaintext"
    }
   },
   "outputs": [],
   "source": []
  },
  {
   "cell_type": "code",
   "execution_count": null,
   "metadata": {
    "vscode": {
     "languageId": "plaintext"
    }
   },
   "outputs": [],
   "source": []
  },
  {
   "cell_type": "code",
   "execution_count": null,
   "metadata": {
    "vscode": {
     "languageId": "plaintext"
    }
   },
   "outputs": [],
   "source": []
  },
  {
   "cell_type": "markdown",
   "metadata": {},
   "source": [
    "# Scrap"
   ]
  },
  {
   "cell_type": "markdown",
   "metadata": {},
   "source": []
  }
 ],
 "metadata": {
  "language_info": {
   "name": "python"
  }
 },
 "nbformat": 4,
 "nbformat_minor": 2
}
