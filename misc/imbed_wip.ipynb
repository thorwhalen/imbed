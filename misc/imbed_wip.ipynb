{
 "cells": [
  {
   "cell_type": "markdown",
   "metadata": {},
   "source": [
    "This notebook contains the work-in-progress (WIP) scrap for the `imbed` project.\n",
    "\n",
    "It is not meant to be run by all.\n"
   ]
  },
  {
   "cell_type": "code",
   "execution_count": null,
   "metadata": {},
   "outputs": [],
   "source": []
  },
  {
   "cell_type": "code",
   "execution_count": null,
   "metadata": {},
   "outputs": [],
   "source": []
  },
  {
   "cell_type": "markdown",
   "metadata": {},
   "source": [
    "# The k-d to 2-d problem"
   ]
  },
  {
   "cell_type": "markdown",
   "metadata": {},
   "source": [
    "After embedding your objects of interest into k-dimensional vectors, you might further embed them into two or three dimensions for visualization. This process inevitably loses some information and introduces distortions, but it's still valuable. The initial conversion of texts or images into numerical vectors also involved information loss, yet it was useful for your specific goals.\n",
    "\n",
    "Dimensionality reduction typically results in losing some details. The key is to preserve the essential information (the \"signal\") and minimize the loss of less important details (the \"noise\"). Done well, this can be beneficial, especially if it enhances the signal-to-noise ratio.\n",
    "\n",
    "This principle also applies to compressing vectors for visualization. The aim is to present complex data usefully and intuitively, enabling analysts to spot patterns and gain insights. It's a balance between maintaining utility and practical implementation when transforming k-dimensional data into two-dimensional forms.\n",
    "\n"
   ]
  },
  {
   "cell_type": "markdown",
   "metadata": {},
   "source": [
    "# Arxiv Abstracts"
   ]
  },
  {
   "cell_type": "code",
   "execution_count": 1,
   "metadata": {},
   "outputs": [],
   "source": [
    "from imbed.mdat.arxiv import *"
   ]
  },
  {
   "cell_type": "markdown",
   "metadata": {},
   "source": [
    "## Raw store"
   ]
  },
  {
   "cell_type": "code",
   "execution_count": 4,
   "metadata": {},
   "outputs": [
    {
     "data": {
      "text/plain": [
       "['https://drive.google.com/file/d/1Ul5mPePtoPKHZkH5Rm6dWKAO11dG98GN/view?usp=share_link',\n",
       " 'https://drive.google.com/file/d/1g3K-wlixFxklTSUQNZKpEgN4WNTFTPIZ/view?usp=share_link']"
      ]
     },
     "execution_count": 4,
     "metadata": {},
     "output_type": "execute_result"
    }
   ],
   "source": [
    "from imbed.util import Graze, GrazeReturningFilepaths\n",
    "\n",
    "g = GrazeReturningFilepaths()\n",
    "list(g)"
   ]
  },
  {
   "cell_type": "code",
   "execution_count": 6,
   "metadata": {},
   "outputs": [
    {
     "data": {
      "text/plain": [
       "['titles', 'abstracts']"
      ]
     },
     "execution_count": 6,
     "metadata": {},
     "output_type": "execute_result"
    }
   ],
   "source": [
    "from imbed.mdat.arxiv import raw_sources\n",
    "\n",
    "list(raw_sources)"
   ]
  },
  {
   "cell_type": "markdown",
   "metadata": {},
   "source": []
  },
  {
   "cell_type": "code",
   "execution_count": 7,
   "metadata": {},
   "outputs": [
    {
     "data": {
      "text/plain": [
       "['titles_7.parquet',\n",
       " 'titles_23.parquet',\n",
       " 'titles_15.parquet',\n",
       " 'verifyResults.py',\n",
       " 'titles_14.parquet',\n",
       " 'titles_22.parquet',\n",
       " 'titles_6.parquet',\n",
       " 'titles_16.parquet',\n",
       " 'titles_20.parquet',\n",
       " 'titles_4.parquet',\n",
       " 'titles_5.parquet',\n",
       " 'titles_21.parquet',\n",
       " 'params.txt',\n",
       " 'titles_17.parquet',\n",
       " 'exampleEmbed.py',\n",
       " 'titles_12.parquet',\n",
       " 'README.md',\n",
       " 'titles_9.parquet',\n",
       " 'titles_1.parquet',\n",
       " 'titles_13.parquet',\n",
       " 'titles_8.parquet',\n",
       " 'titles_18.parquet',\n",
       " 'titles_3.parquet',\n",
       " 'titles_11.parquet',\n",
       " 'titles_10.parquet',\n",
       " 'titles_19.parquet',\n",
       " 'titles_2.parquet']"
      ]
     },
     "execution_count": 7,
     "metadata": {},
     "output_type": "execute_result"
    }
   ],
   "source": [
    "raw = raw_sources['titles']\n",
    "list(raw)"
   ]
  },
  {
   "cell_type": "code",
   "execution_count": 12,
   "metadata": {},
   "outputs": [
    {
     "name": "stdout",
     "output_type": "stream",
     "text": [
      "from InstructorEmbedding import INSTRUCTOR\n",
      "\n",
      "model = INSTRUCTOR('hkunlp/instructor-xl')\n",
      "sentence = \"3D ActionSLAM: wearable person tracking in multi-floor environments\"\n",
      "instruction = \"Represent the Research Paper title for retrieval; Input:\"\n",
      "embeddings = model.encode([[instruction,sentence]])\n",
      "print(embeddings)\n"
     ]
    }
   ],
   "source": [
    "print(raw['exampleEmbed.py'].decode())"
   ]
  },
  {
   "cell_type": "code",
   "execution_count": 16,
   "metadata": {},
   "outputs": [
    {
     "name": "stdout",
     "output_type": "stream",
     "text": [
      "load INSTRUCTOR_Transformer\n",
      "max_seq_length  512\n"
     ]
    }
   ],
   "source": [
    "from InstructorEmbedding import INSTRUCTOR\n",
    "\n",
    "model = INSTRUCTOR('hkunlp/instructor-xl')\n"
   ]
  },
  {
   "cell_type": "code",
   "execution_count": 17,
   "metadata": {},
   "outputs": [],
   "source": [
    "sentence = \"3D ActionSLAM: wearable person tracking in multi-floor environments\"\n",
    "instruction = \"Represent the Research Paper title for retrieval; Input:\"\n",
    "embeddings = model.encode([[instruction, sentence]])\n"
   ]
  },
  {
   "cell_type": "code",
   "execution_count": 82,
   "metadata": {},
   "outputs": [
    {
     "name": "stdout",
     "output_type": "stream",
     "text": [
      "prompt: Represent the Research Paper abstract for retrieval; Input:\n",
      "type: abstract\n",
      "time string: 20230518-180240\n",
      "model: InstructorXL\n",
      "version: 2.0\n"
     ]
    }
   ],
   "source": [
    "print(raw['params.txt'].decode())"
   ]
  },
  {
   "cell_type": "code",
   "execution_count": 83,
   "metadata": {},
   "outputs": [
    {
     "name": "stdout",
     "output_type": "stream",
     "text": [
      "from InstructorEmbedding import INSTRUCTOR\n",
      "\n",
      "model = INSTRUCTOR('hkunlp/instructor-xl')\n",
      "sentence = \"The dominant sequence transduction models are based on complex recurrent or convolutional neural networks in an encoder-decoder configuration. The best performing models also connect the encoder and decoder through an attention mechanism. We propose a new simple network architecture, the Transformer, based solely on attention mechanisms, dispensing with recurrence and convolutions entirely. Experiments on two machine translation tasks show these models to be superior in quality while being more parallelizable and requiring significantly less time to train.\"\n",
      "instruction = \"Represent the Research Paper abstract for retrieval; Input:\"\n",
      "embeddings = model.encode([[instruction,sentence]])\n",
      "print(embeddings)\n"
     ]
    }
   ],
   "source": [
    "print(raw['exampleEmbed.py'].decode())"
   ]
  },
  {
   "cell_type": "markdown",
   "metadata": {},
   "source": [
    "## The imbedding data store"
   ]
  },
  {
   "cell_type": "markdown",
   "metadata": {},
   "source": [
    "And now, we'll transform the raw store to get a convenient interface to the actual data of interest."
   ]
  },
  {
   "cell_type": "code",
   "execution_count": 14,
   "metadata": {},
   "outputs": [
    {
     "name": "stdout",
     "output_type": "stream",
     "text": [
      "[1, 2, 3, 4, 5, 6, 7, 8, 9, 10, 11, 12, 13, 14, 15, 16, 17, 18, 19, 20, 21, 22, 23]\n"
     ]
    }
   ],
   "source": [
    "from imbed.mdat.arxiv import sources  # raw store + wrapper. See parquet_codec code.\n",
    "\n",
    "titles_tables = sources['titles']\n",
    "abstract_tables = sources['abstracts']\n",
    "print(list(titles_tables))"
   ]
  },
  {
   "cell_type": "code",
   "execution_count": 15,
   "metadata": {},
   "outputs": [
    {
     "data": {
      "text/html": [
       "<div>\n",
       "<style scoped>\n",
       "    .dataframe tbody tr th:only-of-type {\n",
       "        vertical-align: middle;\n",
       "    }\n",
       "\n",
       "    .dataframe tbody tr th {\n",
       "        vertical-align: top;\n",
       "    }\n",
       "\n",
       "    .dataframe thead th {\n",
       "        text-align: right;\n",
       "    }\n",
       "</style>\n",
       "<table border=\"1\" class=\"dataframe\">\n",
       "  <thead>\n",
       "    <tr style=\"text-align: right;\">\n",
       "      <th></th>\n",
       "      <th>title</th>\n",
       "      <th>embeddings</th>\n",
       "      <th>doi</th>\n",
       "    </tr>\n",
       "  </thead>\n",
       "  <tbody>\n",
       "    <tr>\n",
       "      <th>0</th>\n",
       "      <td>Calculation of prompt diphoton production cros...</td>\n",
       "      <td>[-0.050620172, 0.041436385, 0.05363288, -0.029...</td>\n",
       "      <td>0704.0001</td>\n",
       "    </tr>\n",
       "    <tr>\n",
       "      <th>1</th>\n",
       "      <td>Sparsity-certifying Graph Decompositions</td>\n",
       "      <td>[0.014515653, 0.023809524, -0.028145121, -0.04...</td>\n",
       "      <td>0704.0002</td>\n",
       "    </tr>\n",
       "    <tr>\n",
       "      <th>2</th>\n",
       "      <td>The evolution of the Earth-Moon system based o...</td>\n",
       "      <td>[-4.766115e-05, 0.017415706, 0.04146007, -0.03...</td>\n",
       "      <td>0704.0003</td>\n",
       "    </tr>\n",
       "    <tr>\n",
       "      <th>3</th>\n",
       "      <td>A determinant of Stirling cycle numbers counts...</td>\n",
       "      <td>[0.027208889, 0.046175897, 0.0010913888, -0.01...</td>\n",
       "      <td>0704.0004</td>\n",
       "    </tr>\n",
       "    <tr>\n",
       "      <th>4</th>\n",
       "      <td>From dyadic $\\Lambda_{\\alpha}$ to $\\Lambda_{\\a...</td>\n",
       "      <td>[0.0113909235, 0.0042667952, -0.0008565594, -0...</td>\n",
       "      <td>0704.0005</td>\n",
       "    </tr>\n",
       "    <tr>\n",
       "      <th>...</th>\n",
       "      <td>...</td>\n",
       "      <td>...</td>\n",
       "      <td>...</td>\n",
       "    </tr>\n",
       "    <tr>\n",
       "      <th>99995</th>\n",
       "      <td>Multiple Time Dimensions</td>\n",
       "      <td>[0.02682626, -0.0015173098, -0.0019915192, -0....</td>\n",
       "      <td>0812.3869</td>\n",
       "    </tr>\n",
       "    <tr>\n",
       "      <th>99996</th>\n",
       "      <td>Depth Zero Representations of Nonlinear Covers...</td>\n",
       "      <td>[-0.02740943, 0.011689809, -0.0105154915, -0.0...</td>\n",
       "      <td>0812.3870</td>\n",
       "    </tr>\n",
       "    <tr>\n",
       "      <th>99997</th>\n",
       "      <td>Decting Errors in Reversible Circuits With Inv...</td>\n",
       "      <td>[0.0072460608, 0.0028085636, -0.015064359, -0....</td>\n",
       "      <td>0812.3871</td>\n",
       "    </tr>\n",
       "    <tr>\n",
       "      <th>99998</th>\n",
       "      <td>Unveiling the birth and evolution of the HII r...</td>\n",
       "      <td>[0.009408689, -0.0047120117, 0.0021392817, -0....</td>\n",
       "      <td>0812.3872</td>\n",
       "    </tr>\n",
       "    <tr>\n",
       "      <th>99999</th>\n",
       "      <td>The K-Receiver Broadcast Channel with Confiden...</td>\n",
       "      <td>[-0.0026305509, -0.006502139, 0.013400236, -0....</td>\n",
       "      <td>0812.3873</td>\n",
       "    </tr>\n",
       "  </tbody>\n",
       "</table>\n",
       "<p>100000 rows × 3 columns</p>\n",
       "</div>"
      ],
      "text/plain": [
       "                                                   title  \\\n",
       "0      Calculation of prompt diphoton production cros...   \n",
       "1               Sparsity-certifying Graph Decompositions   \n",
       "2      The evolution of the Earth-Moon system based o...   \n",
       "3      A determinant of Stirling cycle numbers counts...   \n",
       "4      From dyadic $\\Lambda_{\\alpha}$ to $\\Lambda_{\\a...   \n",
       "...                                                  ...   \n",
       "99995                           Multiple Time Dimensions   \n",
       "99996  Depth Zero Representations of Nonlinear Covers...   \n",
       "99997  Decting Errors in Reversible Circuits With Inv...   \n",
       "99998  Unveiling the birth and evolution of the HII r...   \n",
       "99999  The K-Receiver Broadcast Channel with Confiden...   \n",
       "\n",
       "                                              embeddings        doi  \n",
       "0      [-0.050620172, 0.041436385, 0.05363288, -0.029...  0704.0001  \n",
       "1      [0.014515653, 0.023809524, -0.028145121, -0.04...  0704.0002  \n",
       "2      [-4.766115e-05, 0.017415706, 0.04146007, -0.03...  0704.0003  \n",
       "3      [0.027208889, 0.046175897, 0.0010913888, -0.01...  0704.0004  \n",
       "4      [0.0113909235, 0.0042667952, -0.0008565594, -0...  0704.0005  \n",
       "...                                                  ...        ...  \n",
       "99995  [0.02682626, -0.0015173098, -0.0019915192, -0....  0812.3869  \n",
       "99996  [-0.02740943, 0.011689809, -0.0105154915, -0.0...  0812.3870  \n",
       "99997  [0.0072460608, 0.0028085636, -0.015064359, -0....  0812.3871  \n",
       "99998  [0.009408689, -0.0047120117, 0.0021392817, -0....  0812.3872  \n",
       "99999  [-0.0026305509, -0.006502139, 0.013400236, -0....  0812.3873  \n",
       "\n",
       "[100000 rows x 3 columns]"
      ]
     },
     "execution_count": 15,
     "metadata": {},
     "output_type": "execute_result"
    }
   ],
   "source": [
    "titles_df = titles_tables[1]\n",
    "titles_df"
   ]
  },
  {
   "cell_type": "code",
   "execution_count": 16,
   "metadata": {},
   "outputs": [
    {
     "data": {
      "text/html": [
       "<div>\n",
       "<style scoped>\n",
       "    .dataframe tbody tr th:only-of-type {\n",
       "        vertical-align: middle;\n",
       "    }\n",
       "\n",
       "    .dataframe tbody tr th {\n",
       "        vertical-align: top;\n",
       "    }\n",
       "\n",
       "    .dataframe thead th {\n",
       "        text-align: right;\n",
       "    }\n",
       "</style>\n",
       "<table border=\"1\" class=\"dataframe\">\n",
       "  <thead>\n",
       "    <tr style=\"text-align: right;\">\n",
       "      <th></th>\n",
       "      <th>abstract</th>\n",
       "      <th>embeddings</th>\n",
       "      <th>doi</th>\n",
       "    </tr>\n",
       "  </thead>\n",
       "  <tbody>\n",
       "    <tr>\n",
       "      <th>0</th>\n",
       "      <td>A fully differential calculation in perturba...</td>\n",
       "      <td>[-0.035151865, 0.022851437, 0.025942933, -0.02...</td>\n",
       "      <td>0704.0001</td>\n",
       "    </tr>\n",
       "    <tr>\n",
       "      <th>1</th>\n",
       "      <td>We describe a new algorithm, the $(k,\\ell)$-...</td>\n",
       "      <td>[0.035485767, -0.0015772493, -0.0016615744, -0...</td>\n",
       "      <td>0704.0002</td>\n",
       "    </tr>\n",
       "    <tr>\n",
       "      <th>2</th>\n",
       "      <td>The evolution of Earth-Moon system is descri...</td>\n",
       "      <td>[-0.014510429, 0.010210799, 0.049661566, -0.01...</td>\n",
       "      <td>0704.0003</td>\n",
       "    </tr>\n",
       "    <tr>\n",
       "      <th>3</th>\n",
       "      <td>We show that a determinant of Stirling cycle...</td>\n",
       "      <td>[0.029191103, 0.047992915, -0.0061754594, -0.0...</td>\n",
       "      <td>0704.0004</td>\n",
       "    </tr>\n",
       "    <tr>\n",
       "      <th>4</th>\n",
       "      <td>In this paper we show how to compute the $\\L...</td>\n",
       "      <td>[-0.015174898, 0.01603887, 0.04062805, -0.0246...</td>\n",
       "      <td>0704.0005</td>\n",
       "    </tr>\n",
       "    <tr>\n",
       "      <th>...</th>\n",
       "      <td>...</td>\n",
       "      <td>...</td>\n",
       "      <td>...</td>\n",
       "    </tr>\n",
       "    <tr>\n",
       "      <th>99995</th>\n",
       "      <td>The possibility of physics in multiple time ...</td>\n",
       "      <td>[0.016121766, 0.011126887, 0.018650021, -0.044...</td>\n",
       "      <td>0812.3869</td>\n",
       "    </tr>\n",
       "    <tr>\n",
       "      <th>99996</th>\n",
       "      <td>We generalize the methods of Moy-Prasad, in ...</td>\n",
       "      <td>[-7.164341e-05, -0.007114291, -0.008979887, -0...</td>\n",
       "      <td>0812.3870</td>\n",
       "    </tr>\n",
       "    <tr>\n",
       "      <th>99997</th>\n",
       "      <td>Reversible logic is experience renewed inter...</td>\n",
       "      <td>[0.03194286, -0.00771745, 0.015977046, -0.0474...</td>\n",
       "      <td>0812.3871</td>\n",
       "    </tr>\n",
       "    <tr>\n",
       "      <th>99998</th>\n",
       "      <td>Based on a multiwavelength study, the ISM ar...</td>\n",
       "      <td>[-0.012340169, -0.021712925, 0.00806009, -0.00...</td>\n",
       "      <td>0812.3872</td>\n",
       "    </tr>\n",
       "    <tr>\n",
       "      <th>99999</th>\n",
       "      <td>The secrecy capacity region for the K-receiv...</td>\n",
       "      <td>[0.0012416588, 0.0006933478, -0.0057888636, -0...</td>\n",
       "      <td>0812.3873</td>\n",
       "    </tr>\n",
       "  </tbody>\n",
       "</table>\n",
       "<p>100000 rows × 3 columns</p>\n",
       "</div>"
      ],
      "text/plain": [
       "                                                abstract  \\\n",
       "0        A fully differential calculation in perturba...   \n",
       "1        We describe a new algorithm, the $(k,\\ell)$-...   \n",
       "2        The evolution of Earth-Moon system is descri...   \n",
       "3        We show that a determinant of Stirling cycle...   \n",
       "4        In this paper we show how to compute the $\\L...   \n",
       "...                                                  ...   \n",
       "99995    The possibility of physics in multiple time ...   \n",
       "99996    We generalize the methods of Moy-Prasad, in ...   \n",
       "99997    Reversible logic is experience renewed inter...   \n",
       "99998    Based on a multiwavelength study, the ISM ar...   \n",
       "99999    The secrecy capacity region for the K-receiv...   \n",
       "\n",
       "                                              embeddings        doi  \n",
       "0      [-0.035151865, 0.022851437, 0.025942933, -0.02...  0704.0001  \n",
       "1      [0.035485767, -0.0015772493, -0.0016615744, -0...  0704.0002  \n",
       "2      [-0.014510429, 0.010210799, 0.049661566, -0.01...  0704.0003  \n",
       "3      [0.029191103, 0.047992915, -0.0061754594, -0.0...  0704.0004  \n",
       "4      [-0.015174898, 0.01603887, 0.04062805, -0.0246...  0704.0005  \n",
       "...                                                  ...        ...  \n",
       "99995  [0.016121766, 0.011126887, 0.018650021, -0.044...  0812.3869  \n",
       "99996  [-7.164341e-05, -0.007114291, -0.008979887, -0...  0812.3870  \n",
       "99997  [0.03194286, -0.00771745, 0.015977046, -0.0474...  0812.3871  \n",
       "99998  [-0.012340169, -0.021712925, 0.00806009, -0.00...  0812.3872  \n",
       "99999  [0.0012416588, 0.0006933478, -0.0057888636, -0...  0812.3873  \n",
       "\n",
       "[100000 rows x 3 columns]"
      ]
     },
     "execution_count": 16,
     "metadata": {},
     "output_type": "execute_result"
    }
   ],
   "source": [
    "abstract_df = abstract_tables[1]\n",
    "abstract_df"
   ]
  },
  {
   "cell_type": "code",
   "execution_count": 12,
   "metadata": {},
   "outputs": [
    {
     "data": {
      "text/plain": [
       "array(['0704.0001', '0704.0002', '0704.0003', ..., '0812.3871',\n",
       "       '0812.3872', '0812.3873'], dtype=object)"
      ]
     },
     "execution_count": 12,
     "metadata": {},
     "output_type": "execute_result"
    }
   ],
   "source": [
    "abstract_df['doi'].values"
   ]
  },
  {
   "cell_type": "markdown",
   "metadata": {},
   "source": [
    "## Merged \"column oriented\" view of tables"
   ]
  },
  {
   "cell_type": "markdown",
   "metadata": {},
   "source": [
    "(See [Column-oriented DBMS](https://en.wikipedia.org/wiki/Column-oriented_DBMS).)"
   ]
  },
  {
   "cell_type": "code",
   "execution_count": 1,
   "metadata": {},
   "outputs": [
    {
     "data": {
      "text/plain": [
       "['title', 'embeddings', 'doi']"
      ]
     },
     "execution_count": 1,
     "metadata": {},
     "output_type": "execute_result"
    }
   ],
   "source": [
    "from tabled import ColumnOrientedMapping\n",
    "from imbed.mdat.arxiv import sources \n",
    "\n",
    "titles_tables = sources['titles']\n",
    "tables_merge = ColumnOrientedMapping(titles_tables)\n",
    "list(tables_merge)"
   ]
  },
  {
   "cell_type": "code",
   "execution_count": 3,
   "metadata": {},
   "outputs": [
    {
     "data": {
      "text/plain": [
       "(2254198, 768)"
      ]
     },
     "execution_count": 3,
     "metadata": {},
     "output_type": "execute_result"
    }
   ],
   "source": [
    "import numpy as np\n",
    "\n",
    "embeddings_array = np.vstack(tables_merge['embeddings'])\n",
    "embeddings_array.shape"
   ]
  },
  {
   "cell_type": "code",
   "execution_count": 4,
   "metadata": {},
   "outputs": [
    {
     "data": {
      "text/plain": [
       "2254198"
      ]
     },
     "execution_count": 4,
     "metadata": {},
     "output_type": "execute_result"
    }
   ],
   "source": [
    "dois = tables_merge['doi']\n",
    "assert len(set(dois)) == len(dois), \"dois not unique!\"\n",
    "len(dois)"
   ]
  },
  {
   "cell_type": "code",
   "execution_count": 5,
   "metadata": {},
   "outputs": [],
   "source": [
    "import umap\n",
    "reducer = umap.UMAP()"
   ]
  },
  {
   "cell_type": "code",
   "execution_count": 6,
   "metadata": {},
   "outputs": [
    {
     "data": {
      "text/plain": [
       "(2254198, 2)"
      ]
     },
     "execution_count": 6,
     "metadata": {},
     "output_type": "execute_result"
    }
   ],
   "source": [
    "planar_embedding = reducer.fit_transform(embeddings_array)\n",
    "planar_embedding.shape"
   ]
  },
  {
   "cell_type": "code",
   "execution_count": 9,
   "metadata": {},
   "outputs": [],
   "source": [
    "w = planar_embedding.tolist()"
   ]
  },
  {
   "cell_type": "code",
   "execution_count": 15,
   "metadata": {},
   "outputs": [],
   "source": [
    "import pickle, json, os\n",
    "from dol import PickleFiles, JsonFiles  # TODO: make PickleFiles work\n",
    "from py2store import PickleStore\n",
    "\n",
    "p = PickleStore(os.path.expanduser('~/tmp/'))\n",
    "p['arxiv-titles-2d-embedding.pkl'] = planar_embedding"
   ]
  },
  {
   "cell_type": "code",
   "execution_count": 19,
   "metadata": {},
   "outputs": [],
   "source": [
    "from py2store import LocalJsonStore\n",
    "ss = LocalJsonStore(os.path.expanduser('~/tmp/'))\n",
    "t = [{'doi': doi, 'x': float(w[0]), 'y': float(w[1])} for doi, w in zip(dois, planar_embedding)]\n",
    "ss['arxiv-titles-2d-embedding.json'] = t"
   ]
  },
  {
   "cell_type": "code",
   "execution_count": 20,
   "metadata": {},
   "outputs": [],
   "source": [
    "titles = tables_merge['title']"
   ]
  },
  {
   "cell_type": "code",
   "execution_count": 21,
   "metadata": {},
   "outputs": [],
   "source": [
    "t = {doi: title for doi, title in zip(dois, titles)}\n",
    "ss['arxiv-doi-and-titles.json'] = t"
   ]
  },
  {
   "cell_type": "code",
   "execution_count": 13,
   "metadata": {},
   "outputs": [],
   "source": [
    "from imbed.mdat.arxiv import get_dois\n",
    "t = list(get_dois())\n"
   ]
  },
  {
   "cell_type": "code",
   "execution_count": 16,
   "metadata": {},
   "outputs": [
    {
     "data": {
      "text/plain": [
       "['abstract', 'embeddings', 'doi']"
      ]
     },
     "execution_count": 16,
     "metadata": {},
     "output_type": "execute_result"
    }
   ],
   "source": [
    "list(a)"
   ]
  },
  {
   "cell_type": "code",
   "execution_count": 48,
   "metadata": {},
   "outputs": [],
   "source": [
    "from imbed.mdat.arxiv import *\n",
    "from tabled import ColumnOrientedMapping\n",
    "\n",
    "merged_tables = ColumnOrientedMapping(tables)\n",
    "dois = merged_tables['doi']\n",
    "assert len(set(dois)) == len(dois), \"dois not unique!\"\n"
   ]
  },
  {
   "cell_type": "code",
   "execution_count": 41,
   "metadata": {},
   "outputs": [
    {
     "data": {
      "text/html": [
       "<div>\n",
       "<style scoped>\n",
       "    .dataframe tbody tr th:only-of-type {\n",
       "        vertical-align: middle;\n",
       "    }\n",
       "\n",
       "    .dataframe tbody tr th {\n",
       "        vertical-align: top;\n",
       "    }\n",
       "\n",
       "    .dataframe thead th {\n",
       "        text-align: right;\n",
       "    }\n",
       "</style>\n",
       "<table border=\"1\" class=\"dataframe\">\n",
       "  <thead>\n",
       "    <tr style=\"text-align: right;\">\n",
       "      <th></th>\n",
       "      <th>abstract</th>\n",
       "      <th>embeddings</th>\n",
       "      <th>doi</th>\n",
       "    </tr>\n",
       "  </thead>\n",
       "  <tbody>\n",
       "    <tr>\n",
       "      <th>0</th>\n",
       "      <td>A fully differential calculation in perturba...</td>\n",
       "      <td>[-0.035151865, 0.022851437, 0.025942933, -0.02...</td>\n",
       "      <td>0704.0001</td>\n",
       "    </tr>\n",
       "    <tr>\n",
       "      <th>1</th>\n",
       "      <td>We describe a new algorithm, the $(k,\\ell)$-...</td>\n",
       "      <td>[0.035485767, -0.0015772493, -0.0016615744, -0...</td>\n",
       "      <td>0704.0002</td>\n",
       "    </tr>\n",
       "    <tr>\n",
       "      <th>2</th>\n",
       "      <td>The evolution of Earth-Moon system is descri...</td>\n",
       "      <td>[-0.014510429, 0.010210799, 0.049661566, -0.01...</td>\n",
       "      <td>0704.0003</td>\n",
       "    </tr>\n",
       "    <tr>\n",
       "      <th>3</th>\n",
       "      <td>We show that a determinant of Stirling cycle...</td>\n",
       "      <td>[0.029191103, 0.047992915, -0.0061754594, -0.0...</td>\n",
       "      <td>0704.0004</td>\n",
       "    </tr>\n",
       "    <tr>\n",
       "      <th>4</th>\n",
       "      <td>In this paper we show how to compute the $\\L...</td>\n",
       "      <td>[-0.015174898, 0.01603887, 0.04062805, -0.0246...</td>\n",
       "      <td>0704.0005</td>\n",
       "    </tr>\n",
       "    <tr>\n",
       "      <th>...</th>\n",
       "      <td>...</td>\n",
       "      <td>...</td>\n",
       "      <td>...</td>\n",
       "    </tr>\n",
       "    <tr>\n",
       "      <th>99995</th>\n",
       "      <td>The possibility of physics in multiple time ...</td>\n",
       "      <td>[0.016121766, 0.011126887, 0.018650021, -0.044...</td>\n",
       "      <td>0812.3869</td>\n",
       "    </tr>\n",
       "    <tr>\n",
       "      <th>99996</th>\n",
       "      <td>We generalize the methods of Moy-Prasad, in ...</td>\n",
       "      <td>[-7.164341e-05, -0.007114291, -0.008979887, -0...</td>\n",
       "      <td>0812.3870</td>\n",
       "    </tr>\n",
       "    <tr>\n",
       "      <th>99997</th>\n",
       "      <td>Reversible logic is experience renewed inter...</td>\n",
       "      <td>[0.03194286, -0.00771745, 0.015977046, -0.0474...</td>\n",
       "      <td>0812.3871</td>\n",
       "    </tr>\n",
       "    <tr>\n",
       "      <th>99998</th>\n",
       "      <td>Based on a multiwavelength study, the ISM ar...</td>\n",
       "      <td>[-0.012340169, -0.021712925, 0.00806009, -0.00...</td>\n",
       "      <td>0812.3872</td>\n",
       "    </tr>\n",
       "    <tr>\n",
       "      <th>99999</th>\n",
       "      <td>The secrecy capacity region for the K-receiv...</td>\n",
       "      <td>[0.0012416588, 0.0006933478, -0.0057888636, -0...</td>\n",
       "      <td>0812.3873</td>\n",
       "    </tr>\n",
       "  </tbody>\n",
       "</table>\n",
       "<p>100000 rows × 3 columns</p>\n",
       "</div>"
      ],
      "text/plain": [
       "                                                abstract  \\\n",
       "0        A fully differential calculation in perturba...   \n",
       "1        We describe a new algorithm, the $(k,\\ell)$-...   \n",
       "2        The evolution of Earth-Moon system is descri...   \n",
       "3        We show that a determinant of Stirling cycle...   \n",
       "4        In this paper we show how to compute the $\\L...   \n",
       "...                                                  ...   \n",
       "99995    The possibility of physics in multiple time ...   \n",
       "99996    We generalize the methods of Moy-Prasad, in ...   \n",
       "99997    Reversible logic is experience renewed inter...   \n",
       "99998    Based on a multiwavelength study, the ISM ar...   \n",
       "99999    The secrecy capacity region for the K-receiv...   \n",
       "\n",
       "                                              embeddings        doi  \n",
       "0      [-0.035151865, 0.022851437, 0.025942933, -0.02...  0704.0001  \n",
       "1      [0.035485767, -0.0015772493, -0.0016615744, -0...  0704.0002  \n",
       "2      [-0.014510429, 0.010210799, 0.049661566, -0.01...  0704.0003  \n",
       "3      [0.029191103, 0.047992915, -0.0061754594, -0.0...  0704.0004  \n",
       "4      [-0.015174898, 0.01603887, 0.04062805, -0.0246...  0704.0005  \n",
       "...                                                  ...        ...  \n",
       "99995  [0.016121766, 0.011126887, 0.018650021, -0.044...  0812.3869  \n",
       "99996  [-7.164341e-05, -0.007114291, -0.008979887, -0...  0812.3870  \n",
       "99997  [0.03194286, -0.00771745, 0.015977046, -0.0474...  0812.3871  \n",
       "99998  [-0.012340169, -0.021712925, 0.00806009, -0.00...  0812.3872  \n",
       "99999  [0.0012416588, 0.0006933478, -0.0057888636, -0...  0812.3873  \n",
       "\n",
       "[100000 rows x 3 columns]"
      ]
     },
     "execution_count": 41,
     "metadata": {},
     "output_type": "execute_result"
    }
   ],
   "source": [
    "table = next(iter(merged_tables.tables.values()))\n",
    "table"
   ]
  },
  {
   "cell_type": "code",
   "execution_count": 45,
   "metadata": {},
   "outputs": [
    {
     "data": {
      "text/html": [
       "<div>\n",
       "<style scoped>\n",
       "    .dataframe tbody tr th:only-of-type {\n",
       "        vertical-align: middle;\n",
       "    }\n",
       "\n",
       "    .dataframe tbody tr th {\n",
       "        vertical-align: top;\n",
       "    }\n",
       "\n",
       "    .dataframe thead th {\n",
       "        text-align: right;\n",
       "    }\n",
       "</style>\n",
       "<table border=\"1\" class=\"dataframe\">\n",
       "  <thead>\n",
       "    <tr style=\"text-align: right;\">\n",
       "      <th></th>\n",
       "      <th>abstract</th>\n",
       "      <th>embeddings</th>\n",
       "      <th>doi</th>\n",
       "    </tr>\n",
       "  </thead>\n",
       "  <tbody>\n",
       "    <tr>\n",
       "      <th>0</th>\n",
       "      <td>A fully differential calculation in perturba...</td>\n",
       "      <td>[-0.035151865, 0.022851437, 0.025942933, -0.02...</td>\n",
       "      <td>0704.0001</td>\n",
       "    </tr>\n",
       "    <tr>\n",
       "      <th>1</th>\n",
       "      <td>We describe a new algorithm, the $(k,\\ell)$-...</td>\n",
       "      <td>[0.035485767, -0.0015772493, -0.0016615744, -0...</td>\n",
       "      <td>0704.0002</td>\n",
       "    </tr>\n",
       "    <tr>\n",
       "      <th>2</th>\n",
       "      <td>The evolution of Earth-Moon system is descri...</td>\n",
       "      <td>[-0.014510429, 0.010210799, 0.049661566, -0.01...</td>\n",
       "      <td>0704.0003</td>\n",
       "    </tr>\n",
       "    <tr>\n",
       "      <th>3</th>\n",
       "      <td>We show that a determinant of Stirling cycle...</td>\n",
       "      <td>[0.029191103, 0.047992915, -0.0061754594, -0.0...</td>\n",
       "      <td>0704.0004</td>\n",
       "    </tr>\n",
       "    <tr>\n",
       "      <th>4</th>\n",
       "      <td>In this paper we show how to compute the $\\L...</td>\n",
       "      <td>[-0.015174898, 0.01603887, 0.04062805, -0.0246...</td>\n",
       "      <td>0704.0005</td>\n",
       "    </tr>\n",
       "    <tr>\n",
       "      <th>...</th>\n",
       "      <td>...</td>\n",
       "      <td>...</td>\n",
       "      <td>...</td>\n",
       "    </tr>\n",
       "    <tr>\n",
       "      <th>99995</th>\n",
       "      <td>The possibility of physics in multiple time ...</td>\n",
       "      <td>[0.016121766, 0.011126887, 0.018650021, -0.044...</td>\n",
       "      <td>0812.3869</td>\n",
       "    </tr>\n",
       "    <tr>\n",
       "      <th>99996</th>\n",
       "      <td>We generalize the methods of Moy-Prasad, in ...</td>\n",
       "      <td>[-7.164341e-05, -0.007114291, -0.008979887, -0...</td>\n",
       "      <td>0812.3870</td>\n",
       "    </tr>\n",
       "    <tr>\n",
       "      <th>99997</th>\n",
       "      <td>Reversible logic is experience renewed inter...</td>\n",
       "      <td>[0.03194286, -0.00771745, 0.015977046, -0.0474...</td>\n",
       "      <td>0812.3871</td>\n",
       "    </tr>\n",
       "    <tr>\n",
       "      <th>99998</th>\n",
       "      <td>Based on a multiwavelength study, the ISM ar...</td>\n",
       "      <td>[-0.012340169, -0.021712925, 0.00806009, -0.00...</td>\n",
       "      <td>0812.3872</td>\n",
       "    </tr>\n",
       "    <tr>\n",
       "      <th>99999</th>\n",
       "      <td>The secrecy capacity region for the K-receiv...</td>\n",
       "      <td>[0.0012416588, 0.0006933478, -0.0057888636, -0...</td>\n",
       "      <td>0812.3873</td>\n",
       "    </tr>\n",
       "  </tbody>\n",
       "</table>\n",
       "<p>100000 rows × 3 columns</p>\n",
       "</div>"
      ],
      "text/plain": [
       "                                                abstract  \\\n",
       "0        A fully differential calculation in perturba...   \n",
       "1        We describe a new algorithm, the $(k,\\ell)$-...   \n",
       "2        The evolution of Earth-Moon system is descri...   \n",
       "3        We show that a determinant of Stirling cycle...   \n",
       "4        In this paper we show how to compute the $\\L...   \n",
       "...                                                  ...   \n",
       "99995    The possibility of physics in multiple time ...   \n",
       "99996    We generalize the methods of Moy-Prasad, in ...   \n",
       "99997    Reversible logic is experience renewed inter...   \n",
       "99998    Based on a multiwavelength study, the ISM ar...   \n",
       "99999    The secrecy capacity region for the K-receiv...   \n",
       "\n",
       "                                              embeddings        doi  \n",
       "0      [-0.035151865, 0.022851437, 0.025942933, -0.02...  0704.0001  \n",
       "1      [0.035485767, -0.0015772493, -0.0016615744, -0...  0704.0002  \n",
       "2      [-0.014510429, 0.010210799, 0.049661566, -0.01...  0704.0003  \n",
       "3      [0.029191103, 0.047992915, -0.0061754594, -0.0...  0704.0004  \n",
       "4      [-0.015174898, 0.01603887, 0.04062805, -0.0246...  0704.0005  \n",
       "...                                                  ...        ...  \n",
       "99995  [0.016121766, 0.011126887, 0.018650021, -0.044...  0812.3869  \n",
       "99996  [-7.164341e-05, -0.007114291, -0.008979887, -0...  0812.3870  \n",
       "99997  [0.03194286, -0.00771745, 0.015977046, -0.0474...  0812.3871  \n",
       "99998  [-0.012340169, -0.021712925, 0.00806009, -0.00...  0812.3872  \n",
       "99999  [0.0012416588, 0.0006933478, -0.0057888636, -0...  0812.3873  \n",
       "\n",
       "[100000 rows x 3 columns]"
      ]
     },
     "execution_count": 45,
     "metadata": {},
     "output_type": "execute_result"
    }
   ],
   "source": [
    "table[table.columns.values.tolist()]\n"
   ]
  },
  {
   "cell_type": "code",
   "execution_count": 18,
   "metadata": {},
   "outputs": [
    {
     "ename": "SyntaxError",
     "evalue": "invalid syntax (1157999395.py, line 5)",
     "output_type": "error",
     "traceback": [
      "\u001b[0;36m  Cell \u001b[0;32mIn[18], line 5\u001b[0;36m\u001b[0m\n\u001b[0;31m    what are the other url templates\u001b[0m\n\u001b[0m         ^\u001b[0m\n\u001b[0;31mSyntaxError\u001b[0m\u001b[0;31m:\u001b[0m invalid syntax\n"
     ]
    }
   ],
   "source": [
    "\n",
    "def get_arxiv_pdf_link(doi: str) -> str:\n",
    "    base_url = \"https://arxiv.org/pdf/{doi}\"\n",
    "    return base_url + doi\n",
    "\n",
    "\n",
    "# Example usage\n",
    "doi = '0704.0001'\n",
    "pdf_link = get_arxiv_pdf_link(doi)\n",
    "print(pdf_link)  # Outputs: https://arxiv.org/pdf/0704.0001\n"
   ]
  },
  {
   "cell_type": "code",
   "execution_count": null,
   "metadata": {},
   "outputs": [],
   "source": [
    "r['arxiv_abstracts']\n",
    "from dol import zipfiledol"
   ]
  },
  {
   "cell_type": "code",
   "execution_count": 18,
   "metadata": {},
   "outputs": [
    {
     "ename": "ValueError",
     "evalue": "field_type must be one of typing.Literal['str', 'dict', 'tuple', 'namedtuple', 'simple_str']. Was: FilesOfZip('None', '', {}, <function ZipReader.FILES_ONLY at 0x108875510>)",
     "output_type": "error",
     "traceback": [
      "\u001b[0;31m---------------------------------------------------------------------------\u001b[0m",
      "\u001b[0;31mValueError\u001b[0m                                Traceback (most recent call last)",
      "Cell \u001b[0;32mIn[18], line 2\u001b[0m\n\u001b[1;32m      1\u001b[0m \u001b[38;5;28;01mfrom\u001b[39;00m \u001b[38;5;21;01mdol\u001b[39;00m \u001b[38;5;28;01mimport\u001b[39;00m FilesOfZip, remove_mac_junk_from_zip, Pipe, KeyTemplate, wrap_kvs\n\u001b[0;32m----> 2\u001b[0m \u001b[43mKeyTemplate\u001b[49m\u001b[43m(\u001b[49m\u001b[38;5;124;43m'\u001b[39;49m\u001b[38;5;132;43;01m{}\u001b[39;49;00m\u001b[38;5;124;43m.parquet\u001b[39;49m\u001b[38;5;124;43m'\u001b[39;49m\u001b[43m)\u001b[49m\u001b[38;5;241;43m.\u001b[39;49m\u001b[43mfilt_iter\u001b[49m\u001b[43m(\u001b[49m\u001b[43mz\u001b[49m\u001b[43m)\u001b[49m\n",
      "File \u001b[0;32m~/Dropbox/py/proj/i/dol/dol/paths.py:1421\u001b[0m, in \u001b[0;36mKeyTemplate.filt_iter\u001b[0;34m(self, field_type)\u001b[0m\n\u001b[1;32m   1410\u001b[0m \u001b[38;5;28;01mdef\u001b[39;00m \u001b[38;5;21mfilt_iter\u001b[39m(\u001b[38;5;28mself\u001b[39m, field_type: FieldTypeNames):\n\u001b[1;32m   1411\u001b[0m     \u001b[38;5;124mr\u001b[39m\u001b[38;5;124;03m\"\"\"\u001b[39;00m\n\u001b[1;32m   1412\u001b[0m \u001b[38;5;124;03m    Makes a store decorator that filters out keys that don't match the template\u001b[39;00m\n\u001b[1;32m   1413\u001b[0m \u001b[38;5;124;03m    given field type.\u001b[39;00m\n\u001b[0;32m   (...)\u001b[0m\n\u001b[1;32m   1419\u001b[0m \u001b[38;5;124;03m    ... }\u001b[39;00m\n\u001b[1;32m   1420\u001b[0m \u001b[38;5;124;03m    \"\"\"\u001b[39;00m\n\u001b[0;32m-> 1421\u001b[0m     \u001b[38;5;28;43mself\u001b[39;49m\u001b[38;5;241;43m.\u001b[39;49m\u001b[43m_assert_field_type\u001b[49m\u001b[43m(\u001b[49m\u001b[43mfield_type\u001b[49m\u001b[43m,\u001b[49m\u001b[43m \u001b[49m\u001b[38;5;124;43m'\u001b[39;49m\u001b[38;5;124;43mfield_type\u001b[39;49m\u001b[38;5;124;43m'\u001b[39;49m\u001b[43m)\u001b[49m\n\u001b[1;32m   1422\u001b[0m     filt_func \u001b[38;5;241m=\u001b[39m \u001b[38;5;28mgetattr\u001b[39m(\u001b[38;5;28mself\u001b[39m, \u001b[38;5;124mf\u001b[39m\u001b[38;5;124m'\u001b[39m\u001b[38;5;124mmatch_\u001b[39m\u001b[38;5;132;01m{\u001b[39;00mfield_type\u001b[38;5;132;01m}\u001b[39;00m\u001b[38;5;124m'\u001b[39m)\n\u001b[1;32m   1423\u001b[0m     \u001b[38;5;28;01mreturn\u001b[39;00m filt_iter(filt\u001b[38;5;241m=\u001b[39mfilt_func)\n",
      "File \u001b[0;32m~/Dropbox/py/proj/i/dol/dol/paths.py:1758\u001b[0m, in \u001b[0;36mKeyTemplate._assert_field_type\u001b[0;34m(field_type, name)\u001b[0m\n\u001b[1;32m   1755\u001b[0m \u001b[38;5;129m@staticmethod\u001b[39m\n\u001b[1;32m   1756\u001b[0m \u001b[38;5;28;01mdef\u001b[39;00m \u001b[38;5;21m_assert_field_type\u001b[39m(field_type: FieldTypeNames, name\u001b[38;5;241m=\u001b[39m\u001b[38;5;124m'\u001b[39m\u001b[38;5;124mfield_type\u001b[39m\u001b[38;5;124m'\u001b[39m):\n\u001b[1;32m   1757\u001b[0m     \u001b[38;5;28;01mif\u001b[39;00m field_type \u001b[38;5;129;01mnot\u001b[39;00m \u001b[38;5;129;01min\u001b[39;00m FieldTypeNames\u001b[38;5;241m.\u001b[39m__args__:\n\u001b[0;32m-> 1758\u001b[0m         \u001b[38;5;28;01mraise\u001b[39;00m \u001b[38;5;167;01mValueError\u001b[39;00m(\n\u001b[1;32m   1759\u001b[0m             \u001b[38;5;124mf\u001b[39m\u001b[38;5;124m'\u001b[39m\u001b[38;5;132;01m{\u001b[39;00mname\u001b[38;5;132;01m}\u001b[39;00m\u001b[38;5;124m must be one of \u001b[39m\u001b[38;5;132;01m{\u001b[39;00mFieldTypeNames\u001b[38;5;132;01m}\u001b[39;00m\u001b[38;5;124m. Was: \u001b[39m\u001b[38;5;132;01m{\u001b[39;00mfield_type\u001b[38;5;132;01m}\u001b[39;00m\u001b[38;5;124m'\u001b[39m\n\u001b[1;32m   1760\u001b[0m         )\n",
      "\u001b[0;31mValueError\u001b[0m: field_type must be one of typing.Literal['str', 'dict', 'tuple', 'namedtuple', 'simple_str']. Was: FilesOfZip('None', '', {}, <function ZipReader.FILES_ONLY at 0x108875510>)"
     ]
    }
   ],
   "source": [
    "from dol import FilesOfZip, remove_mac_junk_from_zip, Pipe, KeyTemplate, wrap_kvs\n",
    "KeyTemplate('{}.parquet').filt_iter(z)"
   ]
  },
  {
   "cell_type": "code",
   "execution_count": 5,
   "metadata": {},
   "outputs": [
    {
     "name": "stdout",
     "output_type": "stream",
     "text": [
      "len(z)=27\n"
     ]
    },
    {
     "data": {
      "text/plain": [
       "['arxiv_abstracts/abstracts_21.parquet',\n",
       " 'arxiv_abstracts/abstracts_1.parquet',\n",
       " 'arxiv_abstracts/abstracts_8.parquet',\n",
       " 'arxiv_abstracts/abstracts_17.parquet',\n",
       " 'arxiv_abstracts/verifyResults.py',\n",
       " 'arxiv_abstracts/abstracts_16.parquet',\n",
       " 'arxiv_abstracts/abstracts_9.parquet',\n",
       " 'arxiv_abstracts/abstracts_20.parquet',\n",
       " 'arxiv_abstracts/abstracts_14.parquet',\n",
       " 'arxiv_abstracts/abstracts_22.parquet',\n",
       " 'arxiv_abstracts/abstracts_2.parquet',\n",
       " 'arxiv_abstracts/abstracts_23.parquet',\n",
       " 'arxiv_abstracts/abstracts_3.parquet',\n",
       " 'arxiv_abstracts/params.txt',\n",
       " 'arxiv_abstracts/abstracts_15.parquet',\n",
       " 'arxiv_abstracts/exampleEmbed.py',\n",
       " 'arxiv_abstracts/README.md',\n",
       " 'arxiv_abstracts/abstracts_10.parquet',\n",
       " 'arxiv_abstracts/abstracts_19.parquet',\n",
       " 'arxiv_abstracts/abstracts_6.parquet',\n",
       " 'arxiv_abstracts/abstracts_7.parquet',\n",
       " 'arxiv_abstracts/abstracts_18.parquet',\n",
       " 'arxiv_abstracts/abstracts_11.parquet',\n",
       " 'arxiv_abstracts/abstracts_5.parquet',\n",
       " 'arxiv_abstracts/abstracts_13.parquet',\n",
       " 'arxiv_abstracts/abstracts_12.parquet',\n",
       " 'arxiv_abstracts/abstracts_4.parquet']"
      ]
     },
     "execution_count": 5,
     "metadata": {},
     "output_type": "execute_result"
    }
   ],
   "source": [
    "from dol import FilesOfZip, remove_mac_junk_from_zip, Pipe\n",
    "from imbed.util import graze\n",
    "\n",
    "arxiv_abstracts_url = (\n",
    "    'https://drive.google.com/file/d/1g3K-wlixFxklTSUQNZKpEgN4WNTFTPIZ/view?usp=share_link'\n",
    ")\n",
    "\n",
    "z = remove_mac_junk_from_zip(FilesOfZip(graze(arxiv_abstracts_url)))\n",
    "print(f\"{len(z)=}\")\n",
    "list(z)"
   ]
  },
  {
   "cell_type": "code",
   "execution_count": 13,
   "metadata": {},
   "outputs": [
    {
     "data": {
      "text/plain": [
       "['__abs__',\n",
       " '__add__',\n",
       " '__and__',\n",
       " '__bool__',\n",
       " '__ceil__',\n",
       " '__class__',\n",
       " '__delattr__',\n",
       " '__dir__',\n",
       " '__divmod__',\n",
       " '__doc__',\n",
       " '__eq__',\n",
       " '__float__',\n",
       " '__floor__',\n",
       " '__floordiv__',\n",
       " '__format__',\n",
       " '__ge__',\n",
       " '__getattribute__',\n",
       " '__getnewargs__',\n",
       " '__gt__',\n",
       " '__hash__',\n",
       " '__index__',\n",
       " '__init__',\n",
       " '__init_subclass__',\n",
       " '__int__',\n",
       " '__invert__',\n",
       " '__le__',\n",
       " '__lshift__',\n",
       " '__lt__',\n",
       " '__mod__',\n",
       " '__mul__',\n",
       " '__ne__',\n",
       " '__neg__',\n",
       " '__new__',\n",
       " '__or__',\n",
       " '__pos__',\n",
       " '__pow__',\n",
       " '__radd__',\n",
       " '__rand__',\n",
       " '__rdivmod__',\n",
       " '__reduce__',\n",
       " '__reduce_ex__',\n",
       " '__repr__',\n",
       " '__rfloordiv__',\n",
       " '__rlshift__',\n",
       " '__rmod__',\n",
       " '__rmul__',\n",
       " '__ror__',\n",
       " '__round__',\n",
       " '__rpow__',\n",
       " '__rrshift__',\n",
       " '__rshift__',\n",
       " '__rsub__',\n",
       " '__rtruediv__',\n",
       " '__rxor__',\n",
       " '__setattr__',\n",
       " '__sizeof__',\n",
       " '__str__',\n",
       " '__sub__',\n",
       " '__subclasshook__',\n",
       " '__truediv__',\n",
       " '__trunc__',\n",
       " '__xor__',\n",
       " 'as_integer_ratio',\n",
       " 'bit_count',\n",
       " 'bit_length',\n",
       " 'conjugate',\n",
       " 'denominator',\n",
       " 'from_bytes',\n",
       " 'imag',\n",
       " 'numerator',\n",
       " 'real',\n",
       " 'to_bytes']"
      ]
     },
     "execution_count": 13,
     "metadata": {},
     "output_type": "execute_result"
    }
   ],
   "source": [
    "# TODO:\n",
    "import tabled\n",
    "from typing import NewType, TypeVar\n",
    "\n",
    "blah = NewType('blah', str)\n",
    "t = blah(3)\n",
    "dir(t)\n",
    "\n"
   ]
  },
  {
   "cell_type": "code",
   "execution_count": 7,
   "metadata": {},
   "outputs": [
    {
     "name": "stdout",
     "output_type": "stream",
     "text": [
      "No claims are made about the copyright or license of contained materials. We assume no responsibilty for and are not liable under any circumstances for damages. Use at your own risk.\n",
      "\n",
      "Good luck, have fun.\n"
     ]
    }
   ],
   "source": [
    "print(z['arxiv_abstracts/README.md'].decode())"
   ]
  },
  {
   "cell_type": "code",
   "execution_count": 8,
   "metadata": {},
   "outputs": [
    {
     "data": {
      "text/plain": [
       "''"
      ]
     },
     "execution_count": 8,
     "metadata": {},
     "output_type": "execute_result"
    }
   ],
   "source": [
    "import os\n",
    "k = 'asdf'\n",
    "os.path.splitext(k)[1]"
   ]
  },
  {
   "cell_type": "code",
   "execution_count": 14,
   "metadata": {},
   "outputs": [
    {
     "data": {
      "text/plain": [
       "['add_prefix_filtering', 'filt_iter', 'path_filter']"
      ]
     },
     "execution_count": 14,
     "metadata": {},
     "output_type": "execute_result"
    }
   ],
   "source": [
    "import dol\n",
    "\n",
    "[x for x in dir(dol) if 'filt' in x]\n"
   ]
  },
  {
   "cell_type": "code",
   "execution_count": 4,
   "metadata": {},
   "outputs": [],
   "source": [
    "# remove_mac_junk_from_zip\n",
    "\n",
    "v = z['arxiv_abstracts/abstracts_21.parquet']"
   ]
  },
  {
   "cell_type": "code",
   "execution_count": 6,
   "metadata": {},
   "outputs": [
    {
     "data": {
      "text/html": [
       "<div>\n",
       "<style scoped>\n",
       "    .dataframe tbody tr th:only-of-type {\n",
       "        vertical-align: middle;\n",
       "    }\n",
       "\n",
       "    .dataframe tbody tr th {\n",
       "        vertical-align: top;\n",
       "    }\n",
       "\n",
       "    .dataframe thead th {\n",
       "        text-align: right;\n",
       "    }\n",
       "</style>\n",
       "<table border=\"1\" class=\"dataframe\">\n",
       "  <thead>\n",
       "    <tr style=\"text-align: right;\">\n",
       "      <th></th>\n",
       "      <th>abstract</th>\n",
       "      <th>embeddings</th>\n",
       "      <th>doi</th>\n",
       "    </tr>\n",
       "  </thead>\n",
       "  <tbody>\n",
       "    <tr>\n",
       "      <th>0</th>\n",
       "      <td>We study a single, motionless three-dimensio...</td>\n",
       "      <td>[-0.016700998, -0.026170395, -0.0017791224, 0....</td>\n",
       "      <td>cond-mat/9912225</td>\n",
       "    </tr>\n",
       "    <tr>\n",
       "      <th>1</th>\n",
       "      <td>We argue that effective 1D models of stripes...</td>\n",
       "      <td>[0.016688664, 0.03121568, 0.013161989, -0.0053...</td>\n",
       "      <td>cond-mat/9912226</td>\n",
       "    </tr>\n",
       "    <tr>\n",
       "      <th>2</th>\n",
       "      <td>We study numerically the one dimensional fer...</td>\n",
       "      <td>[0.012090295, 0.013782813, 0.009999216, -0.019...</td>\n",
       "      <td>cond-mat/9912227</td>\n",
       "    </tr>\n",
       "    <tr>\n",
       "      <th>3</th>\n",
       "      <td>We overview some recent work and present new...</td>\n",
       "      <td>[0.015418335, -0.005732018, -0.0061773793, 0.0...</td>\n",
       "      <td>cond-mat/9912228</td>\n",
       "    </tr>\n",
       "    <tr>\n",
       "      <th>4</th>\n",
       "      <td>An english translation of the original work ...</td>\n",
       "      <td>[0.011050525, 0.009937972, 0.00615069, -0.0062...</td>\n",
       "      <td>cond-mat/9912229</td>\n",
       "    </tr>\n",
       "    <tr>\n",
       "      <th>...</th>\n",
       "      <td>...</td>\n",
       "      <td>...</td>\n",
       "      <td>...</td>\n",
       "    </tr>\n",
       "    <tr>\n",
       "      <th>99995</th>\n",
       "      <td>We investigate the possible effects on the e...</td>\n",
       "      <td>[-0.014711679, -0.0066094864, -0.022661554, -0...</td>\n",
       "      <td>hep-th/0203099</td>\n",
       "    </tr>\n",
       "    <tr>\n",
       "      <th>99996</th>\n",
       "      <td>On a historical note, we first describe the ...</td>\n",
       "      <td>[0.029632337, 0.02915576, 0.007837505, -0.0168...</td>\n",
       "      <td>hep-th/0203100</td>\n",
       "    </tr>\n",
       "    <tr>\n",
       "      <th>99997</th>\n",
       "      <td>There is strong evidence that the area of an...</td>\n",
       "      <td>[0.012087484, -0.0109771425, -0.00483123, -0.0...</td>\n",
       "      <td>hep-th/0203101</td>\n",
       "    </tr>\n",
       "    <tr>\n",
       "      <th>99998</th>\n",
       "      <td>A three-dimensional simple N=1 supergravity ...</td>\n",
       "      <td>[-0.020591462, -0.0009915903, 0.031237133, -0....</td>\n",
       "      <td>hep-th/0203102</td>\n",
       "    </tr>\n",
       "    <tr>\n",
       "      <th>99999</th>\n",
       "      <td>We prove a relation between the asymptotic b...</td>\n",
       "      <td>[-0.02057323, 0.008114461, 0.018748483, 0.0051...</td>\n",
       "      <td>hep-th/0203103</td>\n",
       "    </tr>\n",
       "  </tbody>\n",
       "</table>\n",
       "<p>100000 rows × 3 columns</p>\n",
       "</div>"
      ],
      "text/plain": [
       "                                                abstract  \\\n",
       "0        We study a single, motionless three-dimensio...   \n",
       "1        We argue that effective 1D models of stripes...   \n",
       "2        We study numerically the one dimensional fer...   \n",
       "3        We overview some recent work and present new...   \n",
       "4        An english translation of the original work ...   \n",
       "...                                                  ...   \n",
       "99995    We investigate the possible effects on the e...   \n",
       "99996    On a historical note, we first describe the ...   \n",
       "99997    There is strong evidence that the area of an...   \n",
       "99998    A three-dimensional simple N=1 supergravity ...   \n",
       "99999    We prove a relation between the asymptotic b...   \n",
       "\n",
       "                                              embeddings               doi  \n",
       "0      [-0.016700998, -0.026170395, -0.0017791224, 0....  cond-mat/9912225  \n",
       "1      [0.016688664, 0.03121568, 0.013161989, -0.0053...  cond-mat/9912226  \n",
       "2      [0.012090295, 0.013782813, 0.009999216, -0.019...  cond-mat/9912227  \n",
       "3      [0.015418335, -0.005732018, -0.0061773793, 0.0...  cond-mat/9912228  \n",
       "4      [0.011050525, 0.009937972, 0.00615069, -0.0062...  cond-mat/9912229  \n",
       "...                                                  ...               ...  \n",
       "99995  [-0.014711679, -0.0066094864, -0.022661554, -0...    hep-th/0203099  \n",
       "99996  [0.029632337, 0.02915576, 0.007837505, -0.0168...    hep-th/0203100  \n",
       "99997  [0.012087484, -0.0109771425, -0.00483123, -0.0...    hep-th/0203101  \n",
       "99998  [-0.020591462, -0.0009915903, 0.031237133, -0....    hep-th/0203102  \n",
       "99999  [-0.02057323, 0.008114461, 0.018748483, 0.0051...    hep-th/0203103  \n",
       "\n",
       "[100000 rows x 3 columns]"
      ]
     },
     "execution_count": 6,
     "metadata": {},
     "output_type": "execute_result"
    }
   ],
   "source": [
    "import io\n",
    "import pandas as pd\n",
    "\n",
    "decoder = Pipe(\n",
    "    io.BytesIO,\n",
    "    pd.read_parquet\n",
    ")\n",
    "arxiv = decoder(v)\n",
    "arxiv"
   ]
  },
  {
   "cell_type": "markdown",
   "metadata": {},
   "source": [
    "## Langchain"
   ]
  },
  {
   "cell_type": "code",
   "execution_count": 51,
   "metadata": {},
   "outputs": [],
   "source": [
    "from langchain.embeddings.openai import OpenAIEmbeddings\n",
    "from langchain.schema import Document\n",
    "from langchain.vectorstores import Chroma\n",
    "\n",
    "embeddings = OpenAIEmbeddings()"
   ]
  },
  {
   "cell_type": "code",
   "execution_count": 50,
   "metadata": {},
   "outputs": [
    {
     "name": "stdout",
     "output_type": "stream",
     "text": [
      "1 2 3 4 5 6 7 8 9 10 11 12 13 14 15 16 17 18 19 20 21 22 23\n"
     ]
    }
   ],
   "source": [
    "from imbed.mdat.arxiv import get_abstracts_tables\n",
    "\n",
    "tables = get_abstracts_tables()\n",
    "print(*tables)"
   ]
  },
  {
   "cell_type": "code",
   "execution_count": 61,
   "metadata": {},
   "outputs": [],
   "source": [
    "table = next(iter(tables.values()))\n",
    "\n",
    "from langchain.schema import Document\n",
    "from itertools import repeat\n",
    "# make a langchain docs iterable\n",
    "\n",
    "\n",
    "class LangchainDocs:\n",
    "    def __init__(self, texts, metadatas=None):\n",
    "        self.texts = texts\n",
    "        self.metadatas = metadatas #or repeat({})  # same dict for all: TODO: change\n",
    "\n",
    "    def __iter__(self):\n",
    "        if self.metadatas is None:\n",
    "            return (Document(page_content=text) for text in self.texts)\n",
    "        else:\n",
    "            return (\n",
    "                Document(page_content=text, metadata=meta) \n",
    "                for text, meta in zip(self.texts, self.metadatas)\n",
    "            )\n",
    "        \n",
    "\n",
    "docs = LangchainDocs(\n",
    "    table['abstract'].values, \n",
    "    ({'doi': doi} for doi in table['doi'].iloc[:10000].values)\n",
    ")"
   ]
  },
  {
   "cell_type": "code",
   "execution_count": 62,
   "metadata": {},
   "outputs": [],
   "source": [
    "vectorstore = Chroma.from_documents(docs, embeddings)\n",
    "# 1m02 for 10000 docs"
   ]
  },
  {
   "cell_type": "code",
   "execution_count": 64,
   "metadata": {},
   "outputs": [
    {
     "ename": "ValueError",
     "evalue": "dictionary update sequence element #0 has length 1; 2 is required",
     "output_type": "error",
     "traceback": [
      "\u001b[0;31m---------------------------------------------------------------------------\u001b[0m",
      "\u001b[0;31mValueError\u001b[0m                                Traceback (most recent call last)",
      "Cell \u001b[0;32mIn[64], line 27\u001b[0m\n\u001b[1;32m      5\u001b[0m \u001b[38;5;66;03m# metadata_field_info = [\u001b[39;00m\n\u001b[1;32m      6\u001b[0m \u001b[38;5;66;03m#     AttributeInfo(\u001b[39;00m\n\u001b[1;32m      7\u001b[0m \u001b[38;5;66;03m#         name=\"genre\",\u001b[39;00m\n\u001b[0;32m   (...)\u001b[0m\n\u001b[1;32m     24\u001b[0m \u001b[38;5;66;03m# ]\u001b[39;00m\n\u001b[1;32m     25\u001b[0m \u001b[38;5;66;03m# document_content_description = \"Brief summary of a movie\"\u001b[39;00m\n\u001b[1;32m     26\u001b[0m llm \u001b[38;5;241m=\u001b[39m OpenAI(temperature\u001b[38;5;241m=\u001b[39m\u001b[38;5;241m0\u001b[39m)\n\u001b[0;32m---> 27\u001b[0m retriever \u001b[38;5;241m=\u001b[39m \u001b[43mSelfQueryRetriever\u001b[49m\u001b[38;5;241;43m.\u001b[39;49m\u001b[43mfrom_llm\u001b[49m\u001b[43m(\u001b[49m\n\u001b[1;32m     28\u001b[0m \u001b[43m    \u001b[49m\u001b[43mllm\u001b[49m\u001b[43m,\u001b[49m\u001b[43m \u001b[49m\u001b[43mvectorstore\u001b[49m\u001b[43m,\u001b[49m\u001b[43m \u001b[49m\u001b[38;5;124;43m'\u001b[39;49m\u001b[38;5;124;43mpage_content\u001b[39;49m\u001b[38;5;124;43m'\u001b[39;49m\u001b[43m,\u001b[49m\u001b[43m \u001b[49m\u001b[38;5;124;43m'\u001b[39;49m\u001b[38;5;124;43mmetadata\u001b[39;49m\u001b[38;5;124;43m'\u001b[39;49m\u001b[43m,\u001b[49m\u001b[43m \u001b[49m\u001b[43mverbose\u001b[49m\u001b[38;5;241;43m=\u001b[39;49m\u001b[38;5;28;43;01mTrue\u001b[39;49;00m\n\u001b[1;32m     29\u001b[0m \u001b[43m)\u001b[49m\n",
      "File \u001b[0;32m~/.pyenv/versions/3.10.8/lib/python3.10/site-packages/langchain/retrievers/self_query/base.py:225\u001b[0m, in \u001b[0;36mSelfQueryRetriever.from_llm\u001b[0;34m(cls, llm, vectorstore, document_contents, metadata_field_info, structured_query_translator, chain_kwargs, enable_limit, use_original_query, **kwargs)\u001b[0m\n\u001b[1;32m    218\u001b[0m \u001b[38;5;28;01mif\u001b[39;00m (\n\u001b[1;32m    219\u001b[0m     \u001b[38;5;124m\"\u001b[39m\u001b[38;5;124mallowed_operators\u001b[39m\u001b[38;5;124m\"\u001b[39m \u001b[38;5;129;01mnot\u001b[39;00m \u001b[38;5;129;01min\u001b[39;00m chain_kwargs\n\u001b[1;32m    220\u001b[0m     \u001b[38;5;129;01mand\u001b[39;00m structured_query_translator\u001b[38;5;241m.\u001b[39mallowed_operators \u001b[38;5;129;01mis\u001b[39;00m \u001b[38;5;129;01mnot\u001b[39;00m \u001b[38;5;28;01mNone\u001b[39;00m\n\u001b[1;32m    221\u001b[0m ):\n\u001b[1;32m    222\u001b[0m     chain_kwargs[\n\u001b[1;32m    223\u001b[0m         \u001b[38;5;124m\"\u001b[39m\u001b[38;5;124mallowed_operators\u001b[39m\u001b[38;5;124m\"\u001b[39m\n\u001b[1;32m    224\u001b[0m     ] \u001b[38;5;241m=\u001b[39m structured_query_translator\u001b[38;5;241m.\u001b[39mallowed_operators\n\u001b[0;32m--> 225\u001b[0m query_constructor \u001b[38;5;241m=\u001b[39m \u001b[43mload_query_constructor_runnable\u001b[49m\u001b[43m(\u001b[49m\n\u001b[1;32m    226\u001b[0m \u001b[43m    \u001b[49m\u001b[43mllm\u001b[49m\u001b[43m,\u001b[49m\n\u001b[1;32m    227\u001b[0m \u001b[43m    \u001b[49m\u001b[43mdocument_contents\u001b[49m\u001b[43m,\u001b[49m\n\u001b[1;32m    228\u001b[0m \u001b[43m    \u001b[49m\u001b[43mmetadata_field_info\u001b[49m\u001b[43m,\u001b[49m\n\u001b[1;32m    229\u001b[0m \u001b[43m    \u001b[49m\u001b[43menable_limit\u001b[49m\u001b[38;5;241;43m=\u001b[39;49m\u001b[43menable_limit\u001b[49m\u001b[43m,\u001b[49m\n\u001b[1;32m    230\u001b[0m \u001b[43m    \u001b[49m\u001b[38;5;241;43m*\u001b[39;49m\u001b[38;5;241;43m*\u001b[39;49m\u001b[43mchain_kwargs\u001b[49m\u001b[43m,\u001b[49m\n\u001b[1;32m    231\u001b[0m \u001b[43m\u001b[49m\u001b[43m)\u001b[49m\n\u001b[1;32m    232\u001b[0m \u001b[38;5;28;01mreturn\u001b[39;00m \u001b[38;5;28mcls\u001b[39m(\n\u001b[1;32m    233\u001b[0m     query_constructor\u001b[38;5;241m=\u001b[39mquery_constructor,\n\u001b[1;32m    234\u001b[0m     vectorstore\u001b[38;5;241m=\u001b[39mvectorstore,\n\u001b[0;32m   (...)\u001b[0m\n\u001b[1;32m    237\u001b[0m     \u001b[38;5;241m*\u001b[39m\u001b[38;5;241m*\u001b[39mkwargs,\n\u001b[1;32m    238\u001b[0m )\n",
      "File \u001b[0;32m~/.pyenv/versions/3.10.8/lib/python3.10/site-packages/langchain/chains/query_constructor/base.py:342\u001b[0m, in \u001b[0;36mload_query_constructor_runnable\u001b[0;34m(llm, document_contents, attribute_info, examples, allowed_comparators, allowed_operators, enable_limit, schema_prompt, fix_invalid, **kwargs)\u001b[0m\n\u001b[1;32m    309\u001b[0m \u001b[38;5;28;01mdef\u001b[39;00m \u001b[38;5;21mload_query_constructor_runnable\u001b[39m(\n\u001b[1;32m    310\u001b[0m     llm: BaseLanguageModel,\n\u001b[1;32m    311\u001b[0m     document_contents: \u001b[38;5;28mstr\u001b[39m,\n\u001b[0;32m   (...)\u001b[0m\n\u001b[1;32m    320\u001b[0m     \u001b[38;5;241m*\u001b[39m\u001b[38;5;241m*\u001b[39mkwargs: Any,\n\u001b[1;32m    321\u001b[0m ) \u001b[38;5;241m-\u001b[39m\u001b[38;5;241m>\u001b[39m Runnable:\n\u001b[1;32m    322\u001b[0m     \u001b[38;5;124;03m\"\"\"Load a query constructor runnable chain.\u001b[39;00m\n\u001b[1;32m    323\u001b[0m \n\u001b[1;32m    324\u001b[0m \u001b[38;5;124;03m    Args:\u001b[39;00m\n\u001b[0;32m   (...)\u001b[0m\n\u001b[1;32m    340\u001b[0m \u001b[38;5;124;03m        A Runnable that can be used to construct queries.\u001b[39;00m\n\u001b[1;32m    341\u001b[0m \u001b[38;5;124;03m    \"\"\"\u001b[39;00m\n\u001b[0;32m--> 342\u001b[0m     prompt \u001b[38;5;241m=\u001b[39m \u001b[43mget_query_constructor_prompt\u001b[49m\u001b[43m(\u001b[49m\n\u001b[1;32m    343\u001b[0m \u001b[43m        \u001b[49m\u001b[43mdocument_contents\u001b[49m\u001b[43m,\u001b[49m\n\u001b[1;32m    344\u001b[0m \u001b[43m        \u001b[49m\u001b[43mattribute_info\u001b[49m\u001b[43m,\u001b[49m\n\u001b[1;32m    345\u001b[0m \u001b[43m        \u001b[49m\u001b[43mexamples\u001b[49m\u001b[38;5;241;43m=\u001b[39;49m\u001b[43mexamples\u001b[49m\u001b[43m,\u001b[49m\n\u001b[1;32m    346\u001b[0m \u001b[43m        \u001b[49m\u001b[43mallowed_comparators\u001b[49m\u001b[38;5;241;43m=\u001b[39;49m\u001b[43mallowed_comparators\u001b[49m\u001b[43m,\u001b[49m\n\u001b[1;32m    347\u001b[0m \u001b[43m        \u001b[49m\u001b[43mallowed_operators\u001b[49m\u001b[38;5;241;43m=\u001b[39;49m\u001b[43mallowed_operators\u001b[49m\u001b[43m,\u001b[49m\n\u001b[1;32m    348\u001b[0m \u001b[43m        \u001b[49m\u001b[43menable_limit\u001b[49m\u001b[38;5;241;43m=\u001b[39;49m\u001b[43menable_limit\u001b[49m\u001b[43m,\u001b[49m\n\u001b[1;32m    349\u001b[0m \u001b[43m        \u001b[49m\u001b[43mschema_prompt\u001b[49m\u001b[38;5;241;43m=\u001b[39;49m\u001b[43mschema_prompt\u001b[49m\u001b[43m,\u001b[49m\n\u001b[1;32m    350\u001b[0m \u001b[43m        \u001b[49m\u001b[38;5;241;43m*\u001b[39;49m\u001b[38;5;241;43m*\u001b[39;49m\u001b[43mkwargs\u001b[49m\u001b[43m,\u001b[49m\n\u001b[1;32m    351\u001b[0m \u001b[43m    \u001b[49m\u001b[43m)\u001b[49m\n\u001b[1;32m    352\u001b[0m     allowed_attributes \u001b[38;5;241m=\u001b[39m []\n\u001b[1;32m    353\u001b[0m     \u001b[38;5;28;01mfor\u001b[39;00m ainfo \u001b[38;5;129;01min\u001b[39;00m attribute_info:\n",
      "File \u001b[0;32m~/.pyenv/versions/3.10.8/lib/python3.10/site-packages/langchain/chains/query_constructor/base.py:225\u001b[0m, in \u001b[0;36mget_query_constructor_prompt\u001b[0;34m(document_contents, attribute_info, examples, allowed_comparators, allowed_operators, enable_limit, schema_prompt, **kwargs)\u001b[0m\n\u001b[1;32m    221\u001b[0m default_schema_prompt \u001b[38;5;241m=\u001b[39m (\n\u001b[1;32m    222\u001b[0m     SCHEMA_WITH_LIMIT_PROMPT \u001b[38;5;28;01mif\u001b[39;00m enable_limit \u001b[38;5;28;01melse\u001b[39;00m DEFAULT_SCHEMA_PROMPT\n\u001b[1;32m    223\u001b[0m )\n\u001b[1;32m    224\u001b[0m schema_prompt \u001b[38;5;241m=\u001b[39m schema_prompt \u001b[38;5;129;01mor\u001b[39;00m default_schema_prompt\n\u001b[0;32m--> 225\u001b[0m attribute_str \u001b[38;5;241m=\u001b[39m \u001b[43m_format_attribute_info\u001b[49m\u001b[43m(\u001b[49m\u001b[43mattribute_info\u001b[49m\u001b[43m)\u001b[49m\n\u001b[1;32m    226\u001b[0m schema \u001b[38;5;241m=\u001b[39m schema_prompt\u001b[38;5;241m.\u001b[39mformat(\n\u001b[1;32m    227\u001b[0m     allowed_comparators\u001b[38;5;241m=\u001b[39m\u001b[38;5;124m\"\u001b[39m\u001b[38;5;124m | \u001b[39m\u001b[38;5;124m\"\u001b[39m\u001b[38;5;241m.\u001b[39mjoin(allowed_comparators),\n\u001b[1;32m    228\u001b[0m     allowed_operators\u001b[38;5;241m=\u001b[39m\u001b[38;5;124m\"\u001b[39m\u001b[38;5;124m | \u001b[39m\u001b[38;5;124m\"\u001b[39m\u001b[38;5;241m.\u001b[39mjoin(allowed_operators),\n\u001b[1;32m    229\u001b[0m )\n\u001b[1;32m    230\u001b[0m \u001b[38;5;28;01mif\u001b[39;00m examples \u001b[38;5;129;01mand\u001b[39;00m \u001b[38;5;28misinstance\u001b[39m(examples[\u001b[38;5;241m0\u001b[39m], \u001b[38;5;28mtuple\u001b[39m):\n",
      "File \u001b[0;32m~/.pyenv/versions/3.10.8/lib/python3.10/site-packages/langchain/chains/query_constructor/base.py:165\u001b[0m, in \u001b[0;36m_format_attribute_info\u001b[0;34m(info)\u001b[0m\n\u001b[1;32m    163\u001b[0m info_dicts \u001b[38;5;241m=\u001b[39m {}\n\u001b[1;32m    164\u001b[0m \u001b[38;5;28;01mfor\u001b[39;00m i \u001b[38;5;129;01min\u001b[39;00m info:\n\u001b[0;32m--> 165\u001b[0m     i_dict \u001b[38;5;241m=\u001b[39m \u001b[38;5;28;43mdict\u001b[39;49m\u001b[43m(\u001b[49m\u001b[43mi\u001b[49m\u001b[43m)\u001b[49m\n\u001b[1;32m    166\u001b[0m     info_dicts[i_dict\u001b[38;5;241m.\u001b[39mpop(\u001b[38;5;124m\"\u001b[39m\u001b[38;5;124mname\u001b[39m\u001b[38;5;124m\"\u001b[39m)] \u001b[38;5;241m=\u001b[39m i_dict\n\u001b[1;32m    167\u001b[0m \u001b[38;5;28;01mreturn\u001b[39;00m json\u001b[38;5;241m.\u001b[39mdumps(info_dicts, indent\u001b[38;5;241m=\u001b[39m\u001b[38;5;241m4\u001b[39m)\u001b[38;5;241m.\u001b[39mreplace(\u001b[38;5;124m\"\u001b[39m\u001b[38;5;124m{\u001b[39m\u001b[38;5;124m\"\u001b[39m, \u001b[38;5;124m\"\u001b[39m\u001b[38;5;124m{{\u001b[39m\u001b[38;5;124m\"\u001b[39m)\u001b[38;5;241m.\u001b[39mreplace(\u001b[38;5;124m\"\u001b[39m\u001b[38;5;124m}\u001b[39m\u001b[38;5;124m\"\u001b[39m, \u001b[38;5;124m\"\u001b[39m\u001b[38;5;124m}}\u001b[39m\u001b[38;5;124m\"\u001b[39m)\n",
      "\u001b[0;31mValueError\u001b[0m: dictionary update sequence element #0 has length 1; 2 is required"
     ]
    }
   ],
   "source": [
    "from langchain.chains.query_constructor.base import AttributeInfo\n",
    "from langchain.llms import OpenAI\n",
    "from langchain.retrievers.self_query.base import SelfQueryRetriever\n",
    "\n",
    "# metadata_field_info = [\n",
    "#     AttributeInfo(\n",
    "#         name=\"genre\",\n",
    "#         description=\"The genre of the movie\",\n",
    "#         type=\"string or list[string]\",\n",
    "#     ),\n",
    "#     AttributeInfo(\n",
    "#         name=\"year\",\n",
    "#         description=\"The year the movie was released\",\n",
    "#         type=\"integer\",\n",
    "#     ),\n",
    "#     AttributeInfo(\n",
    "#         name=\"director\",\n",
    "#         description=\"The name of the movie director\",\n",
    "#         type=\"string\",\n",
    "#     ),\n",
    "#     AttributeInfo(\n",
    "#         name=\"rating\", description=\"A 1-10 rating for the movie\", type=\"float\"\n",
    "#     ),\n",
    "# ]\n",
    "# document_content_description = \"Brief summary of a movie\"\n",
    "llm = OpenAI(temperature=0)\n",
    "# retriever = SelfQueryRetriever.from_llm(\n",
    "#     llm, vectorstore, 'page_content', 'metadata', verbose=True\n",
    "# )\n"
   ]
  },
  {
   "cell_type": "code",
   "execution_count": null,
   "metadata": {},
   "outputs": [],
   "source": []
  },
  {
   "cell_type": "markdown",
   "metadata": {},
   "source": [
    "# Scrap"
   ]
  },
  {
   "cell_type": "code",
   "execution_count": null,
   "metadata": {},
   "outputs": [],
   "source": []
  },
  {
   "cell_type": "code",
   "execution_count": null,
   "metadata": {},
   "outputs": [],
   "source": []
  },
  {
   "cell_type": "code",
   "execution_count": null,
   "metadata": {},
   "outputs": [],
   "source": []
  },
  {
   "cell_type": "markdown",
   "metadata": {},
   "source": []
  }
 ],
 "metadata": {
  "kernelspec": {
   "display_name": "Python 3",
   "language": "python",
   "name": "python3"
  },
  "language_info": {
   "codemirror_mode": {
    "name": "ipython",
    "version": 3
   },
   "file_extension": ".py",
   "mimetype": "text/x-python",
   "name": "python",
   "nbconvert_exporter": "python",
   "pygments_lexer": "ipython3",
   "version": "3.10.8"
  }
 },
 "nbformat": 4,
 "nbformat_minor": 2
}
