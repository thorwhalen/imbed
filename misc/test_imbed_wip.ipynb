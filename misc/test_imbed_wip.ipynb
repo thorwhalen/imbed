def test_init_argument_names():
    """
    Test the init_argument_names function.
    
    >>> @dataclass
    ... class DataClass:
    ...     x: str
    ...     y: float = 2
    ...     z = 3
    >>> init_argument_names(DataClass)
    ['x', 'y', 'z']
    """
    passimport unittest
from typing import List
from inspect import Signature as Sig

def init_argument_names(cls) -> List[str]:
    """Get the list of argument names"""
    return Sig(cls).names

class TestInitArgumentNames(unittest.TestCase):
    def test_init_argument_names(self):
        class MyClass:
            def __init__(self, arg1, arg2, arg3):
                pass

        expected_result = ['self', 'arg1', 'arg2', 'arg3']
        result = init_argument_names(MyClass)
        self.assertEqual(result, expected_result)

if __name__ == '__main__':
    unittest.main()